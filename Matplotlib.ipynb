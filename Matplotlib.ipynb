{
 "metadata": {
  "name": "",
  "signature": "sha256:9d2a68ab25d30fe609664b04cae896c32f3dc515e10c0985e415f8bf54d7503c"
 },
 "nbformat": 3,
 "nbformat_minor": 0,
 "worksheets": [
  {
   "cells": [
    {
     "cell_type": "code",
     "collapsed": false,
     "input": [
      "%load_ext load_style\n",
      "%load_style talk.css"
     ],
     "language": "python",
     "metadata": {},
     "outputs": [
      {
       "html": [
        "<style>\n",
        "\n",
        ".rendered_html {\n",
        "    font-family: \"proxima-nova\", helvetica;\n",
        "    font-size: 130%;\n",
        "    line-height: 1.5;\n",
        "}\n",
        "\n",
        ".rendered_html h1 {\n",
        "    margin: 0.25em 0em 0.5em;\n",
        "    color: #015C9C;\n",
        "    text-align: center;\n",
        "    line-height: 1.2; \n",
        "    page-break-before: always;\n",
        "}\n",
        "\n",
        ".rendered_html h2 {\n",
        "    margin: 1.1em 0em 0.5em;\n",
        "    color: #26465D;\n",
        "    line-height: 1.2;\n",
        "}\n",
        "\n",
        ".rendered_html h3 {\n",
        "    margin: 1.1em 0em 0.5em;\n",
        "    color: #002845;\n",
        "    line-height: 1.2;\n",
        "}\n",
        "\n",
        ".rendered_html li {\n",
        "    line-height: 1.5; \n",
        "}\n",
        "\n",
        "/*.prompt {\n",
        "    font-size: 120%; \n",
        "}*/\n",
        "\n",
        ".CodeMirror-lines {\n",
        "    font-size: 110%; \n",
        "}\n",
        "\n",
        "/*.output_area {\n",
        "    font-size: 120%; \n",
        "}*/\n",
        "\n",
        "/*#notebook {\n",
        "    background-image: url('files/images/witewall_3.png');\n",
        "}*/\n",
        "\n",
        "h1.bigtitle {\n",
        "    margin: 4cm 1cm 4cm 1cm;\n",
        "    font-size: 300%;\n",
        "}\n",
        "\n",
        "h3.point {\n",
        "    font-size: 200%;\n",
        "    text-align: center;\n",
        "    margin: 2em 0em 2em 0em;\n",
        "    #26465D\n",
        "}\n",
        "\n",
        ".logo {\n",
        "    margin: 20px 0 20px 0;\n",
        "}\n",
        "\n",
        "a.anchor-link {\n",
        "    display: none;\n",
        "}\n",
        "\n",
        "h1.title { \n",
        "    font-size: 250%;\n",
        "}\n",
        "\n",
        "</style>"
       ],
       "metadata": {},
       "output_type": "display_data",
       "text": [
        "<IPython.core.display.HTML at 0x104443c10>"
       ]
      }
     ],
     "prompt_number": 1
    },
    {
     "cell_type": "heading",
     "level": 1,
     "metadata": {},
     "source": [
      "Matplotlib"
     ]
    },
    {
     "cell_type": "markdown",
     "metadata": {},
     "source": [
      "Matplotlib in a few words\n",
      "\n",
      "+ *Matlab - like* plotting as well as object-oriented API\n",
      "+ publication quality, many output formats\n",
      "+ you can control **everything**\n",
      "+ relatively smooth learning curve if you come from Matlab"
     ]
    },
    {
     "cell_type": "code",
     "collapsed": false,
     "input": [
      "from IPython.display import Image, HTML"
     ],
     "language": "python",
     "metadata": {},
     "outputs": []
    },
    {
     "cell_type": "code",
     "collapsed": false,
     "input": [
      "HTML('<iframe src=http://matplotlib.org width=1000 height=400></iframe>')"
     ],
     "language": "python",
     "metadata": {},
     "outputs": []
    },
    {
     "cell_type": "code",
     "collapsed": false,
     "input": [
      "HTML('<iframe src=http://matplotlib.org/gallery.html width=1000 height=400></iframe>')"
     ],
     "language": "python",
     "metadata": {},
     "outputs": []
    },
    {
     "cell_type": "code",
     "collapsed": false,
     "input": [
      "import matplotlib\n",
      "from matplotlib import pyplot as plt # conventional way to import the plotting interface of matplotlib\n",
      "import numpy as np"
     ],
     "language": "python",
     "metadata": {},
     "outputs": []
    },
    {
     "cell_type": "markdown",
     "metadata": {},
     "source": [
      "Matplotlib can use different `backends`, in the first part of this notebook, we use the IPython notebook backend (`inline`)"
     ]
    },
    {
     "cell_type": "code",
     "collapsed": false,
     "input": [
      "%matplotlib inline"
     ],
     "language": "python",
     "metadata": {},
     "outputs": []
    },
    {
     "cell_type": "code",
     "collapsed": false,
     "input": [
      "print matplotlib.rcParams['backend']"
     ],
     "language": "python",
     "metadata": {},
     "outputs": []
    },
    {
     "cell_type": "code",
     "collapsed": false,
     "input": [
      "x = np.linspace(0, 10, 1000)\n",
      "plt.plot(x, np.sin(x))"
     ],
     "language": "python",
     "metadata": {},
     "outputs": []
    },
    {
     "cell_type": "heading",
     "level": 2,
     "metadata": {},
     "source": [
      "Matlab-like interactive plotting"
     ]
    },
    {
     "cell_type": "markdown",
     "metadata": {},
     "source": [
      "Matplotlib was originally designed to have an interface similar to that of matlab.\n",
      "For this reason, the library maintains pointers to the currently active figure and\n",
      "axes, and makes simple plots straightforward to create.  For example:"
     ]
    },
    {
     "cell_type": "code",
     "collapsed": false,
     "input": [
      "plt.figure()  # this is optional: if you just call plot(), a figure will be created\n",
      "plt.plot(x, np.sin(x))\n",
      "plt.title('plot 1: sine')\n",
      "\n",
      "plt.figure()\n",
      "plt.plot(x, np.cos(x))\n",
      "plt.title('plot 2: cosine')"
     ],
     "language": "python",
     "metadata": {},
     "outputs": []
    },
    {
     "cell_type": "heading",
     "level": 2,
     "metadata": {},
     "source": [
      "Object-oriented Matplotlib"
     ]
    },
    {
     "cell_type": "markdown",
     "metadata": {},
     "source": [
      "This is fine for simple plots, but when you start wanting to do more powerful\n",
      "things, it can get a little bit tricky.  A better way to approach it might\n",
      "be like this:"
     ]
    },
    {
     "cell_type": "code",
     "collapsed": false,
     "input": [
      "fig1 = plt.figure()\n",
      "ax1 = fig1.add_subplot(1, 1, 1)\n",
      "ax1.plot(x, np.sin(x))\n",
      "ax1.set_title('sine')\n",
      "\n",
      "fig2 = plt.figure()\n",
      "ax2 = fig2.add_subplot(1, 1, 1)\n",
      "ax2.plot(x, np.cos(x))\n",
      "ax2.set_title('cosine')"
     ],
     "language": "python",
     "metadata": {},
     "outputs": []
    },
    {
     "cell_type": "markdown",
     "metadata": {},
     "source": [
      "In this instance, all the typing might seem a bit gratuitous.  But as our plot\n",
      "objects get more and more complicated, explicitly keeping track of the figures\n",
      "and axes will make our lives increasingly easier.\n",
      "\n",
      "Also, because we don't care about which plot is active at any given time, it\n",
      "gives us the freedom to write code in any order.  The following generates\n",
      "the same plot output as the previous snippet, but makes more clear the\n",
      "relationship between the two figures:"
     ]
    },
    {
     "cell_type": "code",
     "collapsed": false,
     "input": [
      "fig1 = plt.figure()\n",
      "fig2 = plt.figure()\n",
      "\n",
      "ax1 = fig1.add_subplot(1, 1, 1)\n",
      "ax2 = fig2.add_subplot(1, 1, 1)\n",
      "\n",
      "ax1.plot(x, np.sin(x))\n",
      "ax2.plot(x, np.cos(x))\n",
      "\n",
      "ax1.set_title('sine')\n",
      "ax2.set_title('cosine')"
     ],
     "language": "python",
     "metadata": {},
     "outputs": []
    },
    {
     "cell_type": "heading",
     "level": 3,
     "metadata": {},
     "source": [
      "Other Object Types"
     ]
    },
    {
     "cell_type": "markdown",
     "metadata": {},
     "source": [
      "One thing that will be important to recognize for this tutorial is that each and every\n",
      "plot element in matplotlib has an associated object that can be passed around and\n",
      "manipulated. To do this, we will use the 'MacOSX' backend: the plots will be displayed in a separate window"
     ]
    },
    {
     "cell_type": "code",
     "collapsed": false,
     "input": [
      "%matplotlib osx "
     ],
     "language": "python",
     "metadata": {},
     "outputs": []
    },
    {
     "cell_type": "code",
     "collapsed": false,
     "input": [
      "print matplotlib.rcParams['backend']"
     ],
     "language": "python",
     "metadata": {},
     "outputs": []
    },
    {
     "cell_type": "markdown",
     "metadata": {},
     "source": [
      "In a **script** you generally don't need to specify the backend, if you need to you can call: \n",
      "```\n",
      "import matplotlib \n",
      "matplotlib.use('MacOSX ')\n",
      "```\n",
      "\n",
      "At the beginning of the script, *before* you import the pyplot interface with \n",
      "\n",
      "```\n",
      "from matplotlib import pyplot as plt\n",
      "```\n",
      "\n",
      "See the list of available backends (interactive and non-interactive) at: \n",
      "\n",
      "[http://matplotlib.org/faq/usage_faq.html#what-is-a-backend](http://matplotlib.org/faq/usage_faq.html#what-is-a-backend)"
     ]
    },
    {
     "cell_type": "code",
     "collapsed": false,
     "input": [
      "x = np.linspace(0, 10, 1000)\n",
      "\n",
      "fig, ax = plt.subplots()\n",
      "lines = ax.plot(x, np.sin(x))\n",
      "fig.show()"
     ],
     "language": "python",
     "metadata": {},
     "outputs": []
    },
    {
     "cell_type": "markdown",
     "metadata": {},
     "source": [
      "Now that we've created the plot, we can adjust the attributes of the `Line2D`\n",
      "instance.  In general, any keyword in the ``plot`` command has an associated\n",
      "``set_`` command.\n",
      "\n",
      "After setting the different parameters, we can call the ``draw()`` method of\n",
      "the figure canvas to make the plot reflect the changes."
     ]
    },
    {
     "cell_type": "code",
     "collapsed": false,
     "input": [
      "lines[0].set_color('green')\n",
      "fig.canvas.draw()"
     ],
     "language": "python",
     "metadata": {},
     "outputs": []
    },
    {
     "cell_type": "code",
     "collapsed": false,
     "input": [
      "lines[0].set_linewidth(6)\n",
      "fig.canvas.draw()"
     ],
     "language": "python",
     "metadata": {},
     "outputs": []
    },
    {
     "cell_type": "markdown",
     "metadata": {},
     "source": [
      "Other plot elements can be manipulated as well.  For example, text:"
     ]
    },
    {
     "cell_type": "code",
     "collapsed": false,
     "input": [
      "txt = plt.text(0.4, 0.5, \"Hello\")"
     ],
     "language": "python",
     "metadata": {},
     "outputs": []
    },
    {
     "cell_type": "code",
     "collapsed": false,
     "input": [
      "txt.set_size(20)\n",
      "txt.set_color('blue')\n",
      "fig.canvas.draw()"
     ],
     "language": "python",
     "metadata": {},
     "outputs": []
    },
    {
     "cell_type": "markdown",
     "metadata": {},
     "source": [
      "You can also dynamically change the location of the text:"
     ]
    },
    {
     "cell_type": "code",
     "collapsed": false,
     "input": [
      "txt.set_x(7)\n",
      "txt.set_y(-0.5)\n",
      "fig.canvas.draw()"
     ],
     "language": "python",
     "metadata": {},
     "outputs": []
    },
    {
     "cell_type": "markdown",
     "metadata": {},
     "source": [
      "Similarly, you can even dynamically change the locations of each point\n",
      "in the line!  For example, changing the y data looks like this:"
     ]
    },
    {
     "cell_type": "code",
     "collapsed": false,
     "input": [
      "lines[0].set_ydata(np.sin(2 * x))\n",
      "fig.canvas.draw()"
     ],
     "language": "python",
     "metadata": {},
     "outputs": []
    },
    {
     "cell_type": "markdown",
     "metadata": {},
     "source": [
      "This sort of operation can be used to create simple animations -- for example:"
     ]
    },
    {
     "cell_type": "code",
     "collapsed": false,
     "input": [
      "for i in range(100):\n",
      "    lines[0].set_ydata(np.sin(x + 0.1 * i))\n",
      "    fig.canvas.draw()"
     ],
     "language": "python",
     "metadata": {},
     "outputs": []
    },
    {
     "cell_type": "markdown",
     "metadata": {},
     "source": [
      "Please note that this is NOT a good way to create animations in\n",
      "matplotlib.  For that rather use the purpose-build ``animation`` submodule."
     ]
    },
    {
     "cell_type": "markdown",
     "metadata": {},
     "source": [
      "Different plot elements have different setter attributes.  IPython can be\n",
      "a useful tool in figuring these things out: use the tab-completion to\n",
      "determine what can be set.  Many of these values are internal parameters that\n",
      "you probably will not need, but some of them can give you interesting\n",
      "results:"
     ]
    },
    {
     "cell_type": "code",
     "collapsed": false,
     "input": [
      "txt.s"
     ],
     "language": "python",
     "metadata": {},
     "outputs": []
    },
    {
     "cell_type": "heading",
     "level": 2,
     "metadata": {},
     "source": [
      "styles in matplotlib (available from version 1.4)"
     ]
    },
    {
     "cell_type": "code",
     "collapsed": false,
     "input": [
      "# back to the inline backend \n",
      "%matplotlib inline "
     ],
     "language": "python",
     "metadata": {},
     "outputs": []
    },
    {
     "cell_type": "code",
     "collapsed": false,
     "input": [
      "from matplotlib import style"
     ],
     "language": "python",
     "metadata": {},
     "outputs": []
    },
    {
     "cell_type": "code",
     "collapsed": false,
     "input": [
      "style.available"
     ],
     "language": "python",
     "metadata": {},
     "outputs": []
    },
    {
     "cell_type": "code",
     "collapsed": false,
     "input": [
      "style.use('dark_background')"
     ],
     "language": "python",
     "metadata": {},
     "outputs": []
    },
    {
     "cell_type": "code",
     "collapsed": false,
     "input": [
      "plt.figure(figsize=(10,8))\n",
      "plt.hist(np.random.randn(1000), bins=20, normed=True)\n",
      "plt.title('histogram')\n",
      "plt.grid()"
     ],
     "language": "python",
     "metadata": {},
     "outputs": []
    },
    {
     "cell_type": "heading",
     "level": 2,
     "metadata": {},
     "source": [
      "and for fun, XKCD - style plots in Matplotlib"
     ]
    },
    {
     "cell_type": "code",
     "collapsed": false,
     "input": [
      "Image('http://imgs.xkcd.com/comics/front_door.png')"
     ],
     "language": "python",
     "metadata": {},
     "outputs": []
    },
    {
     "cell_type": "code",
     "collapsed": false,
     "input": [
      "plt.xkcd()"
     ],
     "language": "python",
     "metadata": {},
     "outputs": []
    },
    {
     "cell_type": "code",
     "collapsed": false,
     "input": [
      "fig = plt.figure()\n",
      "ax = fig.add_subplot(1, 1, 1)\n",
      "ax.plot(x, np.sin(x))\n",
      "ax.set_title('sine')"
     ],
     "language": "python",
     "metadata": {},
     "outputs": []
    }
   ],
   "metadata": {}
  }
 ]
}