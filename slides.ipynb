{
 "metadata": {
  "celltoolbar": "Slideshow",
  "name": "",
  "signature": "sha256:77cdf6cad2b89c0f01affccbbbe649966aaceb4c821f80e32c3a4368a6cd7e13"
 },
 "nbformat": 3,
 "nbformat_minor": 0,
 "worksheets": [
  {
   "cells": [
    {
     "cell_type": "code",
     "collapsed": false,
     "input": [
      "%load_ext load_style\n",
      "%load_style talk.css"
     ],
     "language": "python",
     "metadata": {
      "slideshow": {
       "slide_type": "skip"
      }
     },
     "outputs": [
      {
       "html": [
        "<style>\n",
        "\n",
        ".rendered_html {\n",
        "    font-family: \"proxima-nova\", helvetica;\n",
        "    font-size: 130%;\n",
        "    line-height: 1.5;\n",
        "}\n",
        "\n",
        ".rendered_html h1 {\n",
        "    margin: 0.25em 0em 0.5em;\n",
        "    color: #015C9C;\n",
        "    text-align: center;\n",
        "    line-height: 1.2; \n",
        "    page-break-before: always;\n",
        "}\n",
        "\n",
        ".rendered_html h2 {\n",
        "    margin: 1.1em 0em 0.5em;\n",
        "    color: #26465D;\n",
        "    line-height: 1.2;\n",
        "}\n",
        "\n",
        ".rendered_html h3 {\n",
        "    margin: 1.1em 0em 0.5em;\n",
        "    color: #002845;\n",
        "    line-height: 1.2;\n",
        "}\n",
        "\n",
        ".rendered_html li {\n",
        "    line-height: 1.5; \n",
        "}\n",
        "\n",
        "/*.prompt {\n",
        "    font-size: 120%; \n",
        "}*/\n",
        "\n",
        ".CodeMirror-lines {\n",
        "    font-size: 110%; \n",
        "}\n",
        "\n",
        "/*.output_area {\n",
        "    font-size: 120%; \n",
        "}*/\n",
        "\n",
        "/*#notebook {\n",
        "    background-image: url('files/images/witewall_3.png');\n",
        "}*/\n",
        "\n",
        "h1.bigtitle {\n",
        "    margin: 4cm 1cm 4cm 1cm;\n",
        "    font-size: 300%;\n",
        "}\n",
        "\n",
        "h3.point {\n",
        "    font-size: 200%;\n",
        "    text-align: center;\n",
        "    margin: 2em 0em 2em 0em;\n",
        "    #26465D\n",
        "}\n",
        "\n",
        ".logo {\n",
        "    margin: 20px 0 20px 0;\n",
        "}\n",
        "\n",
        "a.anchor-link {\n",
        "    display: none;\n",
        "}\n",
        "\n",
        "h1.title { \n",
        "    font-size: 250%;\n",
        "}\n",
        "\n",
        "</style>"
       ],
       "metadata": {},
       "output_type": "display_data",
       "text": [
        "<IPython.core.display.HTML at 0x10456bc50>"
       ]
      }
     ],
     "prompt_number": 1
    },
    {
     "cell_type": "markdown",
     "metadata": {
      "slideshow": {
       "slide_type": "slide"
      }
     },
     "source": [
      "<center>\n",
      "<font size=25>\n",
      "<b>\n",
      "Python and the pydata ecosystem \n",
      "\n",
      "for data analysis  \n",
      "</b>\n",
      "</font>\n",
      "\n",
      "<br>\n",
      "\n",
      "\n",
      "[Nicolas Fauchereau](mailto:Nicolas.Fauchereau@gmail.com)  \n",
      "Kiwi Pycon 2014  \n",
      "12 September 2014  \n",
      "Wellington\n",
      "\n",
      "\n",
      "</center>\n",
      "\n"
     ]
    },
    {
     "cell_type": "heading",
     "level": 2,
     "metadata": {
      "slideshow": {
       "slide_type": "slide"
      }
     },
     "source": [
      "<center>\n",
      "<font size=25>\n",
      "Introduction \n",
      "</font>"
     ]
    },
    {
     "cell_type": "markdown",
     "metadata": {
      "slideshow": {
       "slide_type": "subslide"
      }
     },
     "source": [
      "<center>\n",
      "\n",
      "Nicolas Fauchereau [[Nicolas.Fauchereau@gmail.com]](mailto:Nicolas.Fauchereau@gmail.com)  \n",
      "<br>\n",
      "Climate Scientist at [NIWA](www.niwa.co.nz)  \n",
      "<br>\n",
      "Applied (e.g. seasonal forecasts, ...) and fundamental research (paleo-climatology, ...)  \n",
      "<br>\n",
      "Reformed Matlab and R user  \n",
      "<br>\n",
      "Now use Python (dabbling in [Julia](http://julialang.org/)) for data processing, statistical analysis and modelling, visualisation ... \n",
      "</center>"
     ]
    },
    {
     "cell_type": "heading",
     "level": 2,
     "metadata": {
      "slideshow": {
       "slide_type": "slide"
      }
     },
     "source": [
      "<center>\n",
      "<font size=25>\n",
      "Material \n",
      "</font>"
     ]
    },
    {
     "cell_type": "markdown",
     "metadata": {
      "slideshow": {
       "slide_type": "subslide"
      }
     },
     "source": [
      "**Kiwi Pycon tutorial** \n",
      "\n",
      "**12 September 2014** \n",
      "\n",
      "Email: <mailto:Nicolas.Fauchereau@gmail.com>\n",
      "\n",
      "All the material is available at:\n",
      "\n",
      "http://nicolasfauchereau.github.io/Kiwi_pycon/\n",
      "\n",
      "If you have git installed, you can clone my repository (from the command line): \n",
      "\n",
      "    git clone https://github.com/nicolasfauchereau/Kiwi_pycon.git\n"
     ]
    },
    {
     "cell_type": "heading",
     "level": 2,
     "metadata": {
      "slideshow": {
       "slide_type": "slide"
      }
     },
     "source": [
      "<center>\n",
      "<font size=25>\n",
      "Structure of the tutorial\n",
      "</font>\n",
      "</center>"
     ]
    },
    {
     "cell_type": "markdown",
     "metadata": {
      "slideshow": {
       "slide_type": "subslide"
      }
     },
     "source": [
      "1. [Introduction](./Introduction.ipynb)\n",
      "2. [The IPython notebook](./IPython_notebook.ipynb)\n",
      "3. [IPython notebook widgets]('./IPython_widgets.ipynb): optional  \n",
      "\n",
      "4. [Numpy](./Numpy.ipynb)\n",
      "5. [Scipy](./Scipy.ipynb)\n",
      "6. [Matplotlib](./Matplotlib.ipynb)\n",
      "7. [Interactive plots: beyond Matplotlib]('./Interactive_plots.ipynb'): optional  \n",
      "8. [Pandas](./Pandas.ipynb)  \n",
      "9. [statsmodels and scikit-learn](./statistical_modelling.ipynb)"
     ]
    },
    {
     "cell_type": "heading",
     "level": 2,
     "metadata": {
      "slideshow": {
       "slide_type": "slide"
      }
     },
     "source": [
      "some notes on the anaconda python distribution and the conda manager"
     ]
    },
    {
     "cell_type": "markdown",
     "metadata": {
      "slideshow": {
       "slide_type": "slide"
      }
     },
     "source": [
      "The **conda** command is the primary interface for managing installations of various packages.\n",
      "It can query and search the package index and current installation, create new environments, \n",
      "and install and update packages into existing conda environments.  \n",
      "\n",
      "see [http://conda.pydata.org/docs/intro.html](http://conda.pydata.org/docs/intro.html) for the full documentation\n"
     ]
    },
    {
     "cell_type": "heading",
     "level": 3,
     "metadata": {
      "slideshow": {
       "slide_type": "slide"
      }
     },
     "source": [
      "Some useful calls of the conda command for managing packages"
     ]
    },
    {
     "cell_type": "markdown",
     "metadata": {
      "slideshow": {
       "slide_type": "subslide"
      }
     },
     "source": [
      "```\n",
      "$ conda info\n",
      "```\n",
      "\n",
      "```\n",
      "$ conda update conda \n",
      "```\n",
      "\n",
      "```\n",
      "$ conda update anaconda \n",
      "```\n",
      "\n",
      "```\n",
      "$ conda search \"package_name\"\n",
      "```\n",
      "\n",
      "```\n",
      "$ conda depends \"package_name\"\n",
      "```\n",
      "\n",
      "```\n",
      "$ conda install \"package_name\" \n",
      "```\n",
      "\n",
      "```\n",
      "$ conda update \"package_name\" \n",
      "```"
     ]
    },
    {
     "cell_type": "heading",
     "level": 3,
     "metadata": {
      "slideshow": {
       "slide_type": "slide"
      }
     },
     "source": [
      "Creating and managing environments with conda"
     ]
    },
    {
     "cell_type": "markdown",
     "metadata": {
      "slideshow": {
       "slide_type": "subslide"
      }
     },
     "source": [
      "```\n",
      "$ conda info -e \n",
      "```\n",
      "\n",
      "```\n",
      "$ conda create -n python3 python=3\n",
      "$ source activate python3\n",
      "...\n",
      "$ source deactivate\n",
      "```\n",
      "\n",
      "\n",
      "\n",
      "Let's say you want to test if something works with older version of numpy:\n",
      "\n",
      "```\n",
      "conda search numpy \n",
      "conda create -n numpy1.6 numpy=1.6\n",
      "conda info -e\n",
      "```\n",
      "\n",
      "You can either `source activate numpy1.6` or use the path to the corresponding python executable in a script:\n",
      "\n",
      "```\n",
      "#!/Users/nicolasf/anaconda/envs/numpy1.6/bin/python\n",
      "\n",
      "```\n",
      "\n",
      "To delete an environment (with all packages): \n",
      "\n",
      "```\n",
      "$ conda remove -n numpy1.6 --all\n",
      "```\n"
     ]
    },
    {
     "cell_type": "heading",
     "level": 3,
     "metadata": {
      "slideshow": {
       "slide_type": "slide"
      }
     },
     "source": [
      "The binstar service"
     ]
    },
    {
     "cell_type": "markdown",
     "metadata": {
      "slideshow": {
       "slide_type": "subslide"
      }
     },
     "source": [
      "see [www.binstar.org](https://binstar.org/dashboard)  \n",
      "\n",
      "```\n",
      "... Binstar is a package management service where you can host software packages of \n",
      "all kinds.\n",
      "```\n",
      "\n",
      "In other words: \n",
      "\n",
      "1. From a `user` perspective, you can find fully anaconda-compatible pre-compiled packages for your platform\n",
      "2. You can distribute your own package for anaconda using a *recipe*: see [http://conda.pydata.org/docs/build.html](http://conda.pydata.org/docs/build.html)"
     ]
    },
    {
     "cell_type": "code",
     "collapsed": false,
     "input": [],
     "language": "python",
     "metadata": {},
     "outputs": []
    }
   ],
   "metadata": {}
  }
 ]
}