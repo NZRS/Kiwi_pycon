{
 "metadata": {
  "celltoolbar": "Slideshow",
  "name": "",
  "signature": "sha256:15a1b43a1963d288bcdc2f89025e8cb5b2ab5c5ad56b121b265a00e3fbf306d9"
 },
 "nbformat": 3,
 "nbformat_minor": 0,
 "worksheets": [
  {
   "cells": [
    {
     "cell_type": "code",
     "collapsed": false,
     "input": [
      "%load_ext load_style\n",
      "%load_style talk.css"
     ],
     "language": "python",
     "metadata": {
      "slideshow": {
       "slide_type": "skip"
      }
     },
     "outputs": [
      {
       "html": [
        "<style>\n",
        "\n",
        ".rendered_html {\n",
        "    font-family: \"proxima-nova\", helvetica;\n",
        "    font-size: 130%;\n",
        "    line-height: 1.5;\n",
        "}\n",
        "\n",
        ".rendered_html h1 {\n",
        "    margin: 0.25em 0em 0.5em;\n",
        "    color: #015C9C;\n",
        "    text-align: center;\n",
        "    line-height: 1.2; \n",
        "    page-break-before: always;\n",
        "}\n",
        "\n",
        ".rendered_html h2 {\n",
        "    margin: 1.1em 0em 0.5em;\n",
        "    color: #26465D;\n",
        "    line-height: 1.2;\n",
        "}\n",
        "\n",
        ".rendered_html h3 {\n",
        "    margin: 1.1em 0em 0.5em;\n",
        "    color: #002845;\n",
        "    line-height: 1.2;\n",
        "}\n",
        "\n",
        ".rendered_html li {\n",
        "    line-height: 1.5; \n",
        "}\n",
        "\n",
        "/*.prompt {\n",
        "    font-size: 120%; \n",
        "}*/\n",
        "\n",
        ".CodeMirror-lines {\n",
        "    font-size: 110%; \n",
        "}\n",
        "\n",
        "/*.output_area {\n",
        "    font-size: 120%; \n",
        "}*/\n",
        "\n",
        "/*#notebook {\n",
        "    background-image: url('files/images/witewall_3.png');\n",
        "}*/\n",
        "\n",
        "h1.bigtitle {\n",
        "    margin: 4cm 1cm 4cm 1cm;\n",
        "    font-size: 300%;\n",
        "}\n",
        "\n",
        "h3.point {\n",
        "    font-size: 200%;\n",
        "    text-align: center;\n",
        "    margin: 2em 0em 2em 0em;\n",
        "    #26465D\n",
        "}\n",
        "\n",
        ".logo {\n",
        "    margin: 20px 0 20px 0;\n",
        "}\n",
        "\n",
        "a.anchor-link {\n",
        "    display: none;\n",
        "}\n",
        "\n",
        "h1.title { \n",
        "    font-size: 250%;\n",
        "}\n",
        "\n",
        "</style>"
       ],
       "metadata": {},
       "output_type": "display_data",
       "text": [
        "<IPython.core.display.HTML at 0x104454c10>"
       ]
      }
     ],
     "prompt_number": 1
    },
    {
     "cell_type": "heading",
     "level": 1,
     "metadata": {
      "slideshow": {
       "slide_type": "slide"
      }
     },
     "source": [
      "Python and the pydata ecosystem for data analysis"
     ]
    },
    {
     "cell_type": "markdown",
     "metadata": {
      "slideshow": {
       "slide_type": "slide"
      }
     },
     "source": [
      "<hr size=5>\n",
      "\n",
      "**Kiwi Pycon tutorial** \n",
      "\n",
      "**12 September 2014** \n",
      "\n",
      "Email: <mailto:Nicolas.Fauchereau@gmail.com>\n",
      "\n",
      "All the material is available at:\n",
      "\n",
      "http://nicolasfauchereau.github.io/Kiwi_pycon/\n",
      "\n",
      "If you have git installed, you can clone my repository (from the command line): \n",
      "\n",
      "    git clone https://github.com/nicolasfauchereau/Kiwi_pycon.git\n",
      "\n",
      "<hr size=5>"
     ]
    },
    {
     "cell_type": "heading",
     "level": 2,
     "metadata": {
      "slideshow": {
       "slide_type": "slide"
      }
     },
     "source": [
      "Structure of the repository"
     ]
    },
    {
     "cell_type": "markdown",
     "metadata": {
      "slideshow": {
       "slide_type": "subslide"
      }
     },
     "source": [
      "Following the links open the executable IPython notebooks\n",
      "\n",
      "1. [Introduction (this notebook)](./Introduction.ipynb)\n",
      "2. [The IPython notebook](./IPython_notebook.ipynb)\n",
      "3. [IPython notebook widgets]('./IPython_widgets.ipynb)  \n",
      "\n",
      "4. [Numpy](./Numpy.ipynb)\n",
      "5. [Scipy](./Scipy.ipynb)\n",
      "6. [Matplotlib](./Matplotlib.ipynb)\n",
      "7. [Interactive plots: beyond Matplotlib]('./Interactive_plots.ipynb') \n",
      "8. [Pandas](./Pandas.ipynb)  \n",
      "9. [statsmodels and scikit-learn](./statistical_modelling.ipynb)\n",
      "      \n",
      "<hr size=5>"
     ]
    }
   ],
   "metadata": {}
  }
 ]
}