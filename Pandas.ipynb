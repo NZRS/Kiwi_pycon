{
 "metadata": {
  "gist_id": "7ff2df68a2861dede6fc",
  "name": "",
  "signature": "sha256:d11b84eb92f2cf0afa4f4c700435f99dfff36f73f9a1b278c91042b8413d7da9"
 },
 "nbformat": 3,
 "nbformat_minor": 0,
 "worksheets": [
  {
   "cells": [
    {
     "cell_type": "code",
     "collapsed": false,
     "input": [
      "%load_ext load_style\n",
      "%load_style talk.css"
     ],
     "language": "python",
     "metadata": {},
     "outputs": [
      {
       "output_type": "stream",
       "stream": "stdout",
       "text": [
        "The load_style extension is already loaded. To reload it, use:\n",
        "  %reload_ext load_style\n"
       ]
      },
      {
       "html": [
        "<style>\n",
        "\n",
        ".rendered_html {\n",
        "    font-family: \"proxima-nova\", helvetica;\n",
        "    font-size: 130%;\n",
        "    line-height: 1.5;\n",
        "}\n",
        "\n",
        ".rendered_html h1 {\n",
        "    margin: 0.25em 0em 0.5em;\n",
        "    color: #015C9C;\n",
        "    text-align: center;\n",
        "    line-height: 1.2; \n",
        "    page-break-before: always;\n",
        "}\n",
        "\n",
        ".rendered_html h2 {\n",
        "    margin: 1.1em 0em 0.5em;\n",
        "    color: #26465D;\n",
        "    line-height: 1.2;\n",
        "}\n",
        "\n",
        ".rendered_html h3 {\n",
        "    margin: 1.1em 0em 0.5em;\n",
        "    color: #002845;\n",
        "    line-height: 1.2;\n",
        "}\n",
        "\n",
        ".rendered_html li {\n",
        "    line-height: 1.5; \n",
        "}\n",
        "\n",
        "/*.prompt {\n",
        "    font-size: 120%; \n",
        "}*/\n",
        "\n",
        ".CodeMirror-lines {\n",
        "    font-size: 110%; \n",
        "}\n",
        "\n",
        "/*.output_area {\n",
        "    font-size: 120%; \n",
        "}*/\n",
        "\n",
        "/*#notebook {\n",
        "    background-image: url('files/images/witewall_3.png');\n",
        "}*/\n",
        "\n",
        "h1.bigtitle {\n",
        "    margin: 4cm 1cm 4cm 1cm;\n",
        "    font-size: 300%;\n",
        "}\n",
        "\n",
        "h3.point {\n",
        "    font-size: 200%;\n",
        "    text-align: center;\n",
        "    margin: 2em 0em 2em 0em;\n",
        "    #26465D\n",
        "}\n",
        "\n",
        ".logo {\n",
        "    margin: 20px 0 20px 0;\n",
        "}\n",
        "\n",
        "a.anchor-link {\n",
        "    display: none;\n",
        "}\n",
        "\n",
        "h1.title { \n",
        "    font-size: 250%;\n",
        "}\n",
        "\n",
        "</style>"
       ],
       "metadata": {},
       "output_type": "display_data",
       "text": [
        "<IPython.core.display.HTML at 0x10c0f1ad0>"
       ]
      }
     ],
     "prompt_number": 150
    },
    {
     "cell_type": "heading",
     "level": 1,
     "metadata": {},
     "source": [
      "Pandas"
     ]
    },
    {
     "cell_type": "code",
     "collapsed": false,
     "input": [
      "from IPython.display import Image, HTML"
     ],
     "language": "python",
     "metadata": {},
     "outputs": [],
     "prompt_number": 10
    },
    {
     "cell_type": "code",
     "collapsed": false,
     "input": [
      "import numpy as np\n",
      "import matplotlib.pyplot as plt"
     ],
     "language": "python",
     "metadata": {},
     "outputs": [],
     "prompt_number": 11
    },
    {
     "cell_type": "code",
     "collapsed": false,
     "input": [
      "%matplotlib inline"
     ],
     "language": "python",
     "metadata": {},
     "outputs": [],
     "prompt_number": 12
    },
    {
     "cell_type": "code",
     "collapsed": false,
     "input": [
      "HTML('<iframe src=http://pandas.pydata.org/index.html width=900 height=350></iframe>')"
     ],
     "language": "python",
     "metadata": {},
     "outputs": [
      {
       "html": [
        "<iframe src=http://pandas.pydata.org/index.html width=900 height=350></iframe>"
       ],
       "metadata": {},
       "output_type": "pyout",
       "prompt_number": 13,
       "text": [
        "<IPython.core.display.HTML at 0x106474690>"
       ]
      }
     ],
     "prompt_number": 13
    },
    {
     "cell_type": "markdown",
     "metadata": {},
     "source": [
      "The conventional way to import pandas is ```import pandas as pd```"
     ]
    },
    {
     "cell_type": "code",
     "collapsed": false,
     "input": [
      "import pandas as pd"
     ],
     "language": "python",
     "metadata": {},
     "outputs": [],
     "prompt_number": 14
    },
    {
     "cell_type": "markdown",
     "metadata": {},
     "source": [
      "some options setting "
     ]
    },
    {
     "cell_type": "code",
     "collapsed": false,
     "input": [
      "pd.set_option(\"display.width\", 80)\n",
      "# toggle the line below that if one doesnt want DataFrames displayed as HTML tables\n",
      "pd.set_option(\"notebook_repr_html\", False) \n",
      "#pd.set_option(\"notebook_repr_html\", True) "
     ],
     "language": "python",
     "metadata": {},
     "outputs": [],
     "prompt_number": 15
    },
    {
     "cell_type": "markdown",
     "metadata": {},
     "source": [
      "**pandas** is a Python package providing fast, flexible, and expressive data structures designed to work with *relational* or *labeled* data. It is a fundamental high-level building block for doing practical, real world data analysis in Python. \n",
      "\n",
      "pandas is well suited for:\n",
      "\n",
      "- Tabular data with heterogeneously-typed columns, as in an SQL table or Excel spreadsheet\n",
      "- Ordered and unordered (not necessarily fixed-frequency) time series data.\n",
      "- Arbitrary matrix data (homogeneously typed or heterogeneous) with row and column labels\n",
      "- Any other form of observational / statistical data sets. The data actually need not be labeled at all to be placed into a pandas data structure\n",
      "\n",
      "\n",
      "Key features:  \n",
      "    \n",
      "- Easy handling of **missing data**\n",
      "- **Size mutability**: columns can be inserted and deleted from DataFrame and higher dimensional objects\n",
      "- Automatic and explicit **data alignment**: objects can be explicitly aligned to a set of labels, or the data can be aligned automatically\n",
      "- Powerful, flexible **group by functionality** to perform split-apply-combine operations on data sets\n",
      "- Intelligent label-based **slicing, fancy indexing, and subsetting** of large data sets\n",
      "- Intuitive **merging and joining** data sets\n",
      "- Flexible **reshaping and pivoting** of data sets\n",
      "- **Hierarchical labeling** of axes\n",
      "- Robust **IO tools** for loading data from flat files, Excel files, databases, and HDF5\n",
      "- **Time series functionality**: date range generation and frequency conversion, moving window statistics, moving window linear regressions, date shifting and lagging, etc."
     ]
    },
    {
     "cell_type": "markdown",
     "metadata": {},
     "source": [
      "Pandas's data structures and functionalities will be familiar to R users, there's a section on Pandas's website where \n",
      "Wes McKinney gives some translation of common idioms / operations between R and Pandas "
     ]
    },
    {
     "cell_type": "code",
     "collapsed": false,
     "input": [
      "HTML('<iframe src=http://pandas.pydata.org/pandas-docs/stable/comparison_with_r.html#compare-with-r width=900 height=350></iframe>')"
     ],
     "language": "python",
     "metadata": {},
     "outputs": [
      {
       "html": [
        "<iframe src=http://pandas.pydata.org/pandas-docs/stable/comparison_with_r.html#compare-with-r width=900 height=350></iframe>"
       ],
       "metadata": {},
       "output_type": "pyout",
       "prompt_number": 9,
       "text": [
        "<IPython.core.display.HTML at 0x1043317d0>"
       ]
      }
     ],
     "prompt_number": 9
    },
    {
     "cell_type": "heading",
     "level": 2,
     "metadata": {},
     "source": [
      "Pandas data structures"
     ]
    },
    {
     "cell_type": "heading",
     "level": 3,
     "metadata": {},
     "source": [
      "Series"
     ]
    },
    {
     "cell_type": "markdown",
     "metadata": {},
     "source": [
      "\n",
      "A **Series** is a single vector of data values (think a NumPy array with shape N or (N,1)) with an **index** that labels each element in the vector."
     ]
    },
    {
     "cell_type": "heading",
     "level": 4,
     "metadata": {},
     "source": [
      "Series constructions"
     ]
    },
    {
     "cell_type": "code",
     "collapsed": false,
     "input": [
      "a = pd.Series(np.random.normal(0,1,(10,)))"
     ],
     "language": "python",
     "metadata": {},
     "outputs": [],
     "prompt_number": 10
    },
    {
     "cell_type": "code",
     "collapsed": false,
     "input": [
      "a"
     ],
     "language": "python",
     "metadata": {},
     "outputs": [
      {
       "metadata": {},
       "output_type": "pyout",
       "prompt_number": 11,
       "text": [
        "0   -0.143033\n",
        "1    0.398921\n",
        "2   -1.120065\n",
        "3    1.286714\n",
        "4   -1.424762\n",
        "5   -1.731416\n",
        "6    1.406609\n",
        "7    1.611209\n",
        "8    0.375133\n",
        "9   -0.643369\n",
        "dtype: float64"
       ]
      }
     ],
     "prompt_number": 11
    },
    {
     "cell_type": "code",
     "collapsed": false,
     "input": [
      "b = a"
     ],
     "language": "python",
     "metadata": {},
     "outputs": [],
     "prompt_number": 12
    },
    {
     "cell_type": "code",
     "collapsed": false,
     "input": [
      "b = b.mean()"
     ],
     "language": "python",
     "metadata": {},
     "outputs": [],
     "prompt_number": 13
    },
    {
     "cell_type": "code",
     "collapsed": false,
     "input": [
      "b"
     ],
     "language": "python",
     "metadata": {},
     "outputs": [
      {
       "metadata": {},
       "output_type": "pyout",
       "prompt_number": 14,
       "text": [
        "0.0015941475553171269"
       ]
      }
     ],
     "prompt_number": 14
    },
    {
     "cell_type": "code",
     "collapsed": false,
     "input": [
      "a"
     ],
     "language": "python",
     "metadata": {},
     "outputs": [
      {
       "metadata": {},
       "output_type": "pyout",
       "prompt_number": 15,
       "text": [
        "0   -0.143033\n",
        "1    0.398921\n",
        "2   -1.120065\n",
        "3    1.286714\n",
        "4   -1.424762\n",
        "5   -1.731416\n",
        "6    1.406609\n",
        "7    1.611209\n",
        "8    0.375133\n",
        "9   -0.643369\n",
        "dtype: float64"
       ]
      }
     ],
     "prompt_number": 15
    },
    {
     "cell_type": "code",
     "collapsed": false,
     "input": [
      "a.index"
     ],
     "language": "python",
     "metadata": {},
     "outputs": [
      {
       "metadata": {},
       "output_type": "pyout",
       "prompt_number": 16,
       "text": [
        "Int64Index([0, 1, 2, 3, 4, 5, 6, 7, 8, 9], dtype='int64')"
       ]
      }
     ],
     "prompt_number": 16
    },
    {
     "cell_type": "code",
     "collapsed": false,
     "input": [
      "a.values"
     ],
     "language": "python",
     "metadata": {},
     "outputs": [
      {
       "metadata": {},
       "output_type": "pyout",
       "prompt_number": 17,
       "text": [
        "array([-0.14303316,  0.39892122, -1.12006537,  1.2867141 , -1.42476177,\n",
        "       -1.73141587,  1.40660926,  1.61120906,  0.37513325, -0.64336924])"
       ]
      }
     ],
     "prompt_number": 17
    },
    {
     "cell_type": "markdown",
     "metadata": {},
     "source": [
      "#### You can define your own **index**"
     ]
    },
    {
     "cell_type": "code",
     "collapsed": false,
     "input": [
      "a = pd.Series(np.random.normal(0,1,(10,)), index=np.arange(1,11))"
     ],
     "language": "python",
     "metadata": {},
     "outputs": [],
     "prompt_number": 18
    },
    {
     "cell_type": "code",
     "collapsed": false,
     "input": [
      "a.index"
     ],
     "language": "python",
     "metadata": {},
     "outputs": [
      {
       "metadata": {},
       "output_type": "pyout",
       "prompt_number": 19,
       "text": [
        "Int64Index([1, 2, 3, 4, 5, 6, 7, 8, 9, 10], dtype='int64')"
       ]
      }
     ],
     "prompt_number": 19
    },
    {
     "cell_type": "code",
     "collapsed": false,
     "input": [
      "a = pd.Series(np.random.normal(0,1,5), index=['a','b','c','d','e'], name='my series')"
     ],
     "language": "python",
     "metadata": {},
     "outputs": [],
     "prompt_number": 20
    },
    {
     "cell_type": "code",
     "collapsed": false,
     "input": [
      "a"
     ],
     "language": "python",
     "metadata": {},
     "outputs": [
      {
       "metadata": {},
       "output_type": "pyout",
       "prompt_number": 21,
       "text": [
        "a    0.668915\n",
        "b    0.812820\n",
        "c   -0.243394\n",
        "d    0.932724\n",
        "e    1.754268\n",
        "Name: my series, dtype: float64"
       ]
      }
     ],
     "prompt_number": 21
    },
    {
     "cell_type": "markdown",
     "metadata": {},
     "source": [
      "Pandas objects expose some powerful, **high level plotting functions** (built on top of Matplotlib)"
     ]
    },
    {
     "cell_type": "code",
     "collapsed": false,
     "input": [
      "plot = a.plot(kind='bar', rot=0, color='.8', title=a.name, hatch='///', edgecolor='k')"
     ],
     "language": "python",
     "metadata": {},
     "outputs": [
      {
       "metadata": {},
       "output_type": "display_data",
       "png": "[encoded data removed]",
       "text": [
        "<matplotlib.figure.Figure at 0x107596550>"
       ]
      }
     ],
     "prompt_number": 22
    },
    {
     "cell_type": "code",
     "collapsed": false,
     "input": [
      "f, ax = plt.subplots()\n",
      "bars = ax.bar(np.arange(len(a)), a.values, color='w', edgecolor='k', align='center', hatch='///')\n",
      "ax.set_xticks(np.arange(len(a)))\n",
      "ax.set_xlim(-0.5, len(a)-0.5)\n",
      "ax.set_xticklabels(a.index, fontsize=16)\n",
      "ax.set_title(a.name, fontsize=16)"
     ],
     "language": "python",
     "metadata": {},
     "outputs": [
      {
       "metadata": {},
       "output_type": "pyout",
       "prompt_number": 23,
       "text": [
        "<matplotlib.text.Text at 0x10778f610>"
       ]
      },
      {
       "metadata": {},
       "output_type": "display_data",
       "png": "[encoded data removed]",
       "text": [
        "<matplotlib.figure.Figure at 0x107687410>"
       ]
      }
     ],
     "prompt_number": 23
    },
    {
     "cell_type": "heading",
     "level": 4,
     "metadata": {},
     "source": [
      "Series indexing"
     ]
    },
    {
     "cell_type": "markdown",
     "metadata": {},
     "source": [
      "Selecting from a Series is easy, using the corresponding index key (like a dict)"
     ]
    },
    {
     "cell_type": "code",
     "collapsed": false,
     "input": [
      "a['c']"
     ],
     "language": "python",
     "metadata": {},
     "outputs": [
      {
       "metadata": {},
       "output_type": "pyout",
       "prompt_number": 24,
       "text": [
        "-0.24339441059125619"
       ]
      }
     ],
     "prompt_number": 24
    },
    {
     "cell_type": "markdown",
     "metadata": {},
     "source": [
      "slices are permitted "
     ]
    },
    {
     "cell_type": "code",
     "collapsed": false,
     "input": [
      "a['a':'c'] ### Note the difference with standard Python / Numpy positional, integer indexing"
     ],
     "language": "python",
     "metadata": {},
     "outputs": [
      {
       "metadata": {},
       "output_type": "pyout",
       "prompt_number": 25,
       "text": [
        "a    0.668915\n",
        "b    0.812820\n",
        "c   -0.243394\n",
        "Name: my series, dtype: float64"
       ]
      }
     ],
     "prompt_number": 25
    },
    {
     "cell_type": "code",
     "collapsed": false,
     "input": [
      "a['c':]"
     ],
     "language": "python",
     "metadata": {},
     "outputs": [
      {
       "metadata": {},
       "output_type": "pyout",
       "prompt_number": 26,
       "text": [
        "c   -0.243394\n",
        "d    0.932724\n",
        "e    1.754268\n",
        "Name: my series, dtype: float64"
       ]
      }
     ],
     "prompt_number": 26
    },
    {
     "cell_type": "markdown",
     "metadata": {},
     "source": [
      "deleting an element "
     ]
    },
    {
     "cell_type": "code",
     "collapsed": false,
     "input": [
      "a.drop('d')"
     ],
     "language": "python",
     "metadata": {},
     "outputs": [
      {
       "metadata": {},
       "output_type": "pyout",
       "prompt_number": 27,
       "text": [
        "a    0.668915\n",
        "b    0.812820\n",
        "c   -0.243394\n",
        "e    1.754268\n",
        "Name: my series, dtype: float64"
       ]
      }
     ],
     "prompt_number": 27
    },
    {
     "cell_type": "markdown",
     "metadata": {},
     "source": [
      "Adding an element is (to my knowledge) not straightforward"
     ]
    },
    {
     "cell_type": "code",
     "collapsed": false,
     "input": [
      "a.append(pd.Series({'f':5}))"
     ],
     "language": "python",
     "metadata": {},
     "outputs": [
      {
       "metadata": {},
       "output_type": "pyout",
       "prompt_number": 28,
       "text": [
        "a    0.668915\n",
        "b    0.812820\n",
        "c   -0.243394\n",
        "d    0.932724\n",
        "e    1.754268\n",
        "f    5.000000\n",
        "dtype: float64"
       ]
      }
     ],
     "prompt_number": 28
    },
    {
     "cell_type": "markdown",
     "metadata": {},
     "source": [
      "Mathematical operations involving two series will perform operations by *aligning indices*.\n",
      "\n",
      "1. The union of all indices is created\n",
      "2. The mathematical operation is performed on matching indices. \n",
      "\n",
      "Indices that do not match are given the value NaN (not a number), and values are computed for all unique pairs of repeated indices."
     ]
    },
    {
     "cell_type": "code",
     "collapsed": false,
     "input": [
      "s1 = pd.Series(np.arange(1.0,4.0),index=['a','b','c'])\n",
      "s2 = pd.Series(np.arange(1.0,4.0),index=['b','c','d'])"
     ],
     "language": "python",
     "metadata": {},
     "outputs": [],
     "prompt_number": 29
    },
    {
     "cell_type": "code",
     "collapsed": false,
     "input": [
      "s3 = s1 + s2"
     ],
     "language": "python",
     "metadata": {},
     "outputs": [],
     "prompt_number": 30
    },
    {
     "cell_type": "code",
     "collapsed": false,
     "input": [
      "s3"
     ],
     "language": "python",
     "metadata": {},
     "outputs": [
      {
       "metadata": {},
       "output_type": "pyout",
       "prompt_number": 31,
       "text": [
        "a   NaN\n",
        "b     3\n",
        "c     5\n",
        "d   NaN\n",
        "dtype: float64"
       ]
      }
     ],
     "prompt_number": 31
    },
    {
     "cell_type": "markdown",
     "metadata": {},
     "source": [
      "NaNs are ignored in all operations "
     ]
    },
    {
     "cell_type": "code",
     "collapsed": false,
     "input": [
      "s3.mean()"
     ],
     "language": "python",
     "metadata": {},
     "outputs": [
      {
       "metadata": {},
       "output_type": "pyout",
       "prompt_number": 32,
       "text": [
        "4.0"
       ]
      }
     ],
     "prompt_number": 32
    },
    {
     "cell_type": "markdown",
     "metadata": {},
     "source": [
      "You can drop them from the Series"
     ]
    },
    {
     "cell_type": "code",
     "collapsed": false,
     "input": [
      "s4 = s3.dropna()"
     ],
     "language": "python",
     "metadata": {},
     "outputs": [],
     "prompt_number": 33
    },
    {
     "cell_type": "code",
     "collapsed": false,
     "input": [
      "s4"
     ],
     "language": "python",
     "metadata": {},
     "outputs": [
      {
       "metadata": {},
       "output_type": "pyout",
       "prompt_number": 34,
       "text": [
        "b    3\n",
        "c    5\n",
        "dtype: float64"
       ]
      }
     ],
     "prompt_number": 34
    },
    {
     "cell_type": "markdown",
     "metadata": {},
     "source": [
      "Or use the `fillna` method to replace them by a value"
     ]
    },
    {
     "cell_type": "code",
     "collapsed": false,
     "input": [
      "s3.fillna(-999)"
     ],
     "language": "python",
     "metadata": {},
     "outputs": [
      {
       "metadata": {},
       "output_type": "pyout",
       "prompt_number": 35,
       "text": [
        "a   -999\n",
        "b      3\n",
        "c      5\n",
        "d   -999\n",
        "dtype: float64"
       ]
      }
     ],
     "prompt_number": 35
    },
    {
     "cell_type": "code",
     "collapsed": false,
     "input": [
      "s3.fillna(s3.mean())"
     ],
     "language": "python",
     "metadata": {},
     "outputs": [
      {
       "metadata": {},
       "output_type": "pyout",
       "prompt_number": 36,
       "text": [
        "a    4\n",
        "b    3\n",
        "c    5\n",
        "d    4\n",
        "dtype: float64"
       ]
      }
     ],
     "prompt_number": 36
    },
    {
     "cell_type": "heading",
     "level": 4,
     "metadata": {},
     "source": [
      "Series with a date / datetime index (timeseries)"
     ]
    },
    {
     "cell_type": "markdown",
     "metadata": {},
     "source": [
      "Series can have indexes representing dates / times "
     ]
    },
    {
     "cell_type": "code",
     "collapsed": false,
     "input": [
      "a"
     ],
     "language": "python",
     "metadata": {},
     "outputs": [
      {
       "metadata": {},
       "output_type": "pyout",
       "prompt_number": 37,
       "text": [
        "a    0.668915\n",
        "b    0.812820\n",
        "c   -0.243394\n",
        "d    0.932724\n",
        "e    1.754268\n",
        "Name: my series, dtype: float64"
       ]
      }
     ],
     "prompt_number": 37
    },
    {
     "cell_type": "code",
     "collapsed": false,
     "input": [
      "a.index = pd.date_range(start='2014-1-1', periods=len(a)) # default 'period' is daily"
     ],
     "language": "python",
     "metadata": {},
     "outputs": [],
     "prompt_number": 38
    },
    {
     "cell_type": "code",
     "collapsed": false,
     "input": [
      "a.head()"
     ],
     "language": "python",
     "metadata": {},
     "outputs": [
      {
       "metadata": {},
       "output_type": "pyout",
       "prompt_number": 39,
       "text": [
        "2014-01-01    0.668915\n",
        "2014-01-02    0.812820\n",
        "2014-01-03   -0.243394\n",
        "2014-01-04    0.932724\n",
        "2014-01-05    1.754268\n",
        "Freq: D, Name: my series, dtype: float64"
       ]
      }
     ],
     "prompt_number": 39
    },
    {
     "cell_type": "code",
     "collapsed": false,
     "input": [
      "a.index"
     ],
     "language": "python",
     "metadata": {},
     "outputs": [
      {
       "metadata": {},
       "output_type": "pyout",
       "prompt_number": 40,
       "text": [
        "<class 'pandas.tseries.index.DatetimeIndex'>\n",
        "[2014-01-01, ..., 2014-01-05]\n",
        "Length: 5, Freq: D, Timezone: None"
       ]
      }
     ],
     "prompt_number": 40
    },
    {
     "cell_type": "code",
     "collapsed": false,
     "input": [
      "### a datetime index in Pandas has its own type\n",
      "a.index"
     ],
     "language": "python",
     "metadata": {},
     "outputs": [
      {
       "metadata": {},
       "output_type": "pyout",
       "prompt_number": 41,
       "text": [
        "<class 'pandas.tseries.index.DatetimeIndex'>\n",
        "[2014-01-01, ..., 2014-01-05]\n",
        "Length: 5, Freq: D, Timezone: None"
       ]
      }
     ],
     "prompt_number": 41
    },
    {
     "cell_type": "code",
     "collapsed": false,
     "input": [
      "### but you can convert it to an numpy array of python datetime objects if you want\n",
      "py_datetimes = a.index.to_pydatetime()"
     ],
     "language": "python",
     "metadata": {},
     "outputs": [],
     "prompt_number": 43
    },
    {
     "cell_type": "markdown",
     "metadata": {},
     "source": [
      "And a number of useful methods for manipulation of time series is exposed"
     ]
    },
    {
     "cell_type": "code",
     "collapsed": false,
     "input": [
      "### resample daily time-series to 5 minutes 'period', using forward filling method\n",
      "a.resample('5min',fill_method='ffill')"
     ],
     "language": "python",
     "metadata": {},
     "outputs": [
      {
       "metadata": {},
       "output_type": "pyout",
       "prompt_number": 44,
       "text": [
        "2014-01-01 00:00:00    0.668915\n",
        "2014-01-01 00:05:00    0.668915\n",
        "2014-01-01 00:10:00    0.668915\n",
        "2014-01-01 00:15:00    0.668915\n",
        "2014-01-01 00:20:00    0.668915\n",
        "2014-01-01 00:25:00    0.668915\n",
        "2014-01-01 00:30:00    0.668915\n",
        "2014-01-01 00:35:00    0.668915\n",
        "2014-01-01 00:40:00    0.668915\n",
        "2014-01-01 00:45:00    0.668915\n",
        "2014-01-01 00:50:00    0.668915\n",
        "2014-01-01 00:55:00    0.668915\n",
        "2014-01-01 01:00:00    0.668915\n",
        "2014-01-01 01:05:00    0.668915\n",
        "2014-01-01 01:10:00    0.668915\n",
        "...\n",
        "2014-01-04 22:50:00    0.932724\n",
        "2014-01-04 22:55:00    0.932724\n",
        "2014-01-04 23:00:00    0.932724\n",
        "2014-01-04 23:05:00    0.932724\n",
        "2014-01-04 23:10:00    0.932724\n",
        "2014-01-04 23:15:00    0.932724\n",
        "2014-01-04 23:20:00    0.932724\n",
        "2014-01-04 23:25:00    0.932724\n",
        "2014-01-04 23:30:00    0.932724\n",
        "2014-01-04 23:35:00    0.932724\n",
        "2014-01-04 23:40:00    0.932724\n",
        "2014-01-04 23:45:00    0.932724\n",
        "2014-01-04 23:50:00    0.932724\n",
        "2014-01-04 23:55:00    0.932724\n",
        "2014-01-05 00:00:00    1.754268\n",
        "Freq: 5T, Name: my series, Length: 1153"
       ]
      }
     ],
     "prompt_number": 44
    },
    {
     "cell_type": "code",
     "collapsed": false,
     "input": [
      "a"
     ],
     "language": "python",
     "metadata": {},
     "outputs": [
      {
       "metadata": {},
       "output_type": "pyout",
       "prompt_number": 45,
       "text": [
        "2014-01-01    0.668915\n",
        "2014-01-02    0.812820\n",
        "2014-01-03   -0.243394\n",
        "2014-01-04    0.932724\n",
        "2014-01-05    1.754268\n",
        "Freq: D, Name: my series, dtype: float64"
       ]
      }
     ],
     "prompt_number": 45
    },
    {
     "cell_type": "code",
     "collapsed": false,
     "input": [
      "### the ```shift``` method makes it easy e.g. to compare series with lead / lags \n",
      "a.shift(periods=-1)"
     ],
     "language": "python",
     "metadata": {},
     "outputs": [
      {
       "metadata": {},
       "output_type": "pyout",
       "prompt_number": 46,
       "text": [
        "2014-01-01    0.812820\n",
        "2014-01-02   -0.243394\n",
        "2014-01-03    0.932724\n",
        "2014-01-04    1.754268\n",
        "2014-01-05         NaN\n",
        "Freq: D, Name: my series, dtype: float64"
       ]
      }
     ],
     "prompt_number": 46
    },
    {
     "cell_type": "code",
     "collapsed": false,
     "input": [
      "### and the ```truncate`` method allows easy selection of time-slices\n",
      "a.truncate(after='2014-1-2')"
     ],
     "language": "python",
     "metadata": {},
     "outputs": [
      {
       "metadata": {},
       "output_type": "pyout",
       "prompt_number": 47,
       "text": [
        "2014-01-01    0.668915\n",
        "2014-01-02    0.812820\n",
        "Freq: D, Name: my series, dtype: float64"
       ]
      }
     ],
     "prompt_number": 47
    },
    {
     "cell_type": "heading",
     "level": 3,
     "metadata": {},
     "source": [
      "DataFrames"
     ]
    },
    {
     "cell_type": "markdown",
     "metadata": {},
     "source": [
      "**DataFrames** are IMHO one of the most powerful data structures in the Python / data analysis world. \n",
      "\n",
      "They can be viewed as a *collection* of named Series. They feature two **indexes**, respectively for the rows and the columns, and can contain heteregoneous data types (although it must be consistent *within* each column). \n",
      "Note that a DataFrame index, either along the rows or the columns (or both !) can contain more than one level, they are called **hierarchical indexes** and allows the representation of complex data organisation. \n",
      "\n",
      "If the index along the rows of a DataFrame is of **datetime** type, all the methods exposed for the Series (re-sampling, shifting, truncating, etc) are available for the DataFrame."
     ]
    },
    {
     "cell_type": "heading",
     "level": 4,
     "metadata": {},
     "source": [
      "DataFrame constructions"
     ]
    },
    {
     "cell_type": "code",
     "collapsed": false,
     "input": [
      "import string # part of the standard library\n",
      "idx = list(string.lowercase[:10])\n",
      "print(idx)"
     ],
     "language": "python",
     "metadata": {},
     "outputs": [
      {
       "output_type": "stream",
       "stream": "stdout",
       "text": [
        "['a', 'b', 'c', 'd', 'e', 'f', 'g', 'h', 'i', 'j']\n"
       ]
      }
     ],
     "prompt_number": 48
    },
    {
     "cell_type": "code",
     "collapsed": false,
     "input": [
      "df = pd.DataFrame(np.arange(100).reshape(10,10),columns=idx,index=np.arange(1,11))"
     ],
     "language": "python",
     "metadata": {},
     "outputs": [],
     "prompt_number": 49
    },
    {
     "cell_type": "code",
     "collapsed": false,
     "input": [
      "df"
     ],
     "language": "python",
     "metadata": {},
     "outputs": [
      {
       "metadata": {},
       "output_type": "pyout",
       "prompt_number": 50,
       "text": [
        "     a   b   c   d   e   f   g   h   i   j\n",
        "1    0   1   2   3   4   5   6   7   8   9\n",
        "2   10  11  12  13  14  15  16  17  18  19\n",
        "3   20  21  22  23  24  25  26  27  28  29\n",
        "4   30  31  32  33  34  35  36  37  38  39\n",
        "5   40  41  42  43  44  45  46  47  48  49\n",
        "6   50  51  52  53  54  55  56  57  58  59\n",
        "7   60  61  62  63  64  65  66  67  68  69\n",
        "8   70  71  72  73  74  75  76  77  78  79\n",
        "9   80  81  82  83  84  85  86  87  88  89\n",
        "10  90  91  92  93  94  95  96  97  98  99"
       ]
      }
     ],
     "prompt_number": 50
    },
    {
     "cell_type": "code",
     "collapsed": false,
     "input": [
      "### here I am creating a DataFrame from a dictionnary\n",
      "\n",
      "df = pd.DataFrame({'A' : np.random.random(5),\\\n",
      "                   'B' : np.random.random(5),\\\n",
      "                   'C': np.random.random(5)})\n",
      "print df"
     ],
     "language": "python",
     "metadata": {},
     "outputs": [
      {
       "output_type": "stream",
       "stream": "stdout",
       "text": [
        "          A         B         C\n",
        "0  0.045992  0.887824  0.850471\n",
        "1  0.147213  0.655367  0.732444\n",
        "2  0.586041  0.744199  0.937367\n",
        "3  0.453320  0.764522  0.345168\n",
        "4  0.357068  0.021248  0.972621\n"
       ]
      }
     ],
     "prompt_number": 50
    },
    {
     "cell_type": "code",
     "collapsed": false,
     "input": [
      "df"
     ],
     "language": "python",
     "metadata": {},
     "outputs": [
      {
       "metadata": {},
       "output_type": "pyout",
       "prompt_number": 51,
       "text": [
        "          A         B         C\n",
        "0  0.045992  0.887824  0.850471\n",
        "1  0.147213  0.655367  0.732444\n",
        "2  0.586041  0.744199  0.937367\n",
        "3  0.453320  0.764522  0.345168\n",
        "4  0.357068  0.021248  0.972621"
       ]
      }
     ],
     "prompt_number": 51
    },
    {
     "cell_type": "heading",
     "level": 4,
     "metadata": {},
     "source": [
      "Indexing a DataFrame"
     ]
    },
    {
     "cell_type": "markdown",
     "metadata": {},
     "source": [
      "different ways, return either a Series or a DataFrame"
     ]
    },
    {
     "cell_type": "code",
     "collapsed": false,
     "input": [
      "df['A'] "
     ],
     "language": "python",
     "metadata": {},
     "outputs": [
      {
       "metadata": {},
       "output_type": "pyout",
       "prompt_number": 18,
       "text": [
        "0    0.871781\n",
        "1    0.605320\n",
        "2    0.764638\n",
        "3    0.924179\n",
        "4    0.173213\n",
        "Name: A, dtype: float64"
       ]
      }
     ],
     "prompt_number": 18
    },
    {
     "cell_type": "code",
     "collapsed": false,
     "input": [
      "df[['A']]"
     ],
     "language": "python",
     "metadata": {},
     "outputs": [
      {
       "metadata": {},
       "output_type": "pyout",
       "prompt_number": 52,
       "text": [
        "          A\n",
        "0  0.045992\n",
        "1  0.147213\n",
        "2  0.586041\n",
        "3  0.453320\n",
        "4  0.357068"
       ]
      }
     ],
     "prompt_number": 52
    },
    {
     "cell_type": "code",
     "collapsed": false,
     "input": [
      "type(df['A']) "
     ],
     "language": "python",
     "metadata": {},
     "outputs": [
      {
       "metadata": {},
       "output_type": "pyout",
       "prompt_number": 53,
       "text": [
        "pandas.core.series.Series"
       ]
      }
     ],
     "prompt_number": 53
    },
    {
     "cell_type": "code",
     "collapsed": false,
     "input": [
      "type(df[['A']])"
     ],
     "language": "python",
     "metadata": {},
     "outputs": [
      {
       "metadata": {},
       "output_type": "pyout",
       "prompt_number": 54,
       "text": [
        "pandas.core.frame.DataFrame"
       ]
      }
     ],
     "prompt_number": 54
    },
    {
     "cell_type": "code",
     "collapsed": false,
     "input": [
      "df.loc[ : , ['A']]"
     ],
     "language": "python",
     "metadata": {},
     "outputs": [
      {
       "metadata": {},
       "output_type": "pyout",
       "prompt_number": 55,
       "text": [
        "          A\n",
        "0  0.045992\n",
        "1  0.147213\n",
        "2  0.586041\n",
        "3  0.453320\n",
        "4  0.357068"
       ]
      }
     ],
     "prompt_number": 55
    },
    {
     "cell_type": "code",
     "collapsed": false,
     "input": [
      "type(_)"
     ],
     "language": "python",
     "metadata": {},
     "outputs": [
      {
       "metadata": {},
       "output_type": "pyout",
       "prompt_number": 56,
       "text": [
        "pandas.core.frame.DataFrame"
       ]
      }
     ],
     "prompt_number": 56
    },
    {
     "cell_type": "markdown",
     "metadata": {},
     "source": [
      "To access a particular *row* instead of a column, you use the *ix* method"
     ]
    },
    {
     "cell_type": "code",
     "collapsed": false,
     "input": [
      "df.ix[3]"
     ],
     "language": "python",
     "metadata": {},
     "outputs": [
      {
       "metadata": {},
       "output_type": "pyout",
       "prompt_number": 57,
       "text": [
        "A    0.453320\n",
        "B    0.764522\n",
        "C    0.345168\n",
        "Name: 3, dtype: float64"
       ]
      }
     ],
     "prompt_number": 57
    },
    {
     "cell_type": "code",
     "collapsed": false,
     "input": [
      "type(_)"
     ],
     "language": "python",
     "metadata": {},
     "outputs": [
      {
       "metadata": {},
       "output_type": "pyout",
       "prompt_number": 58,
       "text": [
        "pandas.core.series.Series"
       ]
      }
     ],
     "prompt_number": 58
    },
    {
     "cell_type": "markdown",
     "metadata": {},
     "source": [
      "access values per indices only"
     ]
    },
    {
     "cell_type": "code",
     "collapsed": false,
     "input": [
      "df.iloc[:,0:2]"
     ],
     "language": "python",
     "metadata": {},
     "outputs": [
      {
       "metadata": {},
       "output_type": "pyout",
       "prompt_number": 59,
       "text": [
        "          A         B\n",
        "0  0.045992  0.887824\n",
        "1  0.147213  0.655367\n",
        "2  0.586041  0.744199\n",
        "3  0.453320  0.764522\n",
        "4  0.357068  0.021248"
       ]
      }
     ],
     "prompt_number": 59
    },
    {
     "cell_type": "code",
     "collapsed": false,
     "input": [
      "type(_)"
     ],
     "language": "python",
     "metadata": {},
     "outputs": [
      {
       "metadata": {},
       "output_type": "pyout",
       "prompt_number": 60,
       "text": [
        "pandas.core.frame.DataFrame"
       ]
      }
     ],
     "prompt_number": 60
    },
    {
     "cell_type": "markdown",
     "metadata": {},
     "source": [
      "And you can combine of course row (with ix) and column indexing, using the same convention for slices as we saw for the Series "
     ]
    },
    {
     "cell_type": "code",
     "collapsed": false,
     "input": [
      "df.ix[3]['A':'B']"
     ],
     "language": "python",
     "metadata": {},
     "outputs": [
      {
       "metadata": {},
       "output_type": "pyout",
       "prompt_number": 61,
       "text": [
        "A    0.453320\n",
        "B    0.764522\n",
        "Name: 3, dtype: float64"
       ]
      }
     ],
     "prompt_number": 61
    },
    {
     "cell_type": "code",
     "collapsed": false,
     "input": [
      "df.ix[3][['A','C']]"
     ],
     "language": "python",
     "metadata": {},
     "outputs": [
      {
       "metadata": {},
       "output_type": "pyout",
       "prompt_number": 62,
       "text": [
        "A    0.453320\n",
        "C    0.345168\n",
        "Name: 3, dtype: float64"
       ]
      }
     ],
     "prompt_number": 62
    },
    {
     "cell_type": "markdown",
     "metadata": {},
     "source": [
      "conditional indexing or subsetting of a DataFrame "
     ]
    },
    {
     "cell_type": "code",
     "collapsed": false,
     "input": [
      "df"
     ],
     "language": "python",
     "metadata": {},
     "outputs": [
      {
       "metadata": {},
       "output_type": "pyout",
       "prompt_number": 63,
       "text": [
        "          A         B         C\n",
        "0  0.045992  0.887824  0.850471\n",
        "1  0.147213  0.655367  0.732444\n",
        "2  0.586041  0.744199  0.937367\n",
        "3  0.453320  0.764522  0.345168\n",
        "4  0.357068  0.021248  0.972621"
       ]
      }
     ],
     "prompt_number": 63
    },
    {
     "cell_type": "code",
     "collapsed": false,
     "input": [
      "subset = df[df['A'] <= 0.7] "
     ],
     "language": "python",
     "metadata": {},
     "outputs": [],
     "prompt_number": 64
    },
    {
     "cell_type": "code",
     "collapsed": false,
     "input": [
      "subset"
     ],
     "language": "python",
     "metadata": {},
     "outputs": [
      {
       "metadata": {},
       "output_type": "pyout",
       "prompt_number": 65,
       "text": [
        "          A         B         C\n",
        "0  0.045992  0.887824  0.850471\n",
        "1  0.147213  0.655367  0.732444\n",
        "2  0.586041  0.744199  0.937367\n",
        "3  0.453320  0.764522  0.345168\n",
        "4  0.357068  0.021248  0.972621"
       ]
      }
     ],
     "prompt_number": 65
    },
    {
     "cell_type": "markdown",
     "metadata": {},
     "source": [
      "same as ```df.loc[df['A'] <= 0.7]```"
     ]
    },
    {
     "cell_type": "heading",
     "level": 5,
     "metadata": {},
     "source": [
      "queries"
     ]
    },
    {
     "cell_type": "code",
     "collapsed": false,
     "input": [
      "df"
     ],
     "language": "python",
     "metadata": {},
     "outputs": [
      {
       "metadata": {},
       "output_type": "pyout",
       "prompt_number": 74,
       "text": [
        "          A         B         C\n",
        "0  0.045992  0.887824  0.850471\n",
        "1  0.147213  0.655367  0.732444\n",
        "2  0.586041  0.744199  0.937367\n",
        "3  0.453320  0.764522  0.345168\n",
        "4  0.357068  0.021248  0.972621"
       ]
      }
     ],
     "prompt_number": 74
    },
    {
     "cell_type": "code",
     "collapsed": false,
     "input": [
      "df.query('A > B')"
     ],
     "language": "python",
     "metadata": {},
     "outputs": [
      {
       "metadata": {},
       "output_type": "pyout",
       "prompt_number": 73,
       "text": [
        "          A         B         C\n",
        "4  0.357068  0.021248  0.972621"
       ]
      }
     ],
     "prompt_number": 73
    },
    {
     "cell_type": "code",
     "collapsed": false,
     "input": [
      "df.query('(A > B) & (B < C)')"
     ],
     "language": "python",
     "metadata": {},
     "outputs": [
      {
       "metadata": {},
       "output_type": "pyout",
       "prompt_number": 70,
       "text": [
        "          A         B         C\n",
        "4  0.357068  0.021248  0.972621"
       ]
      }
     ],
     "prompt_number": 70
    },
    {
     "cell_type": "heading",
     "level": 4,
     "metadata": {},
     "source": [
      "Extending a DataFrame"
     ]
    },
    {
     "cell_type": "markdown",
     "metadata": {},
     "source": [
      "Adding a column is easy "
     ]
    },
    {
     "cell_type": "code",
     "collapsed": false,
     "input": [
      "df"
     ],
     "language": "python",
     "metadata": {},
     "outputs": [
      {
       "metadata": {},
       "output_type": "pyout",
       "prompt_number": 77,
       "text": [
        "          A         B         C\n",
        "0  0.045992  0.887824  0.850471\n",
        "1  0.147213  0.655367  0.732444\n",
        "2  0.586041  0.744199  0.937367\n",
        "3  0.453320  0.764522  0.345168\n",
        "4  0.357068  0.021248  0.972621"
       ]
      }
     ],
     "prompt_number": 77
    },
    {
     "cell_type": "code",
     "collapsed": false,
     "input": [
      "df['D'] = np.random.random(5)"
     ],
     "language": "python",
     "metadata": {},
     "outputs": [],
     "prompt_number": 78
    },
    {
     "cell_type": "code",
     "collapsed": false,
     "input": [
      "df"
     ],
     "language": "python",
     "metadata": {},
     "outputs": [
      {
       "metadata": {},
       "output_type": "pyout",
       "prompt_number": 79,
       "text": [
        "          A         B         C         D\n",
        "0  0.045992  0.887824  0.850471  0.202025\n",
        "1  0.147213  0.655367  0.732444  0.445710\n",
        "2  0.586041  0.744199  0.937367  0.614509\n",
        "3  0.453320  0.764522  0.345168  0.375639\n",
        "4  0.357068  0.021248  0.972621  0.961191"
       ]
      }
     ],
     "prompt_number": 79
    },
    {
     "cell_type": "markdown",
     "metadata": {},
     "source": [
      "The following works because Pandas understands that a single value must be repeated over the row length"
     ]
    },
    {
     "cell_type": "code",
     "collapsed": false,
     "input": [
      "df['E'] = 5"
     ],
     "language": "python",
     "metadata": {},
     "outputs": [],
     "prompt_number": 82
    },
    {
     "cell_type": "code",
     "collapsed": false,
     "input": [
      "df"
     ],
     "language": "python",
     "metadata": {},
     "outputs": [
      {
       "metadata": {},
       "output_type": "pyout",
       "prompt_number": 83,
       "text": [
        "          A         B         C         D  E\n",
        "0  0.045992  0.887824  0.850471  0.202025  5\n",
        "1  0.147213  0.655367  0.732444  0.445710  5\n",
        "2  0.586041  0.744199  0.937367  0.614509  5\n",
        "3  0.453320  0.764522  0.345168  0.375639  5\n",
        "4  0.357068  0.021248  0.972621  0.961191  5"
       ]
      }
     ],
     "prompt_number": 83
    },
    {
     "cell_type": "markdown",
     "metadata": {},
     "source": [
      "The following doesn't work because there's no way to tell **where** to insert the missing value (align to 1st or last index ?)"
     ]
    },
    {
     "cell_type": "code",
     "collapsed": false,
     "input": [
      "df['F'] = np.random.random(4)"
     ],
     "language": "python",
     "metadata": {},
     "outputs": []
    },
    {
     "cell_type": "markdown",
     "metadata": {},
     "source": [
      "Unless we make a series out of it, with a index matching at least partly the DataFrame (row) index"
     ]
    },
    {
     "cell_type": "code",
     "collapsed": false,
     "input": [
      "df['F'] = pd.Series(np.random.random(4)) #"
     ],
     "language": "python",
     "metadata": {},
     "outputs": [],
     "prompt_number": 88
    },
    {
     "cell_type": "code",
     "collapsed": false,
     "input": [
      "df"
     ],
     "language": "python",
     "metadata": {},
     "outputs": [
      {
       "metadata": {},
       "output_type": "pyout",
       "prompt_number": 89,
       "text": [
        "          A         B         C         D  E         F\n",
        "0  0.045992  0.887824  0.850471  0.202025  5  0.019562\n",
        "1  0.147213  0.655367  0.732444  0.445710  5  0.018356\n",
        "2  0.586041  0.744199  0.937367  0.614509  5  0.568521\n",
        "3  0.453320  0.764522  0.345168  0.375639  5  0.914549\n",
        "4  0.357068  0.021248  0.972621  0.961191  5       NaN"
       ]
      }
     ],
     "prompt_number": 89
    },
    {
     "cell_type": "heading",
     "level": 4,
     "metadata": {},
     "source": [
      "Useful DataFrames methods"
     ]
    },
    {
     "cell_type": "heading",
     "level": 5,
     "metadata": {},
     "source": [
      "applying a numpy function"
     ]
    },
    {
     "cell_type": "code",
     "collapsed": false,
     "input": [
      "df.apply(np.sqrt) # or np.sqrt(df)"
     ],
     "language": "python",
     "metadata": {},
     "outputs": [
      {
       "metadata": {},
       "output_type": "pyout",
       "prompt_number": 90,
       "text": [
        "          A         B         C         D         E         F\n",
        "0  0.214458  0.942244  0.922210  0.449472  2.236068  0.139865\n",
        "1  0.383683  0.809547  0.855829  0.667615  2.236068  0.135483\n",
        "2  0.765533  0.862670  0.968177  0.783906  2.236068  0.754003\n",
        "3  0.673290  0.874370  0.587510  0.612894  2.236068  0.956321\n",
        "4  0.597551  0.145766  0.986216  0.980403  2.236068       NaN"
       ]
      }
     ],
     "prompt_number": 90
    },
    {
     "cell_type": "heading",
     "level": 5,
     "metadata": {},
     "source": [
      "summarizing data"
     ]
    },
    {
     "cell_type": "code",
     "collapsed": false,
     "input": [
      "df.describe()"
     ],
     "language": "python",
     "metadata": {},
     "outputs": [
      {
       "metadata": {},
       "output_type": "pyout",
       "prompt_number": 91,
       "text": [
        "              A         B         C         D  E         F\n",
        "count  5.000000  5.000000  5.000000  5.000000  5  4.000000\n",
        "mean   0.317927  0.614632  0.767614  0.519815  5  0.380247\n",
        "std    0.220704  0.341926  0.253677  0.287684  0  0.440448\n",
        "min    0.045992  0.021248  0.345168  0.202025  5  0.018356\n",
        "25%    0.147213  0.655367  0.732444  0.375639  5  0.019261\n",
        "50%    0.357068  0.744199  0.850471  0.445710  5  0.294042\n",
        "75%    0.453320  0.764522  0.937367  0.614509  5  0.655028\n",
        "max    0.586041  0.887824  0.972621  0.961191  5  0.914549"
       ]
      }
     ],
     "prompt_number": 91
    },
    {
     "cell_type": "heading",
     "level": 5,
     "metadata": {},
     "source": [
      "replacing values"
     ]
    },
    {
     "cell_type": "code",
     "collapsed": false,
     "input": [
      "df.head()"
     ],
     "language": "python",
     "metadata": {},
     "outputs": [
      {
       "metadata": {},
       "output_type": "pyout",
       "prompt_number": 92,
       "text": [
        "          A         B         C         D  E         F\n",
        "0  0.045992  0.887824  0.850471  0.202025  5  0.019562\n",
        "1  0.147213  0.655367  0.732444  0.445710  5  0.018356\n",
        "2  0.586041  0.744199  0.937367  0.614509  5  0.568521\n",
        "3  0.453320  0.764522  0.345168  0.375639  5  0.914549\n",
        "4  0.357068  0.021248  0.972621  0.961191  5       NaN"
       ]
      }
     ],
     "prompt_number": 92
    },
    {
     "cell_type": "code",
     "collapsed": false,
     "input": [
      "df['E'].replace(5, 0.0, inplace=True) # you can use dictionnary to multiple replacements"
     ],
     "language": "python",
     "metadata": {},
     "outputs": [],
     "prompt_number": 93
    },
    {
     "cell_type": "heading",
     "level": 4,
     "metadata": {},
     "source": [
      "DataFrame high-level plotting functions"
     ]
    },
    {
     "cell_type": "code",
     "collapsed": false,
     "input": [
      "df.plot();"
     ],
     "language": "python",
     "metadata": {},
     "outputs": [
      {
       "metadata": {},
       "output_type": "display_data",
       "png": "[encoded data removed]",
       "text": [
        "<matplotlib.figure.Figure at 0x10a2c71d0>"
       ]
      }
     ],
     "prompt_number": 137
    },
    {
     "cell_type": "code",
     "collapsed": false,
     "input": [
      "df.drop('E', axis=1).plot(figsize=(8,12), subplots=True, sharex=True, kind='bar', rot=0); "
     ],
     "language": "python",
     "metadata": {},
     "outputs": [
      {
       "metadata": {},
       "output_type": "display_data",
       "png": "[encoded data removed]",
       "text": [
        "<matplotlib.figure.Figure at 0x109e94d50>"
       ]
      }
     ],
     "prompt_number": 142
    },
    {
     "cell_type": "code",
     "collapsed": false,
     "input": [
      "import pandas as pd\n",
      "from sklearn.datasets import load_iris\n",
      " \n",
      "iris = load_iris()\n",
      " \n",
      "iris = pd.DataFrame(iris.data, columns=iris.feature_names)"
     ],
     "language": "python",
     "metadata": {},
     "outputs": [],
     "prompt_number": 95
    },
    {
     "cell_type": "code",
     "collapsed": false,
     "input": [
      "iris.head()"
     ],
     "language": "python",
     "metadata": {},
     "outputs": [
      {
       "metadata": {},
       "output_type": "pyout",
       "prompt_number": 96,
       "text": [
        "   sepal length (cm)  sepal width (cm)  petal length (cm)  petal width (cm)\n",
        "0                5.1               3.5                1.4               0.2\n",
        "1                4.9               3.0                1.4               0.2\n",
        "2                4.7               3.2                1.3               0.2\n",
        "3                4.6               3.1                1.5               0.2\n",
        "4                5.0               3.6                1.4               0.2"
       ]
      }
     ],
     "prompt_number": 96
    },
    {
     "cell_type": "code",
     "collapsed": false,
     "input": [
      "iris.hist(); "
     ],
     "language": "python",
     "metadata": {},
     "outputs": [
      {
       "metadata": {},
       "output_type": "display_data",
       "png": "[encoded data removed]",
       "text": [
        "<matplotlib.figure.Figure at 0x109a72ad0>"
       ]
      }
     ],
     "prompt_number": 98
    },
    {
     "cell_type": "code",
     "collapsed": false,
     "input": [
      "HTML('<iframe src=http://pandas.pydata.org/pandas-docs/stable/visualization.html width=1000 height=350></iframe>')"
     ],
     "language": "python",
     "metadata": {},
     "outputs": [
      {
       "html": [
        "<iframe src=http://pandas.pydata.org/pandas-docs/stable/visualization.html width=1000 height=350></iframe>"
       ],
       "metadata": {},
       "output_type": "pyout",
       "prompt_number": 100,
       "text": [
        "<IPython.core.display.HTML at 0x1095d2d90>"
       ]
      }
     ],
     "prompt_number": 100
    },
    {
     "cell_type": "heading",
     "level": 3,
     "metadata": {},
     "source": [
      "Input and Output in pandas"
     ]
    },
    {
     "cell_type": "markdown",
     "metadata": {},
     "source": [
      "Pandas has very powerful IO methods, allowing to load csv, excel, tab-delimited files very easily. Pandas DataFrames can also be \n",
      "saved also in csv, excel files. "
     ]
    },
    {
     "cell_type": "code",
     "collapsed": false,
     "input": [
      "#pd.read_"
     ],
     "language": "python",
     "metadata": {},
     "outputs": [],
     "prompt_number": 134
    },
    {
     "cell_type": "code",
     "collapsed": false,
     "input": [
      "SOI = pd.read_csv('./data/NIWA_SOI.csv')"
     ],
     "language": "python",
     "metadata": {},
     "outputs": [],
     "prompt_number": 103
    },
    {
     "cell_type": "code",
     "collapsed": false,
     "input": [
      "SOI.head()"
     ],
     "language": "python",
     "metadata": {},
     "outputs": [
      {
       "metadata": {},
       "output_type": "pyout",
       "prompt_number": 104,
       "text": [
        "   Unnamed: 0       Jan       Feb       Mar       Apr       May       Jun  \\\n",
        "0        1876       NaN       NaN       NaN       NaN       NaN       NaN   \n",
        "1        1877 -1.044600 -0.834198 -0.759131 -1.103454  0.349381 -1.901213   \n",
        "2        1878 -0.940401 -2.339884 -1.981073 -1.009742  0.189664 -0.448601   \n",
        "3        1879  1.404088  1.302904  1.257072  1.426758  0.189664  1.602146   \n",
        "4        1880  1.195689  0.622917  1.379266  0.583354  1.227823  0.833116   \n",
        "\n",
        "        Jul       Aug       Sep       Oct       Nov       Dec  \n",
        "0       NaN       NaN       NaN       NaN       NaN       NaN  \n",
        "1 -1.002934 -1.044881 -1.839545 -1.745311 -1.453885 -1.541774  \n",
        "2  1.568691  1.216173  1.734780  1.002227  1.460825  1.744423  \n",
        "3  2.147306  2.243925  1.858033  1.439335  0.905642 -0.774995  \n",
        "4  0.154297  1.353207  0.748760  0.377786  0.628051 -0.391605  "
       ]
      }
     ],
     "prompt_number": 104
    },
    {
     "cell_type": "code",
     "collapsed": false,
     "input": [
      "SOI.tail()"
     ],
     "language": "python",
     "metadata": {},
     "outputs": [
      {
       "metadata": {},
       "output_type": "pyout",
       "prompt_number": 105,
       "text": [
        "     Unnamed: 0       Jan       Feb       Mar       Apr       May       Jun  \\\n",
        "134        2010 -1.096700 -1.659897 -1.431199  1.707893  0.988248  0.064086   \n",
        "135        2011  2.185585  2.128602  2.173528  2.832432  0.189664 -0.106810   \n",
        "136        2012  1.039390  0.088641  0.096228 -0.822319 -0.289487 -1.217631   \n",
        "137        2013 -0.106804 -0.542775  1.012684  0.021085  0.828531  1.345802   \n",
        "138        2014       NaN       NaN       NaN       NaN       NaN       NaN   \n",
        "\n",
        "          Jul       Aug       Sep       Oct       Nov       Dec  \n",
        "134  2.018725  1.832825  2.474296  1.751556  1.599621  2.730281  \n",
        "135  1.054366  0.051388  1.118517  0.627563  1.322029  2.292122  \n",
        "136 -0.167156 -0.702297  0.194123  0.128010  0.281061 -0.829765  \n",
        "137  0.797204 -0.222680  0.317375 -0.309098  0.836244 -0.117755  \n",
        "138       NaN       NaN       NaN       NaN       NaN       NaN  "
       ]
      }
     ],
     "prompt_number": 105
    },
    {
     "cell_type": "code",
     "collapsed": false,
     "input": [
      "SOI = pd.read_csv('./data/NIWA_SOI.csv', index_col=0)"
     ],
     "language": "python",
     "metadata": {},
     "outputs": [],
     "prompt_number": 109
    },
    {
     "cell_type": "code",
     "collapsed": false,
     "input": [
      "SOI.head()"
     ],
     "language": "python",
     "metadata": {},
     "outputs": [
      {
       "metadata": {},
       "output_type": "pyout",
       "prompt_number": 110,
       "text": [
        "           Jan       Feb       Mar       Apr       May       Jun       Jul  \\\n",
        "1876       NaN       NaN       NaN       NaN       NaN       NaN       NaN   \n",
        "1877 -1.044600 -0.834198 -0.759131 -1.103454  0.349381 -1.901213 -1.002934   \n",
        "1878 -0.940401 -2.339884 -1.981073 -1.009742  0.189664 -0.448601  1.568691   \n",
        "1879  1.404088  1.302904  1.257072  1.426758  0.189664  1.602146  2.147306   \n",
        "1880  1.195689  0.622917  1.379266  0.583354  1.227823  0.833116  0.154297   \n",
        "\n",
        "           Aug       Sep       Oct       Nov       Dec  \n",
        "1876       NaN       NaN       NaN       NaN       NaN  \n",
        "1877 -1.044881 -1.839545 -1.745311 -1.453885 -1.541774  \n",
        "1878  1.216173  1.734780  1.002227  1.460825  1.744423  \n",
        "1879  2.243925  1.858033  1.439335  0.905642 -0.774995  \n",
        "1880  1.353207  0.748760  0.377786  0.628051 -0.391605  "
       ]
      }
     ],
     "prompt_number": 110
    },
    {
     "cell_type": "code",
     "collapsed": false,
     "input": [
      "SOI.index"
     ],
     "language": "python",
     "metadata": {},
     "outputs": [
      {
       "metadata": {},
       "output_type": "pyout",
       "prompt_number": 111,
       "text": [
        "Float64Index([1876.0, 1877.0, 1878.0, 1879.0, 1880.0, 1881.0, 1882.0, 1883.0, 1884.0, 1885.0, 1886.0, 1887.0, 1888.0, 1889.0, 1890.0, 1891.0, 1892.0, 1893.0, 1894.0, 1895.0, 1896.0, 1897.0, 1898.0, 1899.0, 1900.0, 1901.0, 1902.0, 1903.0, 1904.0, 1905.0, 1906.0, 1907.0, 1908.0, 1909.0, 1910.0, 1911.0, 1912.0, 1913.0, 1914.0, 1915.0, 1916.0, 1917.0, 1918.0, 1919.0, 1920.0, 1921.0, 1922.0, 1923.0, 1924.0, 1925.0, 1926.0, 1927.0, 1928.0, 1929.0, 1930.0, 1931.0, 1932.0, 1933.0, 1934.0, 1935.0, 1936.0, 1937.0, 1938.0, 1939.0, 1940.0, 1941.0, 1942.0, 1943.0, 1944.0, 1945.0, 1946.0, 1947.0, 1948.0, 1949.0, 1950.0, 1951.0, 1952.0, 1953.0, 1954.0, 1955.0, 1956.0, 1957.0, 1958.0, 1959.0, 1960.0, 1961.0, 1962.0, 1963.0, 1964.0, 1965.0, 1966.0, 1967.0, 1968.0, 1969.0, 1970.0, 1971.0, 1972.0, 1973.0, 1974.0, 1975.0, ...], dtype='float64')"
       ]
      }
     ],
     "prompt_number": 111
    },
    {
     "cell_type": "code",
     "collapsed": false,
     "input": [
      "SOI = SOI.dropna()"
     ],
     "language": "python",
     "metadata": {},
     "outputs": [],
     "prompt_number": 112
    },
    {
     "cell_type": "code",
     "collapsed": false,
     "input": [
      "SOI.head()"
     ],
     "language": "python",
     "metadata": {},
     "outputs": [
      {
       "metadata": {},
       "output_type": "pyout",
       "prompt_number": 113,
       "text": [
        "           Jan       Feb       Mar       Apr       May       Jun       Jul  \\\n",
        "1877 -1.044600 -0.834198 -0.759131 -1.103454  0.349381 -1.901213 -1.002934   \n",
        "1878 -0.940401 -2.339884 -1.981073 -1.009742  0.189664 -0.448601  1.568691   \n",
        "1879  1.404088  1.302904  1.257072  1.426758  0.189664  1.602146  2.147306   \n",
        "1880  1.195689  0.622917  1.379266  0.583354  1.227823  0.833116  0.154297   \n",
        "1881 -0.784101 -0.737057 -0.025966  0.021085 -0.449204 -0.619496 -0.552899   \n",
        "\n",
        "           Aug       Sep       Oct       Nov       Dec  \n",
        "1877 -1.044881 -1.839545 -1.745311 -1.453885 -1.541774  \n",
        "1878  1.216173  1.734780  1.002227  1.460825  1.744423  \n",
        "1879  2.243925  1.858033  1.439335  0.905642 -0.774995  \n",
        "1880  1.353207  0.748760  0.377786  0.628051 -0.391605  \n",
        "1881 -1.387465 -1.469787 -2.557084  0.628051  0.868104  "
       ]
      }
     ],
     "prompt_number": 113
    },
    {
     "cell_type": "code",
     "collapsed": false,
     "input": [
      "SOI.index"
     ],
     "language": "python",
     "metadata": {},
     "outputs": [
      {
       "metadata": {},
       "output_type": "pyout",
       "prompt_number": 114,
       "text": [
        "Float64Index([1877.0, 1878.0, 1879.0, 1880.0, 1881.0, 1882.0, 1883.0, 1884.0, 1885.0, 1886.0, 1887.0, 1888.0, 1889.0, 1890.0, 1891.0, 1892.0, 1893.0, 1894.0, 1895.0, 1896.0, 1897.0, 1898.0, 1899.0, 1900.0, 1901.0, 1902.0, 1903.0, 1904.0, 1905.0, 1906.0, 1907.0, 1908.0, 1909.0, 1910.0, 1911.0, 1912.0, 1913.0, 1914.0, 1915.0, 1916.0, 1917.0, 1918.0, 1919.0, 1920.0, 1921.0, 1922.0, 1923.0, 1924.0, 1925.0, 1926.0, 1927.0, 1928.0, 1929.0, 1930.0, 1931.0, 1932.0, 1933.0, 1934.0, 1935.0, 1936.0, 1937.0, 1938.0, 1939.0, 1940.0, 1941.0, 1942.0, 1943.0, 1944.0, 1945.0, 1946.0, 1947.0, 1948.0, 1949.0, 1950.0, 1951.0, 1952.0, 1953.0, 1954.0, 1955.0, 1956.0, 1957.0, 1958.0, 1959.0, 1960.0, 1961.0, 1962.0, 1963.0, 1964.0, 1965.0, 1966.0, 1967.0, 1968.0, 1969.0, 1970.0, 1971.0, 1972.0, 1973.0, 1974.0, 1975.0, 1976.0, ...], dtype='float64')"
       ]
      }
     ],
     "prompt_number": 114
    },
    {
     "cell_type": "code",
     "collapsed": false,
     "input": [
      "SOI.index = map(int, SOI.index)"
     ],
     "language": "python",
     "metadata": {},
     "outputs": [],
     "prompt_number": 115
    },
    {
     "cell_type": "code",
     "collapsed": false,
     "input": [
      "SOI.index"
     ],
     "language": "python",
     "metadata": {},
     "outputs": [
      {
       "metadata": {},
       "output_type": "pyout",
       "prompt_number": 116,
       "text": [
        "Int64Index([1877, 1878, 1879, 1880, 1881, 1882, 1883, 1884, 1885, 1886, 1887, 1888, 1889, 1890, 1891, 1892, 1893, 1894, 1895, 1896, 1897, 1898, 1899, 1900, 1901, 1902, 1903, 1904, 1905, 1906, 1907, 1908, 1909, 1910, 1911, 1912, 1913, 1914, 1915, 1916, 1917, 1918, 1919, 1920, 1921, 1922, 1923, 1924, 1925, 1926, 1927, 1928, 1929, 1930, 1931, 1932, 1933, 1934, 1935, 1936, 1937, 1938, 1939, 1940, 1941, 1942, 1943, 1944, 1945, 1946, 1947, 1948, 1949, 1950, 1951, 1952, 1953, 1954, 1955, 1956, 1957, 1958, 1959, 1960, 1961, 1962, 1963, 1964, 1965, 1966, 1967, 1968, 1969, 1970, 1971, 1972, 1973, 1974, 1975, 1976, ...], dtype='int64')"
       ]
      }
     ],
     "prompt_number": 116
    },
    {
     "cell_type": "markdown",
     "metadata": {},
     "source": [
      "#### Stacking "
     ]
    },
    {
     "cell_type": "code",
     "collapsed": false,
     "input": [
      "SOIs = SOI.stack()"
     ],
     "language": "python",
     "metadata": {},
     "outputs": [],
     "prompt_number": 117
    },
    {
     "cell_type": "code",
     "collapsed": false,
     "input": [
      "SOIs.head()"
     ],
     "language": "python",
     "metadata": {},
     "outputs": [
      {
       "metadata": {},
       "output_type": "pyout",
       "prompt_number": 118,
       "text": [
        "1877  Jan   -1.044600\n",
        "      Feb   -0.834198\n",
        "      Mar   -0.759131\n",
        "      Apr   -1.103454\n",
        "      May    0.349381\n",
        "dtype: float64"
       ]
      }
     ],
     "prompt_number": 118
    },
    {
     "cell_type": "code",
     "collapsed": false,
     "input": [
      "SOIs.index"
     ],
     "language": "python",
     "metadata": {},
     "outputs": [
      {
       "metadata": {},
       "output_type": "pyout",
       "prompt_number": 119,
       "text": [
        "MultiIndex(levels=[[1877, 1878, 1879, 1880, 1881, 1882, 1883, 1884, 1885, 1886, 1887, 1888, 1889, 1890, 1891, 1892, 1893, 1894, 1895, 1896, 1897, 1898, 1899, 1900, 1901, 1902, 1903, 1904, 1905, 1906, 1907, 1908, 1909, 1910, 1911, 1912, 1913, 1914, 1915, 1916, 1917, 1918, 1919, 1920, 1921, 1922, 1923, 1924, 1925, 1926, 1927, 1928, 1929, 1930, 1931, 1932, 1933, 1934, 1935, 1936, 1937, 1938, 1939, 1940, 1941, 1942, 1943, 1944, 1945, 1946, 1947, 1948, 1949, 1950, 1951, 1952, 1953, 1954, 1955, 1956, 1957, 1958, 1959, 1960, 1961, 1962, 1963, 1964, 1965, 1966, 1967, 1968, 1969, 1970, 1971, 1972, 1973, 1974, 1975, 1976, ...], [u'Jan', u'Feb', u'Mar', u'Apr', u'May', u'Jun', u'Jul', u'Aug', u'Sep', u'Oct', u'Nov', u'Dec']],\n",
        "           labels=[[0, 0, 0, 0, 0, 0, 0, 0, 0, 0, 0, 0, 1, 1, 1, 1, 1, 1, 1, 1, 1, 1, 1, 1, 2, 2, 2, 2, 2, 2, 2, 2, 2, 2, 2, 2, 3, 3, 3, 3, 3, 3, 3, 3, 3, 3, 3, 3, 4, 4, 4, 4, 4, 4, 4, 4, 4, 4, 4, 4, 5, 5, 5, 5, 5, 5, 5, 5, 5, 5, 5, 5, 6, 6, 6, 6, 6, 6, 6, 6, 6, 6, 6, 6, 7, 7, 7, 7, 7, 7, 7, 7, 7, 7, 7, 7, 8, 8, 8, 8, ...], [0, 1, 2, 3, 4, 5, 6, 7, 8, 9, 10, 11, 0, 1, 2, 3, 4, 5, 6, 7, 8, 9, 10, 11, 0, 1, 2, 3, 4, 5, 6, 7, 8, 9, 10, 11, 0, 1, 2, 3, 4, 5, 6, 7, 8, 9, 10, 11, 0, 1, 2, 3, 4, 5, 6, 7, 8, 9, 10, 11, 0, 1, 2, 3, 4, 5, 6, 7, 8, 9, 10, 11, 0, 1, 2, 3, 4, 5, 6, 7, 8, 9, 10, 11, 0, 1, 2, 3, 4, 5, 6, 7, 8, 9, 10, 11, 0, 1, 2, 3, ...]])"
       ]
      }
     ],
     "prompt_number": 119
    },
    {
     "cell_type": "code",
     "collapsed": false,
     "input": [
      "from dateutil import parser"
     ],
     "language": "python",
     "metadata": {},
     "outputs": [],
     "prompt_number": 145
    },
    {
     "cell_type": "code",
     "collapsed": false,
     "input": [
      "dateindex = [parser.parse(\"-\".join(map(str,[x[0],x[1], 1]))) for x in SOIs.index]"
     ],
     "language": "python",
     "metadata": {},
     "outputs": [],
     "prompt_number": 146
    },
    {
     "cell_type": "code",
     "collapsed": false,
     "input": [
      "SOIs.index=dateindex"
     ],
     "language": "python",
     "metadata": {},
     "outputs": [],
     "prompt_number": 147
    },
    {
     "cell_type": "code",
     "collapsed": false,
     "input": [
      "SOIs.head()"
     ],
     "language": "python",
     "metadata": {},
     "outputs": [
      {
       "metadata": {},
       "output_type": "pyout",
       "prompt_number": 148,
       "text": [
        "1877-01-01   -1.044600\n",
        "1877-02-01   -0.834198\n",
        "1877-03-01   -0.759131\n",
        "1877-04-01   -1.103454\n",
        "1877-05-01    0.349381\n",
        "dtype: float64"
       ]
      }
     ],
     "prompt_number": 148
    },
    {
     "cell_type": "code",
     "collapsed": false,
     "input": [
      "SOIs.plot(figsize=(12,5))"
     ],
     "language": "python",
     "metadata": {},
     "outputs": [
      {
       "metadata": {},
       "output_type": "pyout",
       "prompt_number": 149,
       "text": [
        "<matplotlib.axes._subplots.AxesSubplot at 0x10c12a8d0>"
       ]
      },
      {
       "metadata": {},
       "output_type": "display_data",
       "png": "[encoded data removed]",
       "text": [
        "<matplotlib.figure.Figure at 0x10c15b650>"
       ]
      }
     ],
     "prompt_number": 149
    },
    {
     "cell_type": "heading",
     "level": 5,
     "metadata": {},
     "source": [
      "Saving in csv, excel etc"
     ]
    },
    {
     "cell_type": "code",
     "collapsed": false,
     "input": [
      "#SOIs.to"
     ],
     "language": "python",
     "metadata": {},
     "outputs": [],
     "prompt_number": 143
    },
    {
     "cell_type": "heading",
     "level": 3,
     "metadata": {},
     "source": [
      "groupby operations in Pandas "
     ]
    },
    {
     "cell_type": "markdown",
     "metadata": {},
     "source": [
      "The **groupby** method is a very powerful method of pandas DataFrames, in a nutschell it allows you to\n",
      "\n",
      "1. **split** your data according to unique values of a variable (or unique *combinations* of *N* variables)\n",
      "\n",
      "2. **apply** some operation to the groups thus defined, either an *aggregation* or *transformation* method \n",
      "\n",
      "3. **combine** the results into a DataFrame\n",
      "\n",
      "This process is illustrated below, where the operation is here calculating the mean of the groups's values\n",
      "\n",
      "A very nice explanation of the **groupby** method, with examples, is available from Pandas's documentation at:  \n",
      "\n",
      "[http://pandas.pydata.org/pandas-docs/stable/groupby.html](http://pandas.pydata.org/pandas-docs/stable/groupby.html)\n",
      "\n",
      "and a short tutorial on Wes McKinney's blog [here](http://wesmckinney.com/blog/?p=125)"
     ]
    },
    {
     "cell_type": "code",
     "collapsed": false,
     "input": [
      "Image(filename='images/split-apply-combine.png', width=800)"
     ],
     "language": "python",
     "metadata": {},
     "outputs": [
      {
       "metadata": {
        "png": {
         "width": 800
        }
       },
       "output_type": "pyout",
       "png": "[encoded data removed]",
       "prompt_number": 92,
       "text": [
        "<IPython.core.display.Image at 0x10852a7d0>"
       ]
      }
     ],
     "prompt_number": 92
    },
    {
     "cell_type": "code",
     "collapsed": false,
     "input": [
      "url = \"ftp://ftp.cpc.ncep.noaa.gov/wd52dg/data/indices/ersst3b.nino.mth.81-10.ascii\""
     ],
     "language": "python",
     "metadata": {},
     "outputs": [],
     "prompt_number": 130
    },
    {
     "cell_type": "code",
     "collapsed": false,
     "input": [
      "#!wget -P ./data ftp://ftp.cpc.ncep.noaa.gov/wd52dg/data/indices/ersst3b.nino.mth.81-10.ascii"
     ],
     "language": "python",
     "metadata": {},
     "outputs": [],
     "prompt_number": 131
    },
    {
     "cell_type": "code",
     "collapsed": false,
     "input": [
      "data = pd.read_table(url, sep='\\s+')"
     ],
     "language": "python",
     "metadata": {},
     "outputs": [],
     "prompt_number": 132
    },
    {
     "cell_type": "code",
     "collapsed": false,
     "input": [
      "data.tail()"
     ],
     "language": "python",
     "metadata": {},
     "outputs": [
      {
       "metadata": {},
       "output_type": "pyout",
       "prompt_number": 133,
       "text": [
        "       YR  MON  NINO1+2  ANOM  NINO3  ANOM.1  NINO4  ANOM.2  NINO3.4  ANOM.3\n",
        "771  2014    4    25.22 -0.39  27.55    0.00  28.80    0.25    27.66   -0.13\n",
        "772  2014    5    25.02  0.60  27.71    0.46  29.24    0.39    28.14    0.23\n",
        "773  2014    6    24.49  1.41  27.11    0.49  29.09    0.24    27.80    0.11\n",
        "774  2014    7    23.22  1.23  26.24    0.45  29.00    0.20    27.28    0.00\n",
        "775  2014    8    22.13  1.04  25.35    0.15  29.00    0.28    26.75   -0.18"
       ]
      }
     ],
     "prompt_number": 133
    },
    {
     "cell_type": "markdown",
     "metadata": {},
     "source": [
      "I only keep the raw - monthly - values of NINO 3.4 "
     ]
    },
    {
     "cell_type": "code",
     "collapsed": false,
     "input": [
      "nino = data[['YR','MON','NINO3.4']]"
     ],
     "language": "python",
     "metadata": {},
     "outputs": [],
     "prompt_number": 97
    },
    {
     "cell_type": "code",
     "collapsed": false,
     "input": [
      "nino.head()"
     ],
     "language": "python",
     "metadata": {},
     "outputs": [
      {
       "metadata": {},
       "output_type": "pyout",
       "prompt_number": 98,
       "text": [
        "     YR  MON  NINO3.4\n",
        "0  1950    1    24.83\n",
        "1  1950    2    25.20\n",
        "2  1950    3    26.03\n",
        "3  1950    4    26.36\n",
        "4  1950    5    26.19"
       ]
      }
     ],
     "prompt_number": 98
    },
    {
     "cell_type": "markdown",
     "metadata": {},
     "source": [
      "Now I want to calculate a climatology (over the whole period available)\n",
      "\n",
      "I first group by UNIQUE values of the variable months, I should get 12 groups"
     ]
    },
    {
     "cell_type": "code",
     "collapsed": false,
     "input": [
      "groups = nino.groupby('MON')"
     ],
     "language": "python",
     "metadata": {},
     "outputs": [],
     "prompt_number": 99
    },
    {
     "cell_type": "code",
     "collapsed": false,
     "input": [
      "for month, group in groups:\n",
      "    print month\n",
      "    print group.head()"
     ],
     "language": "python",
     "metadata": {},
     "outputs": [
      {
       "output_type": "stream",
       "stream": "stdout",
       "text": [
        "1\n",
        "      YR  MON  NINO3.4\n",
        "0   1950    1    24.83\n",
        "12  1951    1    25.46\n",
        "24  1952    1    26.85\n",
        "36  1953    1    26.85\n",
        "48  1954    1    27.03\n",
        "2\n",
        "      YR  MON  NINO3.4\n",
        "1   1950    2    25.20\n",
        "13  1951    2    25.78\n",
        "25  1952    2    26.79\n",
        "37  1953    2    27.19\n",
        "49  1954    2    27.22\n",
        "3\n",
        "      YR  MON  NINO3.4\n",
        "2   1950    3    26.03\n",
        "14  1951    3    26.72\n",
        "26  1952    3    27.32\n",
        "38  1953    3    27.68\n",
        "50  1954    3    27.21\n",
        "4\n",
        "      YR  MON  NINO3.4\n",
        "3   1950    4    26.36\n",
        "15  1951    4    27.24\n",
        "27  1952    4    27.88\n",
        "39  1953    4    28.19\n",
        "51  1954    4    26.87\n",
        "5\n",
        "      YR  MON  NINO3.4\n",
        "4   1950    5    26.19\n",
        "16  1951    5    27.68\n",
        "28  1952    5    27.99\n",
        "40  1953    5    28.29\n",
        "52  1954    5    27.07\n",
        "6\n",
        "      YR  MON  NINO3.4\n",
        "5   1950    6    26.52\n",
        "17  1951    6    27.46\n",
        "29  1952    6    27.33\n",
        "41  1953    6    28.02\n",
        "53  1954    6    26.93\n",
        "7\n",
        "      YR  MON  NINO3.4\n",
        "6   1950    7    26.42\n",
        "18  1951    7    27.72\n",
        "30  1952    7    26.72\n",
        "42  1953    7    27.52\n",
        "54  1954    7    26.37\n",
        "8\n",
        "      YR  MON  NINO3.4\n",
        "7   1950    8    25.98\n",
        "19  1951    8    27.36\n",
        "31  1952    8    26.46\n",
        "43  1953    8    27.16\n",
        "55  1954    8    25.73\n",
        "9\n",
        "      YR  MON  NINO3.4\n",
        "8   1950    9    25.78\n",
        "20  1951    9    27.51\n",
        "32  1952    9    26.54\n",
        "44  1953    9    27.13\n",
        "56  1954    9    25.38\n",
        "10\n",
        "      YR  MON  NINO3.4\n",
        "9   1950   10    25.96\n",
        "21  1951   10    27.43\n",
        "33  1952   10    26.54\n",
        "45  1953   10    27.02\n",
        "57  1954   10    25.51\n",
        "11\n",
        "      YR  MON  NINO3.4\n",
        "10  1950   11    25.64\n",
        "22  1951   11    27.48\n",
        "34  1952   11    26.36\n",
        "46  1953   11    26.96\n",
        "58  1954   11    25.67\n",
        "12\n",
        "      YR  MON  NINO3.4\n",
        "11  1950   12    25.50\n",
        "23  1951   12    27.12\n",
        "35  1952   12    26.53\n",
        "47  1953   12    26.99\n",
        "59  1954   12    25.37\n"
       ]
      }
     ],
     "prompt_number": 100
    },
    {
     "cell_type": "code",
     "collapsed": false,
     "input": [
      "climatology = groups.mean()"
     ],
     "language": "python",
     "metadata": {},
     "outputs": [],
     "prompt_number": 101
    },
    {
     "cell_type": "markdown",
     "metadata": {},
     "source": [
      "Same as \n",
      "\n",
      "    climatology = groups.aggregate(np.mean)\n",
      "    \n",
      "    "
     ]
    },
    {
     "cell_type": "code",
     "collapsed": false,
     "input": [
      "climatology['NINO3.4'].head(12)"
     ],
     "language": "python",
     "metadata": {},
     "outputs": [
      {
       "metadata": {},
       "output_type": "pyout",
       "prompt_number": 102,
       "text": [
        "MON\n",
        "1      26.484615\n",
        "2      26.676923\n",
        "3      27.184154\n",
        "4      27.623538\n",
        "5      27.739538\n",
        "6      27.544462\n",
        "7      27.151692\n",
        "8      26.764531\n",
        "9      26.667344\n",
        "10     26.632656\n",
        "11     26.593750\n",
        "12     26.529062\n",
        "Name: NINO3.4, dtype: float64"
       ]
      }
     ],
     "prompt_number": 102
    },
    {
     "cell_type": "code",
     "collapsed": false,
     "input": [
      "climatology['NINO3.4'].plot(kind='bar',ylim=[26,28], rot=0)"
     ],
     "language": "python",
     "metadata": {},
     "outputs": [
      {
       "metadata": {},
       "output_type": "pyout",
       "prompt_number": 103,
       "text": [
        "<matplotlib.axes.AxesSubplot at 0x1085a9190>"
       ]
      },
      {
       "metadata": {},
       "output_type": "display_data",
       "png": "[encoded data removed]",
       "text": [
        "<matplotlib.figure.Figure at 0x1085a97d0>"
       ]
      }
     ],
     "prompt_number": 103
    },
    {
     "cell_type": "markdown",
     "metadata": {},
     "source": [
      "Now suppose we want to apply a function that doesnt **aggregate** the values in the groups (such as sum, or mean) but rather want to apply a function to those values ... \n",
      "\n",
      "An example would be calculating the standardized anomalies per month (to each value subtract the mean of the corresponding month, then divide by the standard-deviation)"
     ]
    },
    {
     "cell_type": "code",
     "collapsed": false,
     "input": [
      "def zscore(x): \n",
      "    z = (x - x.mean()) / x.std()\n",
      "    return z"
     ],
     "language": "python",
     "metadata": {},
     "outputs": [],
     "prompt_number": 104
    },
    {
     "cell_type": "code",
     "collapsed": false,
     "input": [
      "transformed = groups.transform(zscore)"
     ],
     "language": "python",
     "metadata": {},
     "outputs": [],
     "prompt_number": 105
    },
    {
     "cell_type": "code",
     "collapsed": false,
     "input": [
      "transformed['NINO3.4'].plot()"
     ],
     "language": "python",
     "metadata": {},
     "outputs": [
      {
       "metadata": {},
       "output_type": "pyout",
       "prompt_number": 106,
       "text": [
        "<matplotlib.axes.AxesSubplot at 0x1080b0410>"
       ]
      },
      {
       "metadata": {},
       "output_type": "display_data",
       "png": "[encoded data removed]",
       "text": [
        "<matplotlib.figure.Figure at 0x107b94ed0>"
       ]
      }
     ],
     "prompt_number": 106
    },
    {
     "cell_type": "code",
     "collapsed": false,
     "input": [
      "data['ANOM.3'].plot()"
     ],
     "language": "python",
     "metadata": {},
     "outputs": [
      {
       "metadata": {},
       "output_type": "pyout",
       "prompt_number": 107,
       "text": [
        "<matplotlib.axes.AxesSubplot at 0x107b351d0>"
       ]
      },
      {
       "metadata": {},
       "output_type": "display_data",
       "png": "[encoded data removed]",
       "text": [
        "<matplotlib.figure.Figure at 0x107bdc050>"
       ]
      }
     ],
     "prompt_number": 107
    },
    {
     "cell_type": "markdown",
     "metadata": {},
     "source": [
      "## 4. Some more data manipulation with Pandas\n",
      "\n",
      "This is some real data provided by Dan Smale (NIWA Lauder). It is a summary file of daily QA/QC (data quality) diagnostics of raw GPS data collected at NIWA Lauder. The GPS data can be used to infer the amount of total column water vapour in the atmosphere (above lauder).\n",
      "\n",
      "Summary of data\n",
      "/data/gruan/gnss_processing/data/netr9_laud/rinex_211/LAUD0010.13S:SUM 13  1  1 00:00 13  1  1 23:59 24.00  30  25298  23597  93  0.57  0.43  11799\n",
      "\n",
      "+ 13  1  1 00:00 13  1  1 23:59: time period the QC/QA variables are calculated for.\n",
      "+ 24 = number of hourly entries\n",
      "+ 30 = dt\n",
      "+ 25298  = #expt = number of data points expected\n",
      "+ 23597  = #have = number of data points collected\n",
      "+ 93  =% #have/#expt*100\n",
      "+ 0.57 = mp1 = mean path 1\n",
      "+ 0.43  = mp2 = mean path 2\n",
      "+ 11799 =o/slps = number of time slips\n"
     ]
    },
    {
     "cell_type": "code",
     "collapsed": false,
     "input": [
      "data = pd.read_table('./data/teqc_SUM.dat', sep='\\s+', header=None) ## the '\\s+' is a regular expression"
     ],
     "language": "python",
     "metadata": {},
     "outputs": [],
     "prompt_number": 108
    },
    {
     "cell_type": "code",
     "collapsed": false,
     "input": [
      "data.head()"
     ],
     "language": "python",
     "metadata": {},
     "outputs": [
      {
       "metadata": {},
       "output_type": "pyout",
       "prompt_number": 109,
       "text": [
        "                                                  0   1   2   3      4   5   \\\n",
        "0  /data/gruan/gnss_processing/data/netr9_laud/ri...  13   1   1  00:00  13   \n",
        "1  /data/gruan/gnss_processing/data/netr9_laud/ri...  13   1   2  00:00  13   \n",
        "2  /data/gruan/gnss_processing/data/netr9_laud/ri...  13   1   3  00:00  13   \n",
        "3  /data/gruan/gnss_processing/data/netr9_laud/ri...  13   1   4  00:00  13   \n",
        "4  /data/gruan/gnss_processing/data/netr9_laud/ri...  13   1   5  00:00  13   \n",
        "\n",
        "   6   7      8   9   10     11     12  13    14    15     16  \n",
        "0   1   1  23:59  24  30  25298  23597  93  0.57  0.43  11799  \n",
        "1   1   2  23:59  24  30  24530  22652  92  0.58  0.42  22652  \n",
        "2   1   3  23:59  24  30  25296  23235  92  0.61  0.43   5809  \n",
        "3   1   4  23:59  24  30  25300  23939  95  0.59  0.45   7980  \n",
        "4   1   5  23:59  24  30  25301  24581  97  0.64  0.43  12291  "
       ]
      }
     ],
     "prompt_number": 109
    },
    {
     "cell_type": "code",
     "collapsed": false,
     "input": [
      "data = pd.read_table('./data/teqc_SUM.dat', header=None, sep='\\s+', \\\n",
      "                     names=['path','year1','m1','d1','t1','year2','m2','d2','t2','nh','nd','c1','c2','c3','c4','c5','c6'])\n",
      "                                    "
     ],
     "language": "python",
     "metadata": {},
     "outputs": [],
     "prompt_number": 110
    },
    {
     "cell_type": "code",
     "collapsed": false,
     "input": [
      "data.head()"
     ],
     "language": "python",
     "metadata": {},
     "outputs": [
      {
       "metadata": {},
       "output_type": "pyout",
       "prompt_number": 111,
       "text": [
        "                                                path  year1  m1  d1     t1  \\\n",
        "0  /data/gruan/gnss_processing/data/netr9_laud/ri...     13   1   1  00:00   \n",
        "1  /data/gruan/gnss_processing/data/netr9_laud/ri...     13   1   2  00:00   \n",
        "2  /data/gruan/gnss_processing/data/netr9_laud/ri...     13   1   3  00:00   \n",
        "3  /data/gruan/gnss_processing/data/netr9_laud/ri...     13   1   4  00:00   \n",
        "4  /data/gruan/gnss_processing/data/netr9_laud/ri...     13   1   5  00:00   \n",
        "\n",
        "   year2  m2  d2     t2  nh  nd     c1     c2  c3    c4    c5     c6  \n",
        "0     13   1   1  23:59  24  30  25298  23597  93  0.57  0.43  11799  \n",
        "1     13   1   2  23:59  24  30  24530  22652  92  0.58  0.42  22652  \n",
        "2     13   1   3  23:59  24  30  25296  23235  92  0.61  0.43   5809  \n",
        "3     13   1   4  23:59  24  30  25300  23939  95  0.59  0.45   7980  \n",
        "4     13   1   5  23:59  24  30  25301  24581  97  0.64  0.43  12291  "
       ]
      }
     ],
     "prompt_number": 111
    },
    {
     "cell_type": "markdown",
     "metadata": {},
     "source": [
      "We want the index (row wise) to properly represent datetime info "
     ]
    },
    {
     "cell_type": "code",
     "collapsed": false,
     "input": [
      "from datetime import datetime"
     ],
     "language": "python",
     "metadata": {},
     "outputs": [],
     "prompt_number": 112
    },
    {
     "cell_type": "code",
     "collapsed": false,
     "input": [
      "data.index = [datetime(y,m,d) for y,m,d in zip(data.year1+2000,data.m1,data.d1)]  # note that we are using list comprehension"
     ],
     "language": "python",
     "metadata": {},
     "outputs": [],
     "prompt_number": 113
    },
    {
     "cell_type": "code",
     "collapsed": false,
     "input": [
      "data.head()"
     ],
     "language": "python",
     "metadata": {},
     "outputs": [
      {
       "metadata": {},
       "output_type": "pyout",
       "prompt_number": 114,
       "text": [
        "                                                         path  year1  m1  d1  \\\n",
        "2013-01-01  /data/gruan/gnss_processing/data/netr9_laud/ri...     13   1   1   \n",
        "2013-01-02  /data/gruan/gnss_processing/data/netr9_laud/ri...     13   1   2   \n",
        "2013-01-03  /data/gruan/gnss_processing/data/netr9_laud/ri...     13   1   3   \n",
        "2013-01-04  /data/gruan/gnss_processing/data/netr9_laud/ri...     13   1   4   \n",
        "2013-01-05  /data/gruan/gnss_processing/data/netr9_laud/ri...     13   1   5   \n",
        "\n",
        "               t1  year2  m2  d2     t2  nh  nd     c1     c2  c3    c4    c5  \\\n",
        "2013-01-01  00:00     13   1   1  23:59  24  30  25298  23597  93  0.57  0.43   \n",
        "2013-01-02  00:00     13   1   2  23:59  24  30  24530  22652  92  0.58  0.42   \n",
        "2013-01-03  00:00     13   1   3  23:59  24  30  25296  23235  92  0.61  0.43   \n",
        "2013-01-04  00:00     13   1   4  23:59  24  30  25300  23939  95  0.59  0.45   \n",
        "2013-01-05  00:00     13   1   5  23:59  24  30  25301  24581  97  0.64  0.43   \n",
        "\n",
        "               c6  \n",
        "2013-01-01  11799  \n",
        "2013-01-02  22652  \n",
        "2013-01-03   5809  \n",
        "2013-01-04   7980  \n",
        "2013-01-05  12291  "
       ]
      }
     ],
     "prompt_number": 114
    },
    {
     "cell_type": "code",
     "collapsed": false,
     "input": [
      "data.pop('path') # we pop the 'path' variable, ve careful it operates in place"
     ],
     "language": "python",
     "metadata": {},
     "outputs": [
      {
       "metadata": {},
       "output_type": "pyout",
       "prompt_number": 115,
       "text": [
        "2013-01-01    /data/gruan/gnss_processing/data/netr9_laud/ri...\n",
        "2013-01-02    /data/gruan/gnss_processing/data/netr9_laud/ri...\n",
        "2013-01-03    /data/gruan/gnss_processing/data/netr9_laud/ri...\n",
        "2013-01-04    /data/gruan/gnss_processing/data/netr9_laud/ri...\n",
        "2013-01-05    /data/gruan/gnss_processing/data/netr9_laud/ri...\n",
        "2013-01-06    /data/gruan/gnss_processing/data/netr9_laud/ri...\n",
        "2013-01-07    /data/gruan/gnss_processing/data/netr9_laud/ri...\n",
        "2013-01-08    /data/gruan/gnss_processing/data/netr9_laud/ri...\n",
        "2013-01-09    /data/gruan/gnss_processing/data/netr9_laud/ri...\n",
        "2013-01-10    /data/gruan/gnss_processing/data/netr9_laud/ri...\n",
        "2013-01-11    /data/gruan/gnss_processing/data/netr9_laud/ri...\n",
        "2013-01-12    /data/gruan/gnss_processing/data/netr9_laud/ri...\n",
        "2013-01-13    /data/gruan/gnss_processing/data/netr9_laud/ri...\n",
        "2013-01-14    /data/gruan/gnss_processing/data/netr9_laud/ri...\n",
        "2013-01-15    /data/gruan/gnss_processing/data/netr9_laud/ri...\n",
        "...\n",
        "2012-12-17    /data/gruan/gnss_processing/data/netr9_laud/ri...\n",
        "2012-12-18    /data/gruan/gnss_processing/data/netr9_laud/ri...\n",
        "2012-12-19    /data/gruan/gnss_processing/data/netr9_laud/ri...\n",
        "2012-12-20    /data/gruan/gnss_processing/data/netr9_laud/ri...\n",
        "2012-12-21    /data/gruan/gnss_processing/data/netr9_laud/ri...\n",
        "2012-12-22    /data/gruan/gnss_processing/data/netr9_laud/ri...\n",
        "2012-12-23    /data/gruan/gnss_processing/data/netr9_laud/ri...\n",
        "2012-12-24    /data/gruan/gnss_processing/data/netr9_laud/ri...\n",
        "2012-12-25    /data/gruan/gnss_processing/data/netr9_laud/ri...\n",
        "2012-12-26    /data/gruan/gnss_processing/data/netr9_laud/ri...\n",
        "2012-12-27    /data/gruan/gnss_processing/data/netr9_laud/ri...\n",
        "2012-12-28    /data/gruan/gnss_processing/data/netr9_laud/ri...\n",
        "2012-12-29    /data/gruan/gnss_processing/data/netr9_laud/ri...\n",
        "2012-12-30    /data/gruan/gnss_processing/data/netr9_laud/ri...\n",
        "2012-12-31    /data/gruan/gnss_processing/data/netr9_laud/ri...\n",
        "Name: path, Length: 551"
       ]
      }
     ],
     "prompt_number": 115
    },
    {
     "cell_type": "code",
     "collapsed": false,
     "input": [
      "data.head()"
     ],
     "language": "python",
     "metadata": {},
     "outputs": [
      {
       "metadata": {},
       "output_type": "pyout",
       "prompt_number": 116,
       "text": [
        "            year1  m1  d1     t1  year2  m2  d2     t2  nh  nd     c1     c2  \\\n",
        "2013-01-01     13   1   1  00:00     13   1   1  23:59  24  30  25298  23597   \n",
        "2013-01-02     13   1   2  00:00     13   1   2  23:59  24  30  24530  22652   \n",
        "2013-01-03     13   1   3  00:00     13   1   3  23:59  24  30  25296  23235   \n",
        "2013-01-04     13   1   4  00:00     13   1   4  23:59  24  30  25300  23939   \n",
        "2013-01-05     13   1   5  00:00     13   1   5  23:59  24  30  25301  24581   \n",
        "\n",
        "            c3    c4    c5     c6  \n",
        "2013-01-01  93  0.57  0.43  11799  \n",
        "2013-01-02  92  0.58  0.42  22652  \n",
        "2013-01-03  92  0.61  0.43   5809  \n",
        "2013-01-04  95  0.59  0.45   7980  \n",
        "2013-01-05  97  0.64  0.43  12291  "
       ]
      }
     ],
     "prompt_number": 116
    },
    {
     "cell_type": "markdown",
     "metadata": {},
     "source": [
      "Sort the dataframe according to the index values (rowwise)  \n",
      "\n",
      "Note that for plotting purposes, you don't even have to do that, pandas + matplotlib understand that the dates need to be in chronological order  "
     ]
    },
    {
     "cell_type": "code",
     "collapsed": false,
     "input": [
      "data2 = data.sort()"
     ],
     "language": "python",
     "metadata": {},
     "outputs": [],
     "prompt_number": 117
    },
    {
     "cell_type": "code",
     "collapsed": false,
     "input": [
      "data2.head()"
     ],
     "language": "python",
     "metadata": {},
     "outputs": [
      {
       "metadata": {},
       "output_type": "pyout",
       "prompt_number": 118,
       "text": [
        "            year1  m1  d1     t1  year2  m2  d2     t2  nh  nd     c1     c2  \\\n",
        "2012-04-28     12   4  28  00:00     12   4  28  23:59  24  30  25462  25461   \n",
        "2012-05-02     12   5   2  01:00     12   5   2  23:59  23  30  24480  24480   \n",
        "2012-05-03     12   5   3  00:00     12   5   3  23:59  24  30  25455  25455   \n",
        "2012-05-04     12   5   4  00:00     12   5   4  23:59  24  30  25459  25458   \n",
        "2012-05-05     12   5   5  00:00     12   5   5  23:59  24  30  25451  25450   \n",
        "\n",
        "             c3    c4    c5     c6  \n",
        "2012-04-28  100  0.55  0.42  25461  \n",
        "2012-05-02  100  0.56  0.42  24480  \n",
        "2012-05-03  100  0.55  0.43  12728  \n",
        "2012-05-04  100  0.55  0.42  25458  \n",
        "2012-05-05  100  0.54  0.42  12725  "
       ]
      }
     ],
     "prompt_number": 118
    },
    {
     "cell_type": "code",
     "collapsed": false,
     "input": [
      "data['c3'].plot(rot=90)"
     ],
     "language": "python",
     "metadata": {},
     "outputs": [
      {
       "metadata": {},
       "output_type": "pyout",
       "prompt_number": 119,
       "text": [
        "<matplotlib.axes.AxesSubplot at 0x107ddc4d0>"
       ]
      },
      {
       "metadata": {},
       "output_type": "display_data",
       "png": "[encoded data removed]",
       "text": [
        "<matplotlib.figure.Figure at 0x107dbac10>"
       ]
      }
     ],
     "prompt_number": 119
    },
    {
     "cell_type": "code",
     "collapsed": false,
     "input": [
      "plt.plot(data2.c3.values)"
     ],
     "language": "python",
     "metadata": {},
     "outputs": [
      {
       "metadata": {},
       "output_type": "pyout",
       "prompt_number": 120,
       "text": [
        "[<matplotlib.lines.Line2D at 0x1021a6610>]"
       ]
      },
      {
       "metadata": {},
       "output_type": "display_data",
       "png": "[encoded data removed]",
       "text": [
        "<matplotlib.figure.Figure at 0x107f97c10>"
       ]
      }
     ],
     "prompt_number": 120
    },
    {
     "cell_type": "code",
     "collapsed": false,
     "input": [
      "data.columns"
     ],
     "language": "python",
     "metadata": {},
     "outputs": [
      {
       "metadata": {},
       "output_type": "pyout",
       "prompt_number": 121,
       "text": [
        "Index([u'year1', u'm1', u'd1', u't1', u'year2', u'm2', u'd2', u't2', u'nh', u'nd', u'c1', u'c2', u'c3', u'c4', u'c5', u'c6'], dtype='object')"
       ]
      }
     ],
     "prompt_number": 121
    },
    {
     "cell_type": "code",
     "collapsed": false,
     "input": [
      "data2 = data[data.columns[-6:]] \n",
      "# same as data2 = data[['c1','c2','c3','c4','c5','c6']] or data2 = data.ix[:,10::]"
     ],
     "language": "python",
     "metadata": {},
     "outputs": [],
     "prompt_number": 122
    },
    {
     "cell_type": "code",
     "collapsed": false,
     "input": [
      "data2.head()"
     ],
     "language": "python",
     "metadata": {},
     "outputs": [
      {
       "metadata": {},
       "output_type": "pyout",
       "prompt_number": 123,
       "text": [
        "               c1     c2  c3    c4    c5     c6\n",
        "2013-01-01  25298  23597  93  0.57  0.43  11799\n",
        "2013-01-02  24530  22652  92  0.58  0.42  22652\n",
        "2013-01-03  25296  23235  92  0.61  0.43   5809\n",
        "2013-01-04  25300  23939  95  0.59  0.45   7980\n",
        "2013-01-05  25301  24581  97  0.64  0.43  12291"
       ]
      }
     ],
     "prompt_number": 123
    },
    {
     "cell_type": "code",
     "collapsed": false,
     "input": [
      "data2.plot(subplots=True, sharex=True, color='b', title='teqc_SUM', figsize=(14,13), rot=90)\n",
      "plt.savefig('teqc_SUM.pdf')"
     ],
     "language": "python",
     "metadata": {},
     "outputs": [
      {
       "metadata": {},
       "output_type": "display_data",
       "png": "[encoded data removed]",
       "text": [
        "<matplotlib.figure.Figure at 0x107be22d0>"
       ]
      }
     ],
     "prompt_number": 124
    },
    {
     "cell_type": "code",
     "collapsed": false,
     "input": [
      "f, ax = plt.subplots(1,1, figsize=(7,7))\n",
      "data.groupby(data['m1']).mean()['c1'].plot(kind='bar', ylim=[24000,26000], color='steelblue',alpha=.7, ax=ax)\n",
      "ax.set_xticklabels(list('JFMAMJJASOND'), rotation=None, fontsize=15);"
     ],
     "language": "python",
     "metadata": {},
     "outputs": [
      {
       "metadata": {},
       "output_type": "display_data",
       "png": "[encoded data removed]",
       "text": [
        "<matplotlib.figure.Figure at 0x10a8e70d0>"
       ]
      }
     ],
     "prompt_number": 125
    },
    {
     "cell_type": "code",
     "collapsed": false,
     "input": [
      "f, ax = plt.subplots(1,1, figsize=(7,7))\n",
      "data.groupby(data.index.month).mean()['c1'].plot(kind='bar',\\\n",
      "                                                 ylim=[24000,26000], color='steelblue',alpha=.7, ax=ax)\n",
      "ax.set_xticklabels(list('JFMAMJJASOND'), rotation=None, fontsize=13);\n",
      "[f.set_fontsize(13) for f in ax.yaxis.get_ticklabels()] # list comprehension again"
     ],
     "language": "python",
     "metadata": {},
     "outputs": [
      {
       "metadata": {},
       "output_type": "pyout",
       "prompt_number": 126,
       "text": [
        "[None, None, None, None, None]"
       ]
      },
      {
       "metadata": {},
       "output_type": "display_data",
       "png": "[encoded data removed]",
       "text": [
        "<matplotlib.figure.Figure at 0x10a6de590>"
       ]
      }
     ],
     "prompt_number": 126
    }
   ],
   "metadata": {}
  }
 ]
}