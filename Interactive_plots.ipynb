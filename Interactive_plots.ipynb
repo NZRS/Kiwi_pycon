{
 "metadata": {
  "name": "",
  "signature": "sha256:c7a4b2c4f09e63b494b78a7c6d81686716198cb68d04bd35d59764fc6f10ffd0"
 },
 "nbformat": 3,
 "nbformat_minor": 0,
 "worksheets": [
  {
   "cells": [
    {
     "cell_type": "code",
     "collapsed": false,
     "input": [
      "%load_ext load_style\n",
      "%load_style talk.css"
     ],
     "language": "python",
     "metadata": {},
     "outputs": [
      {
       "html": [
        "<style>\n",
        "\n",
        ".rendered_html {\n",
        "    font-family: \"proxima-nova\", helvetica;\n",
        "    font-size: 130%;\n",
        "    line-height: 1.5;\n",
        "}\n",
        "\n",
        ".rendered_html h1 {\n",
        "    margin: 0.25em 0em 0.5em;\n",
        "    color: #015C9C;\n",
        "    text-align: center;\n",
        "    line-height: 1.2; \n",
        "    page-break-before: always;\n",
        "}\n",
        "\n",
        ".rendered_html h2 {\n",
        "    margin: 1.1em 0em 0.5em;\n",
        "    color: #26465D;\n",
        "    line-height: 1.2;\n",
        "}\n",
        "\n",
        ".rendered_html h3 {\n",
        "    margin: 1.1em 0em 0.5em;\n",
        "    color: #002845;\n",
        "    line-height: 1.2;\n",
        "}\n",
        "\n",
        ".rendered_html li {\n",
        "    line-height: 1.5; \n",
        "}\n",
        "\n",
        "/*.prompt {\n",
        "    font-size: 120%; \n",
        "}*/\n",
        "\n",
        ".CodeMirror-lines {\n",
        "    font-size: 110%; \n",
        "}\n",
        "\n",
        "/*.output_area {\n",
        "    font-size: 120%; \n",
        "}*/\n",
        "\n",
        "/*#notebook {\n",
        "    background-image: url('files/images/witewall_3.png');\n",
        "}*/\n",
        "\n",
        "h1.bigtitle {\n",
        "    margin: 4cm 1cm 4cm 1cm;\n",
        "    font-size: 300%;\n",
        "}\n",
        "\n",
        "h3.point {\n",
        "    font-size: 200%;\n",
        "    text-align: center;\n",
        "    margin: 2em 0em 2em 0em;\n",
        "    #26465D\n",
        "}\n",
        "\n",
        ".logo {\n",
        "    margin: 20px 0 20px 0;\n",
        "}\n",
        "\n",
        "a.anchor-link {\n",
        "    display: none;\n",
        "}\n",
        "\n",
        "h1.title { \n",
        "    font-size: 250%;\n",
        "}\n",
        "\n",
        "</style>"
       ],
       "metadata": {},
       "output_type": "display_data",
       "text": [
        "<IPython.core.display.HTML at 0x104441c50>"
       ]
      }
     ],
     "prompt_number": 1
    },
    {
     "cell_type": "heading",
     "level": 1,
     "metadata": {},
     "source": [
      "Interactive visualisations in the browser with Python"
     ]
    },
    {
     "cell_type": "markdown",
     "metadata": {},
     "source": [
      "In the past few years, the python (scientific) ecosystem has seen intense development of solutions aimed at bringing interactive data visualisation in the browser, through a set of libraries which basically interface with powerful JavaScript visualisations libraries such as `D3.js`, `rickshaw.js`, `leaflet.js` etc. \n",
      "\n",
      "In this demo we will see: \n",
      "\n",
      "+ [MPLd3](http://mpld3.github.io/)\n",
      "+ [bokeh](http://bokeh.pydata.org/)\n",
      "+ [bearcart](https://github.com/wrobstory/bearcart)\n",
      "+ [folium](https://github.com/wrobstory/folium)"
     ]
    },
    {
     "cell_type": "code",
     "collapsed": false,
     "input": [
      "import os, sys\n",
      "import pandas as pd\n",
      "import numpy as np\n",
      "from numpy import ma\n",
      "import matplotlib.pyplot as plt"
     ],
     "language": "python",
     "metadata": {},
     "outputs": [],
     "prompt_number": 2
    },
    {
     "cell_type": "code",
     "collapsed": false,
     "input": [
      "%matplotlib inline"
     ],
     "language": "python",
     "metadata": {},
     "outputs": [],
     "prompt_number": 3
    },
    {
     "cell_type": "markdown",
     "metadata": {},
     "source": [
      "<hr size=6>"
     ]
    },
    {
     "cell_type": "heading",
     "level": 2,
     "metadata": {},
     "source": [
      "MPLD3"
     ]
    },
    {
     "cell_type": "markdown",
     "metadata": {},
     "source": [
      "[MPLd3](http://mpld3.github.io/) is developed by [Jake VanderPlas](http://www.astro.washington.edu/users/vanderplas/)  \n",
      "\n",
      "MPLD3 provides a simple API for exporting [matplotlib](http://matplotlib.org) graphics to HTML code which can be used within the browser, within standard web pages, blogs, or tools such as the IPython notebook."
     ]
    },
    {
     "cell_type": "code",
     "collapsed": false,
     "input": [
      "import mpld3\n",
      "from mpld3 import plugins\n",
      "mpld3.enable_notebook()"
     ],
     "language": "python",
     "metadata": {},
     "outputs": [],
     "prompt_number": 4
    },
    {
     "cell_type": "code",
     "collapsed": false,
     "input": [
      "xdf = pd.DataFrame(np.random.normal(size=(100)), columns=['A'])"
     ],
     "language": "python",
     "metadata": {},
     "outputs": [],
     "prompt_number": 5
    },
    {
     "cell_type": "code",
     "collapsed": false,
     "input": [
      "f, ax= plt.subplots(figsize=(8,4)); \n",
      "ax.plot(xdf.index, xdf['A'], lw=2, color='b');\n",
      "ax.set_xlim(40,80)\n",
      "ax.grid(color='0.8')"
     ],
     "language": "python",
     "metadata": {},
     "outputs": [
      {
       "html": [
        "\n",
        "\n",
        "<style>\n",
        "\n",
        "</style>\n",
        "\n",
        "<div id=\"fig_el124944200736801344260592\"></div>\n",
        "<script>\n",
        "function mpld3_load_lib(url, callback){\n",
        "  var s = document.createElement('script');\n",
        "  s.src = url;\n",
        "  s.async = true;\n",
        "  s.onreadystatechange = s.onload = callback;\n",
        "  s.onerror = function(){console.warn(\"failed to load library \" + url);};\n",
        "  document.getElementsByTagName(\"head\")[0].appendChild(s);\n",
        "}\n",
        "\n",
        "if(typeof(mpld3) !== \"undefined\" && mpld3._mpld3IsLoaded){\n",
        "   // already loaded: just create the figure\n",
        "   !function(mpld3){\n",
        "       \n",
        "       mpld3.draw_figure(\"fig_el124944200736801344260592\", {\"axes\": [{\"xlim\": [40.0, 80.0], \"yscale\": \"linear\", \"axesbg\": \"#FFFFFF\", \"texts\": [], \"zoomable\": true, \"images\": [], \"xdomain\": [40.0, 80.0], \"ylim\": [-3.0, 4.0], \"paths\": [], \"sharey\": [], \"sharex\": [], \"axesbgalpha\": null, \"axes\": [{\"scale\": \"linear\", \"tickformat\": null, \"grid\": {\"color\": \"#CCCCCC\", \"alpha\": 1.0, \"dasharray\": \"2,2\", \"gridOn\": true}, \"fontsize\": 10.0, \"position\": \"bottom\", \"nticks\": 9, \"tickvalues\": null}, {\"scale\": \"linear\", \"tickformat\": null, \"grid\": {\"color\": \"#CCCCCC\", \"alpha\": 1.0, \"dasharray\": \"2,2\", \"gridOn\": true}, \"fontsize\": 10.0, \"position\": \"left\", \"nticks\": 8, \"tickvalues\": null}], \"lines\": [{\"color\": \"#0000FF\", \"yindex\": 1, \"coordinates\": \"data\", \"dasharray\": \"10,0\", \"zorder\": 2, \"alpha\": 1, \"xindex\": 0, \"linewidth\": 2, \"data\": \"data01\", \"id\": \"el12494420725008\"}], \"markers\": [], \"id\": \"el12494420075152\", \"ydomain\": [-3.0, 4.0], \"collections\": [], \"xscale\": \"linear\", \"bbox\": [0.125, 0.125, 0.77500000000000002, 0.77500000000000002]}], \"height\": 320.0, \"width\": 640.0, \"plugins\": [{\"type\": \"reset\"}, {\"enabled\": false, \"button\": true, \"type\": \"zoom\"}, {\"enabled\": false, \"button\": true, \"type\": \"boxzoom\"}], \"data\": {\"data01\": [[0.0, 0.19605150224549825], [1.0, 0.6095146518971154], [2.0, 0.2068457327944314], [3.0, -0.46555506188903917], [4.0, -0.05799430336788256], [5.0, 1.7959256284624059], [6.0, -1.6401022539314027], [7.0, 0.6310994617323329], [8.0, -0.3557802264699589], [9.0, 0.7534145692661138], [10.0, -0.5878382520772695], [11.0, 0.419122650351103], [12.0, -0.07609537655495774], [13.0, 0.8869545435715167], [14.0, 0.8938363626610604], [15.0, -0.5994543780792048], [16.0, 0.05485219617436113], [17.0, -1.2352245451557489], [18.0, 0.4876240363798756], [19.0, -1.6348215691187349], [20.0, -1.9682177369667846], [21.0, -0.09228762157980748], [22.0, 0.01341458585295576], [23.0, 0.691913897185021], [24.0, -0.5230445986095725], [25.0, 0.2949245325152235], [26.0, 0.9875738617792089], [27.0, -1.1830805674566196], [28.0, -0.15264639928623405], [29.0, 0.45916284444860145], [30.0, 1.3237266930597262], [31.0, 0.8930087421465728], [32.0, -0.9278638632203399], [33.0, 1.7099513308347205], [34.0, 2.4121856375008575], [35.0, 1.3133942332557207], [36.0, 2.2976698629689976], [37.0, -0.722834434400044], [38.0, 0.6072256150734432], [39.0, -2.2403252180200894], [40.0, 0.0855301077612027], [41.0, 1.0650159004429465], [42.0, 0.07382866753771927], [43.0, 0.2816720979351987], [44.0, 0.4121867144647362], [45.0, -0.15747613012522102], [46.0, 0.24502169223783643], [47.0, 0.6439481561592214], [48.0, -0.47790921850023066], [49.0, 0.7784437949376912], [50.0, -0.9323116978761927], [51.0, 1.839677356007899], [52.0, -1.0555082178944484], [53.0, 0.19361093360866033], [54.0, -0.8687921303617738], [55.0, 2.1935518446516937], [56.0, 0.2404864924697752], [57.0, 0.9499540058081732], [58.0, 0.03835754696864964], [59.0, -0.9304384725474553], [60.0, 0.9954767416610898], [61.0, -1.5847603613849603], [62.0, 0.4625194728891863], [63.0, 1.4312273299749267], [64.0, -1.9093627716544355], [65.0, 0.7372243413745252], [66.0, 0.8885261006353623], [67.0, -0.3987272613521706], [68.0, -0.23847857452927873], [69.0, -1.5926478091703555], [70.0, 0.35555565215572776], [71.0, -0.14910550615729354], [72.0, 0.08525226803933249], [73.0, -0.038621837529016136], [74.0, 1.2913579571075644], [75.0, -0.458164433065123], [76.0, 1.1728465908148646], [77.0, 0.2745324156585676], [78.0, 1.8601373638148633], [79.0, 3.4957810048291185], [80.0, 0.15529364555938333], [81.0, 1.5215278884204788], [82.0, 1.87860212575624], [83.0, -0.6427291704263319], [84.0, -0.493259013274022], [85.0, 0.7055782220713366], [86.0, -1.5405670891481011], [87.0, 0.3710682943990319], [88.0, -0.621768548219107], [89.0, 0.13652827712835136], [90.0, -0.7007125021026643], [91.0, 0.2237348898984226], [92.0, -0.825568183146431], [93.0, 0.4621784262212101], [94.0, 1.081223502255155], [95.0, 1.2459057255124952], [96.0, -0.8958360166618242], [97.0, 0.15243487970687758], [98.0, -1.3909374087892212], [99.0, -0.007380070217648895]]}, \"id\": \"el12494420073680\"});\n",
        "   }(mpld3);\n",
        "}else if(typeof define === \"function\" && define.amd){\n",
        "   // require.js is available: use it to load d3/mpld3\n",
        "   require.config({paths: {d3: \"https://mpld3.github.io/js/d3.v3.min\"}});\n",
        "   require([\"d3\"], function(d3){\n",
        "      window.d3 = d3;\n",
        "      mpld3_load_lib(\"https://mpld3.github.io/js/mpld3.v0.2.js\", function(){\n",
        "         \n",
        "         mpld3.draw_figure(\"fig_el124944200736801344260592\", {\"axes\": [{\"xlim\": [40.0, 80.0], \"yscale\": \"linear\", \"axesbg\": \"#FFFFFF\", \"texts\": [], \"zoomable\": true, \"images\": [], \"xdomain\": [40.0, 80.0], \"ylim\": [-3.0, 4.0], \"paths\": [], \"sharey\": [], \"sharex\": [], \"axesbgalpha\": null, \"axes\": [{\"scale\": \"linear\", \"tickformat\": null, \"grid\": {\"color\": \"#CCCCCC\", \"alpha\": 1.0, \"dasharray\": \"2,2\", \"gridOn\": true}, \"fontsize\": 10.0, \"position\": \"bottom\", \"nticks\": 9, \"tickvalues\": null}, {\"scale\": \"linear\", \"tickformat\": null, \"grid\": {\"color\": \"#CCCCCC\", \"alpha\": 1.0, \"dasharray\": \"2,2\", \"gridOn\": true}, \"fontsize\": 10.0, \"position\": \"left\", \"nticks\": 8, \"tickvalues\": null}], \"lines\": [{\"color\": \"#0000FF\", \"yindex\": 1, \"coordinates\": \"data\", \"dasharray\": \"10,0\", \"zorder\": 2, \"alpha\": 1, \"xindex\": 0, \"linewidth\": 2, \"data\": \"data01\", \"id\": \"el12494420725008\"}], \"markers\": [], \"id\": \"el12494420075152\", \"ydomain\": [-3.0, 4.0], \"collections\": [], \"xscale\": \"linear\", \"bbox\": [0.125, 0.125, 0.77500000000000002, 0.77500000000000002]}], \"height\": 320.0, \"width\": 640.0, \"plugins\": [{\"type\": \"reset\"}, {\"enabled\": false, \"button\": true, \"type\": \"zoom\"}, {\"enabled\": false, \"button\": true, \"type\": \"boxzoom\"}], \"data\": {\"data01\": [[0.0, 0.19605150224549825], [1.0, 0.6095146518971154], [2.0, 0.2068457327944314], [3.0, -0.46555506188903917], [4.0, -0.05799430336788256], [5.0, 1.7959256284624059], [6.0, -1.6401022539314027], [7.0, 0.6310994617323329], [8.0, -0.3557802264699589], [9.0, 0.7534145692661138], [10.0, -0.5878382520772695], [11.0, 0.419122650351103], [12.0, -0.07609537655495774], [13.0, 0.8869545435715167], [14.0, 0.8938363626610604], [15.0, -0.5994543780792048], [16.0, 0.05485219617436113], [17.0, -1.2352245451557489], [18.0, 0.4876240363798756], [19.0, -1.6348215691187349], [20.0, -1.9682177369667846], [21.0, -0.09228762157980748], [22.0, 0.01341458585295576], [23.0, 0.691913897185021], [24.0, -0.5230445986095725], [25.0, 0.2949245325152235], [26.0, 0.9875738617792089], [27.0, -1.1830805674566196], [28.0, -0.15264639928623405], [29.0, 0.45916284444860145], [30.0, 1.3237266930597262], [31.0, 0.8930087421465728], [32.0, -0.9278638632203399], [33.0, 1.7099513308347205], [34.0, 2.4121856375008575], [35.0, 1.3133942332557207], [36.0, 2.2976698629689976], [37.0, -0.722834434400044], [38.0, 0.6072256150734432], [39.0, -2.2403252180200894], [40.0, 0.0855301077612027], [41.0, 1.0650159004429465], [42.0, 0.07382866753771927], [43.0, 0.2816720979351987], [44.0, 0.4121867144647362], [45.0, -0.15747613012522102], [46.0, 0.24502169223783643], [47.0, 0.6439481561592214], [48.0, -0.47790921850023066], [49.0, 0.7784437949376912], [50.0, -0.9323116978761927], [51.0, 1.839677356007899], [52.0, -1.0555082178944484], [53.0, 0.19361093360866033], [54.0, -0.8687921303617738], [55.0, 2.1935518446516937], [56.0, 0.2404864924697752], [57.0, 0.9499540058081732], [58.0, 0.03835754696864964], [59.0, -0.9304384725474553], [60.0, 0.9954767416610898], [61.0, -1.5847603613849603], [62.0, 0.4625194728891863], [63.0, 1.4312273299749267], [64.0, -1.9093627716544355], [65.0, 0.7372243413745252], [66.0, 0.8885261006353623], [67.0, -0.3987272613521706], [68.0, -0.23847857452927873], [69.0, -1.5926478091703555], [70.0, 0.35555565215572776], [71.0, -0.14910550615729354], [72.0, 0.08525226803933249], [73.0, -0.038621837529016136], [74.0, 1.2913579571075644], [75.0, -0.458164433065123], [76.0, 1.1728465908148646], [77.0, 0.2745324156585676], [78.0, 1.8601373638148633], [79.0, 3.4957810048291185], [80.0, 0.15529364555938333], [81.0, 1.5215278884204788], [82.0, 1.87860212575624], [83.0, -0.6427291704263319], [84.0, -0.493259013274022], [85.0, 0.7055782220713366], [86.0, -1.5405670891481011], [87.0, 0.3710682943990319], [88.0, -0.621768548219107], [89.0, 0.13652827712835136], [90.0, -0.7007125021026643], [91.0, 0.2237348898984226], [92.0, -0.825568183146431], [93.0, 0.4621784262212101], [94.0, 1.081223502255155], [95.0, 1.2459057255124952], [96.0, -0.8958360166618242], [97.0, 0.15243487970687758], [98.0, -1.3909374087892212], [99.0, -0.007380070217648895]]}, \"id\": \"el12494420073680\"});\n",
        "      });\n",
        "    });\n",
        "}else{\n",
        "    // require.js not available: dynamically load d3 & mpld3\n",
        "    mpld3_load_lib(\"https://mpld3.github.io/js/d3.v3.min.js\", function(){\n",
        "         mpld3_load_lib(\"https://mpld3.github.io/js/mpld3.v0.2.js\", function(){\n",
        "                 \n",
        "                 mpld3.draw_figure(\"fig_el124944200736801344260592\", {\"axes\": [{\"xlim\": [40.0, 80.0], \"yscale\": \"linear\", \"axesbg\": \"#FFFFFF\", \"texts\": [], \"zoomable\": true, \"images\": [], \"xdomain\": [40.0, 80.0], \"ylim\": [-3.0, 4.0], \"paths\": [], \"sharey\": [], \"sharex\": [], \"axesbgalpha\": null, \"axes\": [{\"scale\": \"linear\", \"tickformat\": null, \"grid\": {\"color\": \"#CCCCCC\", \"alpha\": 1.0, \"dasharray\": \"2,2\", \"gridOn\": true}, \"fontsize\": 10.0, \"position\": \"bottom\", \"nticks\": 9, \"tickvalues\": null}, {\"scale\": \"linear\", \"tickformat\": null, \"grid\": {\"color\": \"#CCCCCC\", \"alpha\": 1.0, \"dasharray\": \"2,2\", \"gridOn\": true}, \"fontsize\": 10.0, \"position\": \"left\", \"nticks\": 8, \"tickvalues\": null}], \"lines\": [{\"color\": \"#0000FF\", \"yindex\": 1, \"coordinates\": \"data\", \"dasharray\": \"10,0\", \"zorder\": 2, \"alpha\": 1, \"xindex\": 0, \"linewidth\": 2, \"data\": \"data01\", \"id\": \"el12494420725008\"}], \"markers\": [], \"id\": \"el12494420075152\", \"ydomain\": [-3.0, 4.0], \"collections\": [], \"xscale\": \"linear\", \"bbox\": [0.125, 0.125, 0.77500000000000002, 0.77500000000000002]}], \"height\": 320.0, \"width\": 640.0, \"plugins\": [{\"type\": \"reset\"}, {\"enabled\": false, \"button\": true, \"type\": \"zoom\"}, {\"enabled\": false, \"button\": true, \"type\": \"boxzoom\"}], \"data\": {\"data01\": [[0.0, 0.19605150224549825], [1.0, 0.6095146518971154], [2.0, 0.2068457327944314], [3.0, -0.46555506188903917], [4.0, -0.05799430336788256], [5.0, 1.7959256284624059], [6.0, -1.6401022539314027], [7.0, 0.6310994617323329], [8.0, -0.3557802264699589], [9.0, 0.7534145692661138], [10.0, -0.5878382520772695], [11.0, 0.419122650351103], [12.0, -0.07609537655495774], [13.0, 0.8869545435715167], [14.0, 0.8938363626610604], [15.0, -0.5994543780792048], [16.0, 0.05485219617436113], [17.0, -1.2352245451557489], [18.0, 0.4876240363798756], [19.0, -1.6348215691187349], [20.0, -1.9682177369667846], [21.0, -0.09228762157980748], [22.0, 0.01341458585295576], [23.0, 0.691913897185021], [24.0, -0.5230445986095725], [25.0, 0.2949245325152235], [26.0, 0.9875738617792089], [27.0, -1.1830805674566196], [28.0, -0.15264639928623405], [29.0, 0.45916284444860145], [30.0, 1.3237266930597262], [31.0, 0.8930087421465728], [32.0, -0.9278638632203399], [33.0, 1.7099513308347205], [34.0, 2.4121856375008575], [35.0, 1.3133942332557207], [36.0, 2.2976698629689976], [37.0, -0.722834434400044], [38.0, 0.6072256150734432], [39.0, -2.2403252180200894], [40.0, 0.0855301077612027], [41.0, 1.0650159004429465], [42.0, 0.07382866753771927], [43.0, 0.2816720979351987], [44.0, 0.4121867144647362], [45.0, -0.15747613012522102], [46.0, 0.24502169223783643], [47.0, 0.6439481561592214], [48.0, -0.47790921850023066], [49.0, 0.7784437949376912], [50.0, -0.9323116978761927], [51.0, 1.839677356007899], [52.0, -1.0555082178944484], [53.0, 0.19361093360866033], [54.0, -0.8687921303617738], [55.0, 2.1935518446516937], [56.0, 0.2404864924697752], [57.0, 0.9499540058081732], [58.0, 0.03835754696864964], [59.0, -0.9304384725474553], [60.0, 0.9954767416610898], [61.0, -1.5847603613849603], [62.0, 0.4625194728891863], [63.0, 1.4312273299749267], [64.0, -1.9093627716544355], [65.0, 0.7372243413745252], [66.0, 0.8885261006353623], [67.0, -0.3987272613521706], [68.0, -0.23847857452927873], [69.0, -1.5926478091703555], [70.0, 0.35555565215572776], [71.0, -0.14910550615729354], [72.0, 0.08525226803933249], [73.0, -0.038621837529016136], [74.0, 1.2913579571075644], [75.0, -0.458164433065123], [76.0, 1.1728465908148646], [77.0, 0.2745324156585676], [78.0, 1.8601373638148633], [79.0, 3.4957810048291185], [80.0, 0.15529364555938333], [81.0, 1.5215278884204788], [82.0, 1.87860212575624], [83.0, -0.6427291704263319], [84.0, -0.493259013274022], [85.0, 0.7055782220713366], [86.0, -1.5405670891481011], [87.0, 0.3710682943990319], [88.0, -0.621768548219107], [89.0, 0.13652827712835136], [90.0, -0.7007125021026643], [91.0, 0.2237348898984226], [92.0, -0.825568183146431], [93.0, 0.4621784262212101], [94.0, 1.081223502255155], [95.0, 1.2459057255124952], [96.0, -0.8958360166618242], [97.0, 0.15243487970687758], [98.0, -1.3909374087892212], [99.0, -0.007380070217648895]]}, \"id\": \"el12494420073680\"});\n",
        "            })\n",
        "         });\n",
        "}\n",
        "</script>"
       ],
       "metadata": {},
       "output_type": "display_data",
       "png": "[encoded data removed]",
       "text": [
        "<matplotlib.figure.Figure at 0x10774f8d0>"
       ]
      }
     ],
     "prompt_number": 6
    },
    {
     "cell_type": "markdown",
     "metadata": {},
     "source": [
      "### you can connect ```plugins``` to the figure"
     ]
    },
    {
     "cell_type": "code",
     "collapsed": false,
     "input": [
      "f, ax= plt.subplots(figsize=(8,4)); \n",
      "plt.plot(xdf.index, xdf['A'], lw=2, color='b');\n",
      "ax.set_xlim(40,80)\n",
      "ax.grid(color='0.8')\n",
      "plugins.connect(f, plugins.MousePosition(fontsize=16))"
     ],
     "language": "python",
     "metadata": {},
     "outputs": [
      {
       "html": [
        "\n",
        "\n",
        "<style>\n",
        "\n",
        "</style>\n",
        "\n",
        "<div id=\"fig_el1249442111067226391044\"></div>\n",
        "<script>\n",
        "function mpld3_load_lib(url, callback){\n",
        "  var s = document.createElement('script');\n",
        "  s.src = url;\n",
        "  s.async = true;\n",
        "  s.onreadystatechange = s.onload = callback;\n",
        "  s.onerror = function(){console.warn(\"failed to load library \" + url);};\n",
        "  document.getElementsByTagName(\"head\")[0].appendChild(s);\n",
        "}\n",
        "\n",
        "if(typeof(mpld3) !== \"undefined\" && mpld3._mpld3IsLoaded){\n",
        "   // already loaded: just create the figure\n",
        "   !function(mpld3){\n",
        "       \n",
        "       mpld3.draw_figure(\"fig_el1249442111067226391044\", {\"axes\": [{\"xlim\": [40.0, 80.0], \"yscale\": \"linear\", \"axesbg\": \"#FFFFFF\", \"texts\": [], \"zoomable\": true, \"images\": [], \"xdomain\": [40.0, 80.0], \"ylim\": [-3.0, 4.0], \"paths\": [], \"sharey\": [], \"sharex\": [], \"axesbgalpha\": null, \"axes\": [{\"scale\": \"linear\", \"tickformat\": null, \"grid\": {\"color\": \"#CCCCCC\", \"alpha\": 1.0, \"dasharray\": \"2,2\", \"gridOn\": true}, \"fontsize\": 10.0, \"position\": \"bottom\", \"nticks\": 9, \"tickvalues\": null}, {\"scale\": \"linear\", \"tickformat\": null, \"grid\": {\"color\": \"#CCCCCC\", \"alpha\": 1.0, \"dasharray\": \"2,2\", \"gridOn\": true}, \"fontsize\": 10.0, \"position\": \"left\", \"nticks\": 8, \"tickvalues\": null}], \"lines\": [{\"color\": \"#0000FF\", \"yindex\": 1, \"coordinates\": \"data\", \"dasharray\": \"10,0\", \"zorder\": 2, \"alpha\": 1, \"xindex\": 0, \"linewidth\": 2, \"data\": \"data01\", \"id\": \"el12494422383120\"}], \"markers\": [], \"id\": \"el12494420473232\", \"ydomain\": [-3.0, 4.0], \"collections\": [], \"xscale\": \"linear\", \"bbox\": [0.125, 0.125, 0.77500000000000002, 0.77500000000000002]}], \"height\": 320.0, \"width\": 640.0, \"plugins\": [{\"type\": \"reset\"}, {\"enabled\": false, \"button\": true, \"type\": \"zoom\"}, {\"enabled\": false, \"button\": true, \"type\": \"boxzoom\"}, {\"fontsize\": 16, \"fmt\": \".3g\", \"type\": \"mouseposition\"}], \"data\": {\"data01\": [[0.0, 0.19605150224549825], [1.0, 0.6095146518971154], [2.0, 0.2068457327944314], [3.0, -0.46555506188903917], [4.0, -0.05799430336788256], [5.0, 1.7959256284624059], [6.0, -1.6401022539314027], [7.0, 0.6310994617323329], [8.0, -0.3557802264699589], [9.0, 0.7534145692661138], [10.0, -0.5878382520772695], [11.0, 0.419122650351103], [12.0, -0.07609537655495774], [13.0, 0.8869545435715167], [14.0, 0.8938363626610604], [15.0, -0.5994543780792048], [16.0, 0.05485219617436113], [17.0, -1.2352245451557489], [18.0, 0.4876240363798756], [19.0, -1.6348215691187349], [20.0, -1.9682177369667846], [21.0, -0.09228762157980748], [22.0, 0.01341458585295576], [23.0, 0.691913897185021], [24.0, -0.5230445986095725], [25.0, 0.2949245325152235], [26.0, 0.9875738617792089], [27.0, -1.1830805674566196], [28.0, -0.15264639928623405], [29.0, 0.45916284444860145], [30.0, 1.3237266930597262], [31.0, 0.8930087421465728], [32.0, -0.9278638632203399], [33.0, 1.7099513308347205], [34.0, 2.4121856375008575], [35.0, 1.3133942332557207], [36.0, 2.2976698629689976], [37.0, -0.722834434400044], [38.0, 0.6072256150734432], [39.0, -2.2403252180200894], [40.0, 0.0855301077612027], [41.0, 1.0650159004429465], [42.0, 0.07382866753771927], [43.0, 0.2816720979351987], [44.0, 0.4121867144647362], [45.0, -0.15747613012522102], [46.0, 0.24502169223783643], [47.0, 0.6439481561592214], [48.0, -0.47790921850023066], [49.0, 0.7784437949376912], [50.0, -0.9323116978761927], [51.0, 1.839677356007899], [52.0, -1.0555082178944484], [53.0, 0.19361093360866033], [54.0, -0.8687921303617738], [55.0, 2.1935518446516937], [56.0, 0.2404864924697752], [57.0, 0.9499540058081732], [58.0, 0.03835754696864964], [59.0, -0.9304384725474553], [60.0, 0.9954767416610898], [61.0, -1.5847603613849603], [62.0, 0.4625194728891863], [63.0, 1.4312273299749267], [64.0, -1.9093627716544355], [65.0, 0.7372243413745252], [66.0, 0.8885261006353623], [67.0, -0.3987272613521706], [68.0, -0.23847857452927873], [69.0, -1.5926478091703555], [70.0, 0.35555565215572776], [71.0, -0.14910550615729354], [72.0, 0.08525226803933249], [73.0, -0.038621837529016136], [74.0, 1.2913579571075644], [75.0, -0.458164433065123], [76.0, 1.1728465908148646], [77.0, 0.2745324156585676], [78.0, 1.8601373638148633], [79.0, 3.4957810048291185], [80.0, 0.15529364555938333], [81.0, 1.5215278884204788], [82.0, 1.87860212575624], [83.0, -0.6427291704263319], [84.0, -0.493259013274022], [85.0, 0.7055782220713366], [86.0, -1.5405670891481011], [87.0, 0.3710682943990319], [88.0, -0.621768548219107], [89.0, 0.13652827712835136], [90.0, -0.7007125021026643], [91.0, 0.2237348898984226], [92.0, -0.825568183146431], [93.0, 0.4621784262212101], [94.0, 1.081223502255155], [95.0, 1.2459057255124952], [96.0, -0.8958360166618242], [97.0, 0.15243487970687758], [98.0, -1.3909374087892212], [99.0, -0.007380070217648895]]}, \"id\": \"el12494421110672\"});\n",
        "   }(mpld3);\n",
        "}else if(typeof define === \"function\" && define.amd){\n",
        "   // require.js is available: use it to load d3/mpld3\n",
        "   require.config({paths: {d3: \"https://mpld3.github.io/js/d3.v3.min\"}});\n",
        "   require([\"d3\"], function(d3){\n",
        "      window.d3 = d3;\n",
        "      mpld3_load_lib(\"https://mpld3.github.io/js/mpld3.v0.2.js\", function(){\n",
        "         \n",
        "         mpld3.draw_figure(\"fig_el1249442111067226391044\", {\"axes\": [{\"xlim\": [40.0, 80.0], \"yscale\": \"linear\", \"axesbg\": \"#FFFFFF\", \"texts\": [], \"zoomable\": true, \"images\": [], \"xdomain\": [40.0, 80.0], \"ylim\": [-3.0, 4.0], \"paths\": [], \"sharey\": [], \"sharex\": [], \"axesbgalpha\": null, \"axes\": [{\"scale\": \"linear\", \"tickformat\": null, \"grid\": {\"color\": \"#CCCCCC\", \"alpha\": 1.0, \"dasharray\": \"2,2\", \"gridOn\": true}, \"fontsize\": 10.0, \"position\": \"bottom\", \"nticks\": 9, \"tickvalues\": null}, {\"scale\": \"linear\", \"tickformat\": null, \"grid\": {\"color\": \"#CCCCCC\", \"alpha\": 1.0, \"dasharray\": \"2,2\", \"gridOn\": true}, \"fontsize\": 10.0, \"position\": \"left\", \"nticks\": 8, \"tickvalues\": null}], \"lines\": [{\"color\": \"#0000FF\", \"yindex\": 1, \"coordinates\": \"data\", \"dasharray\": \"10,0\", \"zorder\": 2, \"alpha\": 1, \"xindex\": 0, \"linewidth\": 2, \"data\": \"data01\", \"id\": \"el12494422383120\"}], \"markers\": [], \"id\": \"el12494420473232\", \"ydomain\": [-3.0, 4.0], \"collections\": [], \"xscale\": \"linear\", \"bbox\": [0.125, 0.125, 0.77500000000000002, 0.77500000000000002]}], \"height\": 320.0, \"width\": 640.0, \"plugins\": [{\"type\": \"reset\"}, {\"enabled\": false, \"button\": true, \"type\": \"zoom\"}, {\"enabled\": false, \"button\": true, \"type\": \"boxzoom\"}, {\"fontsize\": 16, \"fmt\": \".3g\", \"type\": \"mouseposition\"}], \"data\": {\"data01\": [[0.0, 0.19605150224549825], [1.0, 0.6095146518971154], [2.0, 0.2068457327944314], [3.0, -0.46555506188903917], [4.0, -0.05799430336788256], [5.0, 1.7959256284624059], [6.0, -1.6401022539314027], [7.0, 0.6310994617323329], [8.0, -0.3557802264699589], [9.0, 0.7534145692661138], [10.0, -0.5878382520772695], [11.0, 0.419122650351103], [12.0, -0.07609537655495774], [13.0, 0.8869545435715167], [14.0, 0.8938363626610604], [15.0, -0.5994543780792048], [16.0, 0.05485219617436113], [17.0, -1.2352245451557489], [18.0, 0.4876240363798756], [19.0, -1.6348215691187349], [20.0, -1.9682177369667846], [21.0, -0.09228762157980748], [22.0, 0.01341458585295576], [23.0, 0.691913897185021], [24.0, -0.5230445986095725], [25.0, 0.2949245325152235], [26.0, 0.9875738617792089], [27.0, -1.1830805674566196], [28.0, -0.15264639928623405], [29.0, 0.45916284444860145], [30.0, 1.3237266930597262], [31.0, 0.8930087421465728], [32.0, -0.9278638632203399], [33.0, 1.7099513308347205], [34.0, 2.4121856375008575], [35.0, 1.3133942332557207], [36.0, 2.2976698629689976], [37.0, -0.722834434400044], [38.0, 0.6072256150734432], [39.0, -2.2403252180200894], [40.0, 0.0855301077612027], [41.0, 1.0650159004429465], [42.0, 0.07382866753771927], [43.0, 0.2816720979351987], [44.0, 0.4121867144647362], [45.0, -0.15747613012522102], [46.0, 0.24502169223783643], [47.0, 0.6439481561592214], [48.0, -0.47790921850023066], [49.0, 0.7784437949376912], [50.0, -0.9323116978761927], [51.0, 1.839677356007899], [52.0, -1.0555082178944484], [53.0, 0.19361093360866033], [54.0, -0.8687921303617738], [55.0, 2.1935518446516937], [56.0, 0.2404864924697752], [57.0, 0.9499540058081732], [58.0, 0.03835754696864964], [59.0, -0.9304384725474553], [60.0, 0.9954767416610898], [61.0, -1.5847603613849603], [62.0, 0.4625194728891863], [63.0, 1.4312273299749267], [64.0, -1.9093627716544355], [65.0, 0.7372243413745252], [66.0, 0.8885261006353623], [67.0, -0.3987272613521706], [68.0, -0.23847857452927873], [69.0, -1.5926478091703555], [70.0, 0.35555565215572776], [71.0, -0.14910550615729354], [72.0, 0.08525226803933249], [73.0, -0.038621837529016136], [74.0, 1.2913579571075644], [75.0, -0.458164433065123], [76.0, 1.1728465908148646], [77.0, 0.2745324156585676], [78.0, 1.8601373638148633], [79.0, 3.4957810048291185], [80.0, 0.15529364555938333], [81.0, 1.5215278884204788], [82.0, 1.87860212575624], [83.0, -0.6427291704263319], [84.0, -0.493259013274022], [85.0, 0.7055782220713366], [86.0, -1.5405670891481011], [87.0, 0.3710682943990319], [88.0, -0.621768548219107], [89.0, 0.13652827712835136], [90.0, -0.7007125021026643], [91.0, 0.2237348898984226], [92.0, -0.825568183146431], [93.0, 0.4621784262212101], [94.0, 1.081223502255155], [95.0, 1.2459057255124952], [96.0, -0.8958360166618242], [97.0, 0.15243487970687758], [98.0, -1.3909374087892212], [99.0, -0.007380070217648895]]}, \"id\": \"el12494421110672\"});\n",
        "      });\n",
        "    });\n",
        "}else{\n",
        "    // require.js not available: dynamically load d3 & mpld3\n",
        "    mpld3_load_lib(\"https://mpld3.github.io/js/d3.v3.min.js\", function(){\n",
        "         mpld3_load_lib(\"https://mpld3.github.io/js/mpld3.v0.2.js\", function(){\n",
        "                 \n",
        "                 mpld3.draw_figure(\"fig_el1249442111067226391044\", {\"axes\": [{\"xlim\": [40.0, 80.0], \"yscale\": \"linear\", \"axesbg\": \"#FFFFFF\", \"texts\": [], \"zoomable\": true, \"images\": [], \"xdomain\": [40.0, 80.0], \"ylim\": [-3.0, 4.0], \"paths\": [], \"sharey\": [], \"sharex\": [], \"axesbgalpha\": null, \"axes\": [{\"scale\": \"linear\", \"tickformat\": null, \"grid\": {\"color\": \"#CCCCCC\", \"alpha\": 1.0, \"dasharray\": \"2,2\", \"gridOn\": true}, \"fontsize\": 10.0, \"position\": \"bottom\", \"nticks\": 9, \"tickvalues\": null}, {\"scale\": \"linear\", \"tickformat\": null, \"grid\": {\"color\": \"#CCCCCC\", \"alpha\": 1.0, \"dasharray\": \"2,2\", \"gridOn\": true}, \"fontsize\": 10.0, \"position\": \"left\", \"nticks\": 8, \"tickvalues\": null}], \"lines\": [{\"color\": \"#0000FF\", \"yindex\": 1, \"coordinates\": \"data\", \"dasharray\": \"10,0\", \"zorder\": 2, \"alpha\": 1, \"xindex\": 0, \"linewidth\": 2, \"data\": \"data01\", \"id\": \"el12494422383120\"}], \"markers\": [], \"id\": \"el12494420473232\", \"ydomain\": [-3.0, 4.0], \"collections\": [], \"xscale\": \"linear\", \"bbox\": [0.125, 0.125, 0.77500000000000002, 0.77500000000000002]}], \"height\": 320.0, \"width\": 640.0, \"plugins\": [{\"type\": \"reset\"}, {\"enabled\": false, \"button\": true, \"type\": \"zoom\"}, {\"enabled\": false, \"button\": true, \"type\": \"boxzoom\"}, {\"fontsize\": 16, \"fmt\": \".3g\", \"type\": \"mouseposition\"}], \"data\": {\"data01\": [[0.0, 0.19605150224549825], [1.0, 0.6095146518971154], [2.0, 0.2068457327944314], [3.0, -0.46555506188903917], [4.0, -0.05799430336788256], [5.0, 1.7959256284624059], [6.0, -1.6401022539314027], [7.0, 0.6310994617323329], [8.0, -0.3557802264699589], [9.0, 0.7534145692661138], [10.0, -0.5878382520772695], [11.0, 0.419122650351103], [12.0, -0.07609537655495774], [13.0, 0.8869545435715167], [14.0, 0.8938363626610604], [15.0, -0.5994543780792048], [16.0, 0.05485219617436113], [17.0, -1.2352245451557489], [18.0, 0.4876240363798756], [19.0, -1.6348215691187349], [20.0, -1.9682177369667846], [21.0, -0.09228762157980748], [22.0, 0.01341458585295576], [23.0, 0.691913897185021], [24.0, -0.5230445986095725], [25.0, 0.2949245325152235], [26.0, 0.9875738617792089], [27.0, -1.1830805674566196], [28.0, -0.15264639928623405], [29.0, 0.45916284444860145], [30.0, 1.3237266930597262], [31.0, 0.8930087421465728], [32.0, -0.9278638632203399], [33.0, 1.7099513308347205], [34.0, 2.4121856375008575], [35.0, 1.3133942332557207], [36.0, 2.2976698629689976], [37.0, -0.722834434400044], [38.0, 0.6072256150734432], [39.0, -2.2403252180200894], [40.0, 0.0855301077612027], [41.0, 1.0650159004429465], [42.0, 0.07382866753771927], [43.0, 0.2816720979351987], [44.0, 0.4121867144647362], [45.0, -0.15747613012522102], [46.0, 0.24502169223783643], [47.0, 0.6439481561592214], [48.0, -0.47790921850023066], [49.0, 0.7784437949376912], [50.0, -0.9323116978761927], [51.0, 1.839677356007899], [52.0, -1.0555082178944484], [53.0, 0.19361093360866033], [54.0, -0.8687921303617738], [55.0, 2.1935518446516937], [56.0, 0.2404864924697752], [57.0, 0.9499540058081732], [58.0, 0.03835754696864964], [59.0, -0.9304384725474553], [60.0, 0.9954767416610898], [61.0, -1.5847603613849603], [62.0, 0.4625194728891863], [63.0, 1.4312273299749267], [64.0, -1.9093627716544355], [65.0, 0.7372243413745252], [66.0, 0.8885261006353623], [67.0, -0.3987272613521706], [68.0, -0.23847857452927873], [69.0, -1.5926478091703555], [70.0, 0.35555565215572776], [71.0, -0.14910550615729354], [72.0, 0.08525226803933249], [73.0, -0.038621837529016136], [74.0, 1.2913579571075644], [75.0, -0.458164433065123], [76.0, 1.1728465908148646], [77.0, 0.2745324156585676], [78.0, 1.8601373638148633], [79.0, 3.4957810048291185], [80.0, 0.15529364555938333], [81.0, 1.5215278884204788], [82.0, 1.87860212575624], [83.0, -0.6427291704263319], [84.0, -0.493259013274022], [85.0, 0.7055782220713366], [86.0, -1.5405670891481011], [87.0, 0.3710682943990319], [88.0, -0.621768548219107], [89.0, 0.13652827712835136], [90.0, -0.7007125021026643], [91.0, 0.2237348898984226], [92.0, -0.825568183146431], [93.0, 0.4621784262212101], [94.0, 1.081223502255155], [95.0, 1.2459057255124952], [96.0, -0.8958360166618242], [97.0, 0.15243487970687758], [98.0, -1.3909374087892212], [99.0, -0.007380070217648895]]}, \"id\": \"el12494421110672\"});\n",
        "            })\n",
        "         });\n",
        "}\n",
        "</script>"
       ],
       "metadata": {},
       "output_type": "display_data",
       "png": "[encoded data removed]",
       "text": [
        "<matplotlib.figure.Figure at 0x10784cb90>"
       ]
      }
     ],
     "prompt_number": 7
    },
    {
     "cell_type": "code",
     "collapsed": false,
     "input": [
      "mpld3.save_html(f, './mpld3_figure.html')"
     ],
     "language": "python",
     "metadata": {},
     "outputs": [],
     "prompt_number": 8
    },
    {
     "cell_type": "markdown",
     "metadata": {},
     "source": [
      "+ [open in a new tab](./mpld3_figure.html)\n",
      "\n",
      "+ [some more examples](http://mpld3.github.io/examples/index.html) from the mpld3 gallery\n",
      "\n",
      "<hr size = 6>"
     ]
    },
    {
     "cell_type": "heading",
     "level": 2,
     "metadata": {},
     "source": [
      "BOKEH"
     ]
    },
    {
     "cell_type": "markdown",
     "metadata": {},
     "source": [
      "[bokeh](http://bokeh.pydata.org/) is a library developed by [continuum analytics](http://continuum.io)  \n",
      "\n",
      "from their website:\n",
      "\n",
      "*Bokeh is a Python interactive visualization library that targets modern web browsers for presentation. Its goal is to provide elegant, concise construction of novel graphics in the style of D3.js, but also deliver this capability with high-performance interactivity over very large or streaming datasets. Bokeh can help anyone who would like to quickly and easily create interactive plots, dashboards, and data applications.*"
     ]
    },
    {
     "cell_type": "code",
     "collapsed": false,
     "input": [
      "from bokeh import plotting as bplt"
     ],
     "language": "python",
     "metadata": {},
     "outputs": [],
     "prompt_number": 9
    },
    {
     "cell_type": "code",
     "collapsed": false,
     "input": [
      "bokehplot = './bokeh_plot.html'"
     ],
     "language": "python",
     "metadata": {},
     "outputs": [],
     "prompt_number": 10
    },
    {
     "cell_type": "code",
     "collapsed": false,
     "input": [
      "if os.path.exists(bokehplot): \n",
      "    os.remove(bokehplot)"
     ],
     "language": "python",
     "metadata": {},
     "outputs": [],
     "prompt_number": 11
    },
    {
     "cell_type": "code",
     "collapsed": false,
     "input": [
      "bplt.output_file(bokehplot, title='bokeh plot', autosave=False)"
     ],
     "language": "python",
     "metadata": {},
     "outputs": [],
     "prompt_number": 12
    },
    {
     "cell_type": "code",
     "collapsed": false,
     "input": [
      "bplt.figure()\n",
      "b = bplt.line(xdf.index, xdf['A'])\n",
      "bplt.show()"
     ],
     "language": "python",
     "metadata": {},
     "outputs": [],
     "prompt_number": 13
    },
    {
     "cell_type": "markdown",
     "metadata": {},
     "source": [
      "To know more about bokeh: \n",
      "    \n",
      "[http://bokeh.pydata.org/](http://bokeh.pydata.org/)"
     ]
    },
    {
     "cell_type": "markdown",
     "metadata": {},
     "source": [
      "if you use the [anaconda python distribution](), all the bokeh examples are saved in \n",
      "\n",
      "    ${anaconda}/Examples/bokeh "
     ]
    },
    {
     "cell_type": "markdown",
     "metadata": {},
     "source": [
      "<hr size=6> "
     ]
    },
    {
     "cell_type": "heading",
     "level": 2,
     "metadata": {},
     "source": [
      "BEARCART"
     ]
    },
    {
     "cell_type": "markdown",
     "metadata": {},
     "source": [
      "[bearcart](https://github.com/wrobstory/bearcart) has been developed by [Rob Story](http://wrobstory.github.io/) and provides an interface to the \n",
      "[rickshaw](http://code.shutterstock.com/rickshaw/) JavaScript library. It does one thing really, which is to plot **time series**, but it does it (amazingly) well !\n",
      "<br>\n",
      "<br>"
     ]
    },
    {
     "cell_type": "code",
     "collapsed": false,
     "input": [
      "import bearcart \n",
      "from datetime import datetime"
     ],
     "language": "python",
     "metadata": {},
     "outputs": [],
     "prompt_number": 14
    },
    {
     "cell_type": "code",
     "collapsed": false,
     "input": [
      "xdf = pd.DataFrame(np.cumsum(np.random.normal(size=(365,3)), axis=0), columns=['A','B','C'], \\\n",
      "                   index=pd.date_range(datetime(1998,1,1,0,0,0), periods=365))"
     ],
     "language": "python",
     "metadata": {},
     "outputs": [],
     "prompt_number": 15
    },
    {
     "cell_type": "code",
     "collapsed": false,
     "input": [
      "vis = bearcart.Chart(xdf, height=500, width=750, colors={'A':'#FF0000', 'B':'#0066FF', 'C':'#33CC33'})"
     ],
     "language": "python",
     "metadata": {},
     "outputs": [],
     "prompt_number": 16
    },
    {
     "cell_type": "code",
     "collapsed": false,
     "input": [
      "html_path = r'bearcart.html'\n",
      "data_path = r'data.json'\n",
      "js_path = r'rickshaw.min.js'\n",
      "css_path = r'rickshaw.min.css'"
     ],
     "language": "python",
     "metadata": {},
     "outputs": [],
     "prompt_number": 17
    },
    {
     "cell_type": "code",
     "collapsed": false,
     "input": [
      "vis.create_chart(html_path=html_path, data_path=data_path, js_path=js_path, css_path=css_path)"
     ],
     "language": "python",
     "metadata": {},
     "outputs": [],
     "prompt_number": 18
    },
    {
     "cell_type": "markdown",
     "metadata": {},
     "source": [
      "Open the url [here](./bearcart.html)"
     ]
    },
    {
     "cell_type": "markdown",
     "metadata": {},
     "source": [
      "<hr size = 6>"
     ]
    },
    {
     "cell_type": "heading",
     "level": 2,
     "metadata": {},
     "source": [
      "FOLIUM"
     ]
    },
    {
     "cell_type": "markdown",
     "metadata": {},
     "source": [
      "[folium](https://github.com/wrobstory/folium)  has been also been developed by [Rob Story](http://wrobstory.github.io/) to provide an interface to the [leaflet.js](http://leafletjs.com/) JavaScript mapping library"
     ]
    },
    {
     "cell_type": "code",
     "collapsed": false,
     "input": [
      "import folium"
     ],
     "language": "python",
     "metadata": {},
     "outputs": [],
     "prompt_number": 19
    },
    {
     "cell_type": "code",
     "collapsed": false,
     "input": [
      "x = np.random.randn(100)\n",
      "\n",
      "fout = './figure.png'\n",
      "res = 80\n",
      "w, h = 4, 2\n",
      "\n",
      "f, ax = plt.subplots(figsize=(w, h))\n",
      "ax.fill_between(np.arange(len(x)), 0, x, where=(x>=0), color='r', interpolate=True)\n",
      "ax.fill_between(np.arange(len(x)), 0, x, where=(x<0), color='b', interpolate=True)\n",
      "ax.grid(color='.8')\n",
      "f.savefig('./figure.png', dpi = res)\n",
      "\n",
      "textpop = \"\"\"<div align='center'> \\\n",
      "<img src='{}' alt='imaginary temperature anomaly' width='{}' height='{}'> </div>\"\"\".format(fout, w*res, h*res)"
     ],
     "language": "python",
     "metadata": {},
     "outputs": [
      {
       "html": [
        "\n",
        "\n",
        "<style>\n",
        "\n",
        "</style>\n",
        "\n",
        "<div id=\"fig_el124944636158886639122856\"></div>\n",
        "<script>\n",
        "function mpld3_load_lib(url, callback){\n",
        "  var s = document.createElement('script');\n",
        "  s.src = url;\n",
        "  s.async = true;\n",
        "  s.onreadystatechange = s.onload = callback;\n",
        "  s.onerror = function(){console.warn(\"failed to load library \" + url);};\n",
        "  document.getElementsByTagName(\"head\")[0].appendChild(s);\n",
        "}\n",
        "\n",
        "if(typeof(mpld3) !== \"undefined\" && mpld3._mpld3IsLoaded){\n",
        "   // already loaded: just create the figure\n",
        "   !function(mpld3){\n",
        "       \n",
        "       mpld3.draw_figure(\"fig_el124944636158886639122856\", {\"axes\": [{\"xlim\": [0.0, 100.0], \"yscale\": \"linear\", \"axesbg\": \"#FFFFFF\", \"texts\": [], \"zoomable\": true, \"images\": [], \"xdomain\": [0.0, 100.0], \"ylim\": [-3.0, 3.0], \"paths\": [], \"sharey\": [], \"sharex\": [], \"axesbgalpha\": null, \"axes\": [{\"scale\": \"linear\", \"tickformat\": null, \"grid\": {\"color\": \"#CCCCCC\", \"alpha\": 1.0, \"dasharray\": \"2,2\", \"gridOn\": true}, \"fontsize\": 10.0, \"position\": \"bottom\", \"nticks\": 6, \"tickvalues\": null}, {\"scale\": \"linear\", \"tickformat\": null, \"grid\": {\"color\": \"#CCCCCC\", \"alpha\": 1.0, \"dasharray\": \"2,2\", \"gridOn\": true}, \"fontsize\": 10.0, \"position\": \"left\", \"nticks\": 7, \"tickvalues\": null}], \"lines\": [], \"markers\": [], \"id\": \"el12494462798352\", \"ydomain\": [-3.0, 3.0], \"collections\": [{\"paths\": [[[[0.0, 0.0], [0.0, 0.0], [1.0, 0.0], [1.039050945921717, 0.0], [1.0, 0.021447891238242124], [0.0, 0.2458126708785438]], [\"M\", \"L\", \"L\", \"L\", \"L\", \"L\", \"Z\"]], [[[5.777956623253366, 0.0], [6.0, 0.0], [7.0, 0.0], [8.0, 0.0], [8.277923485925648, 0.0], [8.0, 0.6135181465121461], [7.0, 0.17265410681479512], [6.0, 0.2068148967052538]], [\"M\", \"L\", \"L\", \"L\", \"L\", \"L\", \"L\", \"L\", \"Z\"]], [[[10.519916070604697, 0.0], [11.0, 0.0], [11.485964055918009, 0.0], [11.0, 1.4393096301751087]], [\"M\", \"L\", \"L\", \"L\", \"Z\"]], [[[12.99525177544437, 0.0], [13.0, 0.0], [14.0, 0.0], [15.0, 0.0], [15.674940867449079, 0.0], [15.0, 0.7893084738401511], [14.0, 0.7272246809264832], [13.0, 0.007263431748020937]], [\"M\", \"L\", \"L\", \"L\", \"L\", \"L\", \"L\", \"L\", \"Z\"]], [[[17.73529151259574, 0.0], [18.0, 0.0], [19.0, 0.0], [19.18769895296818, 0.0], [19.0, 0.4471783267621696], [18.0, 0.6349332368373467]], [\"M\", \"L\", \"L\", \"L\", \"L\", \"L\", \"Z\"]], [[[21.07771636430724, 0.0], [22.0, 0.0], [23.0, 0.0], [23.504702546216606, 0.0], [23.0, 1.3756857827410185], [22.0, 1.3319423888140076]], [\"M\", \"L\", \"L\", \"L\", \"L\", \"L\", \"Z\"]], [[[26.756515605650957, 0.0], [27.0, 0.0], [27.35048488195143, 0.0], [27.0, 0.7320760376950968]], [\"M\", \"L\", \"L\", \"L\", \"Z\"]], [[[28.50600424923505, 0.0], [29.0, 0.0], [30.0, 0.0], [30.147250355365745, 0.0], [30.0, 0.16231503001879688], [29.0, 1.3244794234435928]], [\"M\", \"L\", \"L\", \"L\", \"L\", \"L\", \"Z\"]], [[[33.78914578764447, 0.0], [34.0, 0.0], [34.191154680065594, 0.0], [34.0, 0.16563348206780812]], [\"M\", \"L\", \"L\", \"L\", \"Z\"]], [[[35.28399581113935, 0.0], [36.0, 0.0], [36.84262247070551, 0.0], [36.0, 1.7669827196521388]], [\"M\", \"L\", \"L\", \"L\", \"Z\"]], [[[37.84050678662992, 0.0], [38.0, 0.0], [39.0, 0.0], [40.0, 0.0], [41.0, 0.0], [42.0, 0.0], [43.0, 0.0], [44.0, 0.0], [45.0, 0.0], [46.0, 0.0], [47.0, 0.0], [47.68481871481007, 0.0], [47.0, 1.1953825597909469], [46.0, 0.11296545581324437], [45.0, 0.5453334884970162], [44.0, 0.3699103369731546], [43.0, 0.8135103188140054], [42.0, 2.005911301227656], [41.0, 0.5880624718831258], [40.0, 0.3666188630569981], [39.0, 0.4503883448222174], [38.0, 0.06262431266223992]], [\"M\", \"L\", \"L\", \"L\", \"L\", \"L\", \"L\", \"L\", \"L\", \"L\", \"L\", \"L\", \"L\", \"L\", \"L\", \"L\", \"L\", \"L\", \"L\", \"L\", \"L\", \"L\", \"Z\"]], [[[48.36688400765384, 0.0], [49.0, 0.0], [50.0, 0.0], [50.40131869992044, 0.0], [50.0, 0.9613751937668668], [49.0, 0.9493934246525065]], [\"M\", \"L\", \"L\", \"L\", \"L\", \"L\", \"Z\"]], [[[52.00919313868412, 0.0], [53.0, 0.0], [53.26487064410561, 0.0], [53.0, 0.4922878840665613]], [\"M\", \"L\", \"L\", \"L\", \"Z\"]], [[[56.52088538591717, 0.0], [57.0, 0.0], [58.0, 0.0], [59.0, 0.0], [59.58113241395817, 0.0], [59.0, 0.6117196133836635], [58.0, 0.4341071931985213], [57.0, 0.4661025289337624]], [\"M\", \"L\", \"L\", \"L\", \"L\", \"L\", \"L\", \"L\", \"Z\"]], [[[60.64699875855159, 0.0], [61.0, 0.0], [62.0, 0.0], [63.0, 0.0], [64.0, 0.0], [64.34824255443979, 0.0], [64.0, 0.8881187923134046], [63.0, 0.04927184637767687], [62.0, 0.5026750864965911], [61.0, 0.24056189975301667]], [\"M\", \"L\", \"L\", \"L\", \"L\", \"L\", \"L\", \"L\", \"L\", \"L\", \"Z\"]], [[[66.09186763090223, 0.0], [67.0, 0.0], [67.3921953824814, 0.0], [67.0, 0.7696220144003075]], [\"M\", \"L\", \"L\", \"L\", \"Z\"]], [[[71.07642903430464, 0.0], [72.0, 0.0], [73.0, 0.0], [73.3040078879877, 0.0], [73.0, 0.6010931656911973], [72.0, 0.40863867294317086]], [\"M\", \"L\", \"L\", \"L\", \"L\", \"L\", \"Z\"]], [[[75.73346328630343, 0.0], [76.0, 0.0], [76.17787492388054, 0.0], [76.0, 0.15983875084924126]], [\"M\", \"L\", \"L\", \"L\", \"Z\"]], [[[81.82128936146977, 0.0], [82.0, 0.0], [82.44959284761616, 0.0], [82.0, 0.32885529332487545]], [\"M\", \"L\", \"L\", \"L\", \"Z\"]], [[[85.1055855803443, 0.0], [86.0, 0.0], [87.0, 0.0], [87.72973353070648, 0.0], [87.0, 1.4775266358780856], [86.0, 0.00394688134409521]], [\"M\", \"L\", \"L\", \"L\", \"L\", \"L\", \"Z\"]], [[[91.00894321994267, 0.0], [92.0, 0.0], [93.0, 0.0], [93.62464491407265, 0.0], [93.0, 1.3174212430496188], [92.0, 1.233698049616996]], [\"M\", \"L\", \"L\", \"L\", \"L\", \"L\", \"Z\"]], [[[95.19577778648016, 0.0], [96.0, 0.0], [97.0, 0.0], [97.62008977356464, 0.0], [97.0, 0.47245117168976375], [96.0, 1.3775416267748821]], [\"M\", \"L\", \"L\", \"L\", \"L\", \"L\", \"Z\"]], [[[98.09559160457502, 0.0], [99.0, 0.0], [99.0, 0.0], [99.0, 2.738597320539192]], [\"M\", \"L\", \"L\", \"L\", \"Z\"]]], \"edgecolors\": [\"#FF0000\"], \"edgewidths\": [1.0], \"offsets\": \"data01\", \"yindex\": 1, \"id\": \"el12494448528208\", \"pathtransforms\": [], \"pathcoordinates\": \"data\", \"offsetcoordinates\": \"display\", \"zorder\": 1, \"xindex\": 0, \"alphas\": [null], \"facecolors\": [\"#FF0000\"]}, {\"paths\": [[[[1.039050945921717, 0.0], [2.0, 0.0], [3.0, 0.0], [4.0, 0.0], [5.0, 0.0], [5.777956623253366, 0.0], [5.0, -0.7246017469050738], [4.0, -0.03156769851636507], [3.0, -0.5056648963035196], [2.0, -0.5277805776761201]], [\"M\", \"L\", \"L\", \"L\", \"L\", \"L\", \"L\", \"L\", \"L\", \"L\", \"Z\"]], [[[8.277923485925648, 0.0], [9.0, 0.0], [10.0, 0.0], [10.519916070604697, 0.0], [10.0, -1.5587278837821212], [9.0, -1.5939892344087994]], [\"M\", \"L\", \"L\", \"L\", \"L\", \"L\", \"Z\"]], [[[11.485964055918009, 0.0], [12.0, 0.0], [12.99525177544437, 0.0], [12.0, -1.5224518677121899]], [\"M\", \"L\", \"L\", \"L\", \"Z\"]], [[[15.674940867449079, 0.0], [16.0, 0.0], [17.0, 0.0], [17.73529151259574, 0.0], [17.0, -1.7636798301765775], [16.0, -0.38013986142412504]], [\"M\", \"L\", \"L\", \"L\", \"L\", \"L\", \"Z\"]], [[[19.18769895296818, 0.0], [20.0, 0.0], [21.0, 0.0], [21.07771636430724, 0.0], [21.0, -0.11223631854594211], [20.0, -1.9352448018206205]], [\"M\", \"L\", \"L\", \"L\", \"L\", \"L\", \"Z\"]], [[[23.504702546216606, 0.0], [24.0, 0.0], [25.0, 0.0], [26.0, 0.0], [26.756515605650957, 0.0], [26.0, -2.2745890902787256], [25.0, -1.1809189476593225], [24.0, -1.350049985888541]], [\"M\", \"L\", \"L\", \"L\", \"L\", \"L\", \"L\", \"L\", \"Z\"]], [[[27.35048488195143, 0.0], [28.0, 0.0], [28.50600424923505, 0.0], [28.0, -1.3566760751465188]], [\"M\", \"L\", \"L\", \"L\", \"Z\"]], [[[30.147250355365745, 0.0], [31.0, 0.0], [32.0, 0.0], [33.0, 0.0], [33.78914578764447, 0.0], [33.0, -0.6199020792921252], [32.0, -0.30931552176055177], [31.0, -0.9399915118950364]], [\"M\", \"L\", \"L\", \"L\", \"L\", \"L\", \"L\", \"L\", \"Z\"]], [[[34.191154680065594, 0.0], [35.0, 0.0], [35.28399581113935, 0.0], [35.0, -0.7008558030021192]], [\"M\", \"L\", \"L\", \"L\", \"Z\"]], [[[36.84262247070551, 0.0], [37.0, 0.0], [37.84050678662992, 0.0], [37.0, -0.33002131368758575]], [\"M\", \"L\", \"L\", \"L\", \"Z\"]], [[[47.68481871481007, 0.0], [48.0, 0.0], [48.36688400765384, 0.0], [48.0, -0.5501634276934547]], [\"M\", \"L\", \"L\", \"L\", \"Z\"]], [[[50.40131869992044, 0.0], [51.0, 0.0], [52.0, 0.0], [52.00919313868412, 0.0], [52.0, -0.004567661940414224], [51.0, -1.4341652930269424]], [\"M\", \"L\", \"L\", \"L\", \"L\", \"L\", \"Z\"]], [[[53.26487064410561, 0.0], [54.0, 0.0], [55.0, 0.0], [56.0, 0.0], [56.52088538591717, 0.0], [56.0, -0.5067388648233943], [55.0, -1.2745917079390583], [54.0, -1.366309491753872]], [\"M\", \"L\", \"L\", \"L\", \"L\", \"L\", \"L\", \"L\", \"Z\"]], [[[59.58113241395817, 0.0], [60.0, 0.0], [60.64699875855159, 0.0], [60.0, -0.44091417315245496]], [\"M\", \"L\", \"L\", \"L\", \"Z\"]], [[[64.34824255443979, 0.0], [65.0, 0.0], [66.0, 0.0], [66.09186763090223, 0.0], [66.0, -0.07785577693194709], [65.0, -1.662169163568675]], [\"M\", \"L\", \"L\", \"L\", \"L\", \"L\", \"Z\"]], [[[67.3921953824814, 0.0], [68.0, 0.0], [69.0, 0.0], [70.0, 0.0], [71.0, 0.0], [71.07642903430464, 0.0], [71.0, -0.03381641510250693], [70.0, -0.9718981848841676], [69.0, -0.36815427918221527], [68.0, -1.19272137049864]], [\"M\", \"L\", \"L\", \"L\", \"L\", \"L\", \"L\", \"L\", \"L\", \"L\", \"Z\"]], [[[73.3040078879877, 0.0], [74.0, 0.0], [75.0, 0.0], [75.73346328630343, 0.0], [75.0, -0.4398488067575598], [74.0, -1.3761356808034784]], [\"M\", \"L\", \"L\", \"L\", \"L\", \"L\", \"Z\"]], [[[76.17787492388054, 0.0], [77.0, 0.0], [78.0, 0.0], [79.0, 0.0], [80.0, 0.0], [81.0, 0.0], [81.82128936146977, 0.0], [81.0, -1.5112998089649257], [80.0, -0.42656958760934904], [79.0, -0.6438130451287329], [78.0, -1.1330706222117424], [77.0, -0.738763184500508]], [\"M\", \"L\", \"L\", \"L\", \"L\", \"L\", \"L\", \"L\", \"L\", \"L\", \"L\", \"L\", \"Z\"]], [[[82.44959284761616, 0.0], [83.0, 0.0], [84.0, 0.0], [85.0, 0.0], [85.1055855803443, 0.0], [85.0, -0.00046592915779108035], [84.0, -1.335917581243257], [83.0, -0.4025960521948287]], [\"M\", \"L\", \"L\", \"L\", \"L\", \"L\", \"L\", \"L\", \"Z\"]], [[[87.72973353070648, 0.0], [88.0, 0.0], [89.0, 0.0], [90.0, 0.0], [91.0, 0.0], [91.00894321994267, 0.0], [91.0, -0.011132796044155067], [90.0, -1.9295758138698118], [89.0, -0.9999830541137179], [88.0, -0.5472215409634574]], [\"M\", \"L\", \"L\", \"L\", \"L\", \"L\", \"L\", \"L\", \"L\", \"L\", \"Z\"]], [[[93.62464491407265, 0.0], [94.0, 0.0], [95.0, 0.0], [95.19577778648016, 0.0], [95.0, -0.33534518935246915], [94.0, -0.7916509888206616]], [\"M\", \"L\", \"L\", \"L\", \"L\", \"L\", \"Z\"]], [[[97.62008977356464, 0.0], [98.0, 0.0], [98.09559160457502, 0.0], [98.0, -0.28945652592285515]], [\"M\", \"L\", \"L\", \"L\", \"Z\"]]], \"edgecolors\": [\"#0000FF\"], \"edgewidths\": [1.0], \"offsets\": \"data01\", \"yindex\": 0, \"id\": \"el12494448528080\", \"pathtransforms\": [], \"pathcoordinates\": \"data\", \"offsetcoordinates\": \"display\", \"zorder\": 1, \"xindex\": 0, \"alphas\": [null], \"facecolors\": [\"#0000FF\"]}], \"xscale\": \"linear\", \"bbox\": [0.125, 0.125, 0.77500000000000002, 0.77500000000000002]}], \"height\": 160.0, \"width\": 320.0, \"plugins\": [{\"type\": \"reset\"}, {\"enabled\": false, \"button\": true, \"type\": \"zoom\"}, {\"enabled\": false, \"button\": true, \"type\": \"boxzoom\"}], \"data\": {\"data01\": [[0.0, 0.0]]}, \"id\": \"el12494463615888\"});\n",
        "   }(mpld3);\n",
        "}else if(typeof define === \"function\" && define.amd){\n",
        "   // require.js is available: use it to load d3/mpld3\n",
        "   require.config({paths: {d3: \"https://mpld3.github.io/js/d3.v3.min\"}});\n",
        "   require([\"d3\"], function(d3){\n",
        "      window.d3 = d3;\n",
        "      mpld3_load_lib(\"https://mpld3.github.io/js/mpld3.v0.2.js\", function(){\n",
        "         \n",
        "         mpld3.draw_figure(\"fig_el124944636158886639122856\", {\"axes\": [{\"xlim\": [0.0, 100.0], \"yscale\": \"linear\", \"axesbg\": \"#FFFFFF\", \"texts\": [], \"zoomable\": true, \"images\": [], \"xdomain\": [0.0, 100.0], \"ylim\": [-3.0, 3.0], \"paths\": [], \"sharey\": [], \"sharex\": [], \"axesbgalpha\": null, \"axes\": [{\"scale\": \"linear\", \"tickformat\": null, \"grid\": {\"color\": \"#CCCCCC\", \"alpha\": 1.0, \"dasharray\": \"2,2\", \"gridOn\": true}, \"fontsize\": 10.0, \"position\": \"bottom\", \"nticks\": 6, \"tickvalues\": null}, {\"scale\": \"linear\", \"tickformat\": null, \"grid\": {\"color\": \"#CCCCCC\", \"alpha\": 1.0, \"dasharray\": \"2,2\", \"gridOn\": true}, \"fontsize\": 10.0, \"position\": \"left\", \"nticks\": 7, \"tickvalues\": null}], \"lines\": [], \"markers\": [], \"id\": \"el12494462798352\", \"ydomain\": [-3.0, 3.0], \"collections\": [{\"paths\": [[[[0.0, 0.0], [0.0, 0.0], [1.0, 0.0], [1.039050945921717, 0.0], [1.0, 0.021447891238242124], [0.0, 0.2458126708785438]], [\"M\", \"L\", \"L\", \"L\", \"L\", \"L\", \"Z\"]], [[[5.777956623253366, 0.0], [6.0, 0.0], [7.0, 0.0], [8.0, 0.0], [8.277923485925648, 0.0], [8.0, 0.6135181465121461], [7.0, 0.17265410681479512], [6.0, 0.2068148967052538]], [\"M\", \"L\", \"L\", \"L\", \"L\", \"L\", \"L\", \"L\", \"Z\"]], [[[10.519916070604697, 0.0], [11.0, 0.0], [11.485964055918009, 0.0], [11.0, 1.4393096301751087]], [\"M\", \"L\", \"L\", \"L\", \"Z\"]], [[[12.99525177544437, 0.0], [13.0, 0.0], [14.0, 0.0], [15.0, 0.0], [15.674940867449079, 0.0], [15.0, 0.7893084738401511], [14.0, 0.7272246809264832], [13.0, 0.007263431748020937]], [\"M\", \"L\", \"L\", \"L\", \"L\", \"L\", \"L\", \"L\", \"Z\"]], [[[17.73529151259574, 0.0], [18.0, 0.0], [19.0, 0.0], [19.18769895296818, 0.0], [19.0, 0.4471783267621696], [18.0, 0.6349332368373467]], [\"M\", \"L\", \"L\", \"L\", \"L\", \"L\", \"Z\"]], [[[21.07771636430724, 0.0], [22.0, 0.0], [23.0, 0.0], [23.504702546216606, 0.0], [23.0, 1.3756857827410185], [22.0, 1.3319423888140076]], [\"M\", \"L\", \"L\", \"L\", \"L\", \"L\", \"Z\"]], [[[26.756515605650957, 0.0], [27.0, 0.0], [27.35048488195143, 0.0], [27.0, 0.7320760376950968]], [\"M\", \"L\", \"L\", \"L\", \"Z\"]], [[[28.50600424923505, 0.0], [29.0, 0.0], [30.0, 0.0], [30.147250355365745, 0.0], [30.0, 0.16231503001879688], [29.0, 1.3244794234435928]], [\"M\", \"L\", \"L\", \"L\", \"L\", \"L\", \"Z\"]], [[[33.78914578764447, 0.0], [34.0, 0.0], [34.191154680065594, 0.0], [34.0, 0.16563348206780812]], [\"M\", \"L\", \"L\", \"L\", \"Z\"]], [[[35.28399581113935, 0.0], [36.0, 0.0], [36.84262247070551, 0.0], [36.0, 1.7669827196521388]], [\"M\", \"L\", \"L\", \"L\", \"Z\"]], [[[37.84050678662992, 0.0], [38.0, 0.0], [39.0, 0.0], [40.0, 0.0], [41.0, 0.0], [42.0, 0.0], [43.0, 0.0], [44.0, 0.0], [45.0, 0.0], [46.0, 0.0], [47.0, 0.0], [47.68481871481007, 0.0], [47.0, 1.1953825597909469], [46.0, 0.11296545581324437], [45.0, 0.5453334884970162], [44.0, 0.3699103369731546], [43.0, 0.8135103188140054], [42.0, 2.005911301227656], [41.0, 0.5880624718831258], [40.0, 0.3666188630569981], [39.0, 0.4503883448222174], [38.0, 0.06262431266223992]], [\"M\", \"L\", \"L\", \"L\", \"L\", \"L\", \"L\", \"L\", \"L\", \"L\", \"L\", \"L\", \"L\", \"L\", \"L\", \"L\", \"L\", \"L\", \"L\", \"L\", \"L\", \"L\", \"Z\"]], [[[48.36688400765384, 0.0], [49.0, 0.0], [50.0, 0.0], [50.40131869992044, 0.0], [50.0, 0.9613751937668668], [49.0, 0.9493934246525065]], [\"M\", \"L\", \"L\", \"L\", \"L\", \"L\", \"Z\"]], [[[52.00919313868412, 0.0], [53.0, 0.0], [53.26487064410561, 0.0], [53.0, 0.4922878840665613]], [\"M\", \"L\", \"L\", \"L\", \"Z\"]], [[[56.52088538591717, 0.0], [57.0, 0.0], [58.0, 0.0], [59.0, 0.0], [59.58113241395817, 0.0], [59.0, 0.6117196133836635], [58.0, 0.4341071931985213], [57.0, 0.4661025289337624]], [\"M\", \"L\", \"L\", \"L\", \"L\", \"L\", \"L\", \"L\", \"Z\"]], [[[60.64699875855159, 0.0], [61.0, 0.0], [62.0, 0.0], [63.0, 0.0], [64.0, 0.0], [64.34824255443979, 0.0], [64.0, 0.8881187923134046], [63.0, 0.04927184637767687], [62.0, 0.5026750864965911], [61.0, 0.24056189975301667]], [\"M\", \"L\", \"L\", \"L\", \"L\", \"L\", \"L\", \"L\", \"L\", \"L\", \"Z\"]], [[[66.09186763090223, 0.0], [67.0, 0.0], [67.3921953824814, 0.0], [67.0, 0.7696220144003075]], [\"M\", \"L\", \"L\", \"L\", \"Z\"]], [[[71.07642903430464, 0.0], [72.0, 0.0], [73.0, 0.0], [73.3040078879877, 0.0], [73.0, 0.6010931656911973], [72.0, 0.40863867294317086]], [\"M\", \"L\", \"L\", \"L\", \"L\", \"L\", \"Z\"]], [[[75.73346328630343, 0.0], [76.0, 0.0], [76.17787492388054, 0.0], [76.0, 0.15983875084924126]], [\"M\", \"L\", \"L\", \"L\", \"Z\"]], [[[81.82128936146977, 0.0], [82.0, 0.0], [82.44959284761616, 0.0], [82.0, 0.32885529332487545]], [\"M\", \"L\", \"L\", \"L\", \"Z\"]], [[[85.1055855803443, 0.0], [86.0, 0.0], [87.0, 0.0], [87.72973353070648, 0.0], [87.0, 1.4775266358780856], [86.0, 0.00394688134409521]], [\"M\", \"L\", \"L\", \"L\", \"L\", \"L\", \"Z\"]], [[[91.00894321994267, 0.0], [92.0, 0.0], [93.0, 0.0], [93.62464491407265, 0.0], [93.0, 1.3174212430496188], [92.0, 1.233698049616996]], [\"M\", \"L\", \"L\", \"L\", \"L\", \"L\", \"Z\"]], [[[95.19577778648016, 0.0], [96.0, 0.0], [97.0, 0.0], [97.62008977356464, 0.0], [97.0, 0.47245117168976375], [96.0, 1.3775416267748821]], [\"M\", \"L\", \"L\", \"L\", \"L\", \"L\", \"Z\"]], [[[98.09559160457502, 0.0], [99.0, 0.0], [99.0, 0.0], [99.0, 2.738597320539192]], [\"M\", \"L\", \"L\", \"L\", \"Z\"]]], \"edgecolors\": [\"#FF0000\"], \"edgewidths\": [1.0], \"offsets\": \"data01\", \"yindex\": 1, \"id\": \"el12494448528208\", \"pathtransforms\": [], \"pathcoordinates\": \"data\", \"offsetcoordinates\": \"display\", \"zorder\": 1, \"xindex\": 0, \"alphas\": [null], \"facecolors\": [\"#FF0000\"]}, {\"paths\": [[[[1.039050945921717, 0.0], [2.0, 0.0], [3.0, 0.0], [4.0, 0.0], [5.0, 0.0], [5.777956623253366, 0.0], [5.0, -0.7246017469050738], [4.0, -0.03156769851636507], [3.0, -0.5056648963035196], [2.0, -0.5277805776761201]], [\"M\", \"L\", \"L\", \"L\", \"L\", \"L\", \"L\", \"L\", \"L\", \"L\", \"Z\"]], [[[8.277923485925648, 0.0], [9.0, 0.0], [10.0, 0.0], [10.519916070604697, 0.0], [10.0, -1.5587278837821212], [9.0, -1.5939892344087994]], [\"M\", \"L\", \"L\", \"L\", \"L\", \"L\", \"Z\"]], [[[11.485964055918009, 0.0], [12.0, 0.0], [12.99525177544437, 0.0], [12.0, -1.5224518677121899]], [\"M\", \"L\", \"L\", \"L\", \"Z\"]], [[[15.674940867449079, 0.0], [16.0, 0.0], [17.0, 0.0], [17.73529151259574, 0.0], [17.0, -1.7636798301765775], [16.0, -0.38013986142412504]], [\"M\", \"L\", \"L\", \"L\", \"L\", \"L\", \"Z\"]], [[[19.18769895296818, 0.0], [20.0, 0.0], [21.0, 0.0], [21.07771636430724, 0.0], [21.0, -0.11223631854594211], [20.0, -1.9352448018206205]], [\"M\", \"L\", \"L\", \"L\", \"L\", \"L\", \"Z\"]], [[[23.504702546216606, 0.0], [24.0, 0.0], [25.0, 0.0], [26.0, 0.0], [26.756515605650957, 0.0], [26.0, -2.2745890902787256], [25.0, -1.1809189476593225], [24.0, -1.350049985888541]], [\"M\", \"L\", \"L\", \"L\", \"L\", \"L\", \"L\", \"L\", \"Z\"]], [[[27.35048488195143, 0.0], [28.0, 0.0], [28.50600424923505, 0.0], [28.0, -1.3566760751465188]], [\"M\", \"L\", \"L\", \"L\", \"Z\"]], [[[30.147250355365745, 0.0], [31.0, 0.0], [32.0, 0.0], [33.0, 0.0], [33.78914578764447, 0.0], [33.0, -0.6199020792921252], [32.0, -0.30931552176055177], [31.0, -0.9399915118950364]], [\"M\", \"L\", \"L\", \"L\", \"L\", \"L\", \"L\", \"L\", \"Z\"]], [[[34.191154680065594, 0.0], [35.0, 0.0], [35.28399581113935, 0.0], [35.0, -0.7008558030021192]], [\"M\", \"L\", \"L\", \"L\", \"Z\"]], [[[36.84262247070551, 0.0], [37.0, 0.0], [37.84050678662992, 0.0], [37.0, -0.33002131368758575]], [\"M\", \"L\", \"L\", \"L\", \"Z\"]], [[[47.68481871481007, 0.0], [48.0, 0.0], [48.36688400765384, 0.0], [48.0, -0.5501634276934547]], [\"M\", \"L\", \"L\", \"L\", \"Z\"]], [[[50.40131869992044, 0.0], [51.0, 0.0], [52.0, 0.0], [52.00919313868412, 0.0], [52.0, -0.004567661940414224], [51.0, -1.4341652930269424]], [\"M\", \"L\", \"L\", \"L\", \"L\", \"L\", \"Z\"]], [[[53.26487064410561, 0.0], [54.0, 0.0], [55.0, 0.0], [56.0, 0.0], [56.52088538591717, 0.0], [56.0, -0.5067388648233943], [55.0, -1.2745917079390583], [54.0, -1.366309491753872]], [\"M\", \"L\", \"L\", \"L\", \"L\", \"L\", \"L\", \"L\", \"Z\"]], [[[59.58113241395817, 0.0], [60.0, 0.0], [60.64699875855159, 0.0], [60.0, -0.44091417315245496]], [\"M\", \"L\", \"L\", \"L\", \"Z\"]], [[[64.34824255443979, 0.0], [65.0, 0.0], [66.0, 0.0], [66.09186763090223, 0.0], [66.0, -0.07785577693194709], [65.0, -1.662169163568675]], [\"M\", \"L\", \"L\", \"L\", \"L\", \"L\", \"Z\"]], [[[67.3921953824814, 0.0], [68.0, 0.0], [69.0, 0.0], [70.0, 0.0], [71.0, 0.0], [71.07642903430464, 0.0], [71.0, -0.03381641510250693], [70.0, -0.9718981848841676], [69.0, -0.36815427918221527], [68.0, -1.19272137049864]], [\"M\", \"L\", \"L\", \"L\", \"L\", \"L\", \"L\", \"L\", \"L\", \"L\", \"Z\"]], [[[73.3040078879877, 0.0], [74.0, 0.0], [75.0, 0.0], [75.73346328630343, 0.0], [75.0, -0.4398488067575598], [74.0, -1.3761356808034784]], [\"M\", \"L\", \"L\", \"L\", \"L\", \"L\", \"Z\"]], [[[76.17787492388054, 0.0], [77.0, 0.0], [78.0, 0.0], [79.0, 0.0], [80.0, 0.0], [81.0, 0.0], [81.82128936146977, 0.0], [81.0, -1.5112998089649257], [80.0, -0.42656958760934904], [79.0, -0.6438130451287329], [78.0, -1.1330706222117424], [77.0, -0.738763184500508]], [\"M\", \"L\", \"L\", \"L\", \"L\", \"L\", \"L\", \"L\", \"L\", \"L\", \"L\", \"L\", \"Z\"]], [[[82.44959284761616, 0.0], [83.0, 0.0], [84.0, 0.0], [85.0, 0.0], [85.1055855803443, 0.0], [85.0, -0.00046592915779108035], [84.0, -1.335917581243257], [83.0, -0.4025960521948287]], [\"M\", \"L\", \"L\", \"L\", \"L\", \"L\", \"L\", \"L\", \"Z\"]], [[[87.72973353070648, 0.0], [88.0, 0.0], [89.0, 0.0], [90.0, 0.0], [91.0, 0.0], [91.00894321994267, 0.0], [91.0, -0.011132796044155067], [90.0, -1.9295758138698118], [89.0, -0.9999830541137179], [88.0, -0.5472215409634574]], [\"M\", \"L\", \"L\", \"L\", \"L\", \"L\", \"L\", \"L\", \"L\", \"L\", \"Z\"]], [[[93.62464491407265, 0.0], [94.0, 0.0], [95.0, 0.0], [95.19577778648016, 0.0], [95.0, -0.33534518935246915], [94.0, -0.7916509888206616]], [\"M\", \"L\", \"L\", \"L\", \"L\", \"L\", \"Z\"]], [[[97.62008977356464, 0.0], [98.0, 0.0], [98.09559160457502, 0.0], [98.0, -0.28945652592285515]], [\"M\", \"L\", \"L\", \"L\", \"Z\"]]], \"edgecolors\": [\"#0000FF\"], \"edgewidths\": [1.0], \"offsets\": \"data01\", \"yindex\": 0, \"id\": \"el12494448528080\", \"pathtransforms\": [], \"pathcoordinates\": \"data\", \"offsetcoordinates\": \"display\", \"zorder\": 1, \"xindex\": 0, \"alphas\": [null], \"facecolors\": [\"#0000FF\"]}], \"xscale\": \"linear\", \"bbox\": [0.125, 0.125, 0.77500000000000002, 0.77500000000000002]}], \"height\": 160.0, \"width\": 320.0, \"plugins\": [{\"type\": \"reset\"}, {\"enabled\": false, \"button\": true, \"type\": \"zoom\"}, {\"enabled\": false, \"button\": true, \"type\": \"boxzoom\"}], \"data\": {\"data01\": [[0.0, 0.0]]}, \"id\": \"el12494463615888\"});\n",
        "      });\n",
        "    });\n",
        "}else{\n",
        "    // require.js not available: dynamically load d3 & mpld3\n",
        "    mpld3_load_lib(\"https://mpld3.github.io/js/d3.v3.min.js\", function(){\n",
        "         mpld3_load_lib(\"https://mpld3.github.io/js/mpld3.v0.2.js\", function(){\n",
        "                 \n",
        "                 mpld3.draw_figure(\"fig_el124944636158886639122856\", {\"axes\": [{\"xlim\": [0.0, 100.0], \"yscale\": \"linear\", \"axesbg\": \"#FFFFFF\", \"texts\": [], \"zoomable\": true, \"images\": [], \"xdomain\": [0.0, 100.0], \"ylim\": [-3.0, 3.0], \"paths\": [], \"sharey\": [], \"sharex\": [], \"axesbgalpha\": null, \"axes\": [{\"scale\": \"linear\", \"tickformat\": null, \"grid\": {\"color\": \"#CCCCCC\", \"alpha\": 1.0, \"dasharray\": \"2,2\", \"gridOn\": true}, \"fontsize\": 10.0, \"position\": \"bottom\", \"nticks\": 6, \"tickvalues\": null}, {\"scale\": \"linear\", \"tickformat\": null, \"grid\": {\"color\": \"#CCCCCC\", \"alpha\": 1.0, \"dasharray\": \"2,2\", \"gridOn\": true}, \"fontsize\": 10.0, \"position\": \"left\", \"nticks\": 7, \"tickvalues\": null}], \"lines\": [], \"markers\": [], \"id\": \"el12494462798352\", \"ydomain\": [-3.0, 3.0], \"collections\": [{\"paths\": [[[[0.0, 0.0], [0.0, 0.0], [1.0, 0.0], [1.039050945921717, 0.0], [1.0, 0.021447891238242124], [0.0, 0.2458126708785438]], [\"M\", \"L\", \"L\", \"L\", \"L\", \"L\", \"Z\"]], [[[5.777956623253366, 0.0], [6.0, 0.0], [7.0, 0.0], [8.0, 0.0], [8.277923485925648, 0.0], [8.0, 0.6135181465121461], [7.0, 0.17265410681479512], [6.0, 0.2068148967052538]], [\"M\", \"L\", \"L\", \"L\", \"L\", \"L\", \"L\", \"L\", \"Z\"]], [[[10.519916070604697, 0.0], [11.0, 0.0], [11.485964055918009, 0.0], [11.0, 1.4393096301751087]], [\"M\", \"L\", \"L\", \"L\", \"Z\"]], [[[12.99525177544437, 0.0], [13.0, 0.0], [14.0, 0.0], [15.0, 0.0], [15.674940867449079, 0.0], [15.0, 0.7893084738401511], [14.0, 0.7272246809264832], [13.0, 0.007263431748020937]], [\"M\", \"L\", \"L\", \"L\", \"L\", \"L\", \"L\", \"L\", \"Z\"]], [[[17.73529151259574, 0.0], [18.0, 0.0], [19.0, 0.0], [19.18769895296818, 0.0], [19.0, 0.4471783267621696], [18.0, 0.6349332368373467]], [\"M\", \"L\", \"L\", \"L\", \"L\", \"L\", \"Z\"]], [[[21.07771636430724, 0.0], [22.0, 0.0], [23.0, 0.0], [23.504702546216606, 0.0], [23.0, 1.3756857827410185], [22.0, 1.3319423888140076]], [\"M\", \"L\", \"L\", \"L\", \"L\", \"L\", \"Z\"]], [[[26.756515605650957, 0.0], [27.0, 0.0], [27.35048488195143, 0.0], [27.0, 0.7320760376950968]], [\"M\", \"L\", \"L\", \"L\", \"Z\"]], [[[28.50600424923505, 0.0], [29.0, 0.0], [30.0, 0.0], [30.147250355365745, 0.0], [30.0, 0.16231503001879688], [29.0, 1.3244794234435928]], [\"M\", \"L\", \"L\", \"L\", \"L\", \"L\", \"Z\"]], [[[33.78914578764447, 0.0], [34.0, 0.0], [34.191154680065594, 0.0], [34.0, 0.16563348206780812]], [\"M\", \"L\", \"L\", \"L\", \"Z\"]], [[[35.28399581113935, 0.0], [36.0, 0.0], [36.84262247070551, 0.0], [36.0, 1.7669827196521388]], [\"M\", \"L\", \"L\", \"L\", \"Z\"]], [[[37.84050678662992, 0.0], [38.0, 0.0], [39.0, 0.0], [40.0, 0.0], [41.0, 0.0], [42.0, 0.0], [43.0, 0.0], [44.0, 0.0], [45.0, 0.0], [46.0, 0.0], [47.0, 0.0], [47.68481871481007, 0.0], [47.0, 1.1953825597909469], [46.0, 0.11296545581324437], [45.0, 0.5453334884970162], [44.0, 0.3699103369731546], [43.0, 0.8135103188140054], [42.0, 2.005911301227656], [41.0, 0.5880624718831258], [40.0, 0.3666188630569981], [39.0, 0.4503883448222174], [38.0, 0.06262431266223992]], [\"M\", \"L\", \"L\", \"L\", \"L\", \"L\", \"L\", \"L\", \"L\", \"L\", \"L\", \"L\", \"L\", \"L\", \"L\", \"L\", \"L\", \"L\", \"L\", \"L\", \"L\", \"L\", \"Z\"]], [[[48.36688400765384, 0.0], [49.0, 0.0], [50.0, 0.0], [50.40131869992044, 0.0], [50.0, 0.9613751937668668], [49.0, 0.9493934246525065]], [\"M\", \"L\", \"L\", \"L\", \"L\", \"L\", \"Z\"]], [[[52.00919313868412, 0.0], [53.0, 0.0], [53.26487064410561, 0.0], [53.0, 0.4922878840665613]], [\"M\", \"L\", \"L\", \"L\", \"Z\"]], [[[56.52088538591717, 0.0], [57.0, 0.0], [58.0, 0.0], [59.0, 0.0], [59.58113241395817, 0.0], [59.0, 0.6117196133836635], [58.0, 0.4341071931985213], [57.0, 0.4661025289337624]], [\"M\", \"L\", \"L\", \"L\", \"L\", \"L\", \"L\", \"L\", \"Z\"]], [[[60.64699875855159, 0.0], [61.0, 0.0], [62.0, 0.0], [63.0, 0.0], [64.0, 0.0], [64.34824255443979, 0.0], [64.0, 0.8881187923134046], [63.0, 0.04927184637767687], [62.0, 0.5026750864965911], [61.0, 0.24056189975301667]], [\"M\", \"L\", \"L\", \"L\", \"L\", \"L\", \"L\", \"L\", \"L\", \"L\", \"Z\"]], [[[66.09186763090223, 0.0], [67.0, 0.0], [67.3921953824814, 0.0], [67.0, 0.7696220144003075]], [\"M\", \"L\", \"L\", \"L\", \"Z\"]], [[[71.07642903430464, 0.0], [72.0, 0.0], [73.0, 0.0], [73.3040078879877, 0.0], [73.0, 0.6010931656911973], [72.0, 0.40863867294317086]], [\"M\", \"L\", \"L\", \"L\", \"L\", \"L\", \"Z\"]], [[[75.73346328630343, 0.0], [76.0, 0.0], [76.17787492388054, 0.0], [76.0, 0.15983875084924126]], [\"M\", \"L\", \"L\", \"L\", \"Z\"]], [[[81.82128936146977, 0.0], [82.0, 0.0], [82.44959284761616, 0.0], [82.0, 0.32885529332487545]], [\"M\", \"L\", \"L\", \"L\", \"Z\"]], [[[85.1055855803443, 0.0], [86.0, 0.0], [87.0, 0.0], [87.72973353070648, 0.0], [87.0, 1.4775266358780856], [86.0, 0.00394688134409521]], [\"M\", \"L\", \"L\", \"L\", \"L\", \"L\", \"Z\"]], [[[91.00894321994267, 0.0], [92.0, 0.0], [93.0, 0.0], [93.62464491407265, 0.0], [93.0, 1.3174212430496188], [92.0, 1.233698049616996]], [\"M\", \"L\", \"L\", \"L\", \"L\", \"L\", \"Z\"]], [[[95.19577778648016, 0.0], [96.0, 0.0], [97.0, 0.0], [97.62008977356464, 0.0], [97.0, 0.47245117168976375], [96.0, 1.3775416267748821]], [\"M\", \"L\", \"L\", \"L\", \"L\", \"L\", \"Z\"]], [[[98.09559160457502, 0.0], [99.0, 0.0], [99.0, 0.0], [99.0, 2.738597320539192]], [\"M\", \"L\", \"L\", \"L\", \"Z\"]]], \"edgecolors\": [\"#FF0000\"], \"edgewidths\": [1.0], \"offsets\": \"data01\", \"yindex\": 1, \"id\": \"el12494448528208\", \"pathtransforms\": [], \"pathcoordinates\": \"data\", \"offsetcoordinates\": \"display\", \"zorder\": 1, \"xindex\": 0, \"alphas\": [null], \"facecolors\": [\"#FF0000\"]}, {\"paths\": [[[[1.039050945921717, 0.0], [2.0, 0.0], [3.0, 0.0], [4.0, 0.0], [5.0, 0.0], [5.777956623253366, 0.0], [5.0, -0.7246017469050738], [4.0, -0.03156769851636507], [3.0, -0.5056648963035196], [2.0, -0.5277805776761201]], [\"M\", \"L\", \"L\", \"L\", \"L\", \"L\", \"L\", \"L\", \"L\", \"L\", \"Z\"]], [[[8.277923485925648, 0.0], [9.0, 0.0], [10.0, 0.0], [10.519916070604697, 0.0], [10.0, -1.5587278837821212], [9.0, -1.5939892344087994]], [\"M\", \"L\", \"L\", \"L\", \"L\", \"L\", \"Z\"]], [[[11.485964055918009, 0.0], [12.0, 0.0], [12.99525177544437, 0.0], [12.0, -1.5224518677121899]], [\"M\", \"L\", \"L\", \"L\", \"Z\"]], [[[15.674940867449079, 0.0], [16.0, 0.0], [17.0, 0.0], [17.73529151259574, 0.0], [17.0, -1.7636798301765775], [16.0, -0.38013986142412504]], [\"M\", \"L\", \"L\", \"L\", \"L\", \"L\", \"Z\"]], [[[19.18769895296818, 0.0], [20.0, 0.0], [21.0, 0.0], [21.07771636430724, 0.0], [21.0, -0.11223631854594211], [20.0, -1.9352448018206205]], [\"M\", \"L\", \"L\", \"L\", \"L\", \"L\", \"Z\"]], [[[23.504702546216606, 0.0], [24.0, 0.0], [25.0, 0.0], [26.0, 0.0], [26.756515605650957, 0.0], [26.0, -2.2745890902787256], [25.0, -1.1809189476593225], [24.0, -1.350049985888541]], [\"M\", \"L\", \"L\", \"L\", \"L\", \"L\", \"L\", \"L\", \"Z\"]], [[[27.35048488195143, 0.0], [28.0, 0.0], [28.50600424923505, 0.0], [28.0, -1.3566760751465188]], [\"M\", \"L\", \"L\", \"L\", \"Z\"]], [[[30.147250355365745, 0.0], [31.0, 0.0], [32.0, 0.0], [33.0, 0.0], [33.78914578764447, 0.0], [33.0, -0.6199020792921252], [32.0, -0.30931552176055177], [31.0, -0.9399915118950364]], [\"M\", \"L\", \"L\", \"L\", \"L\", \"L\", \"L\", \"L\", \"Z\"]], [[[34.191154680065594, 0.0], [35.0, 0.0], [35.28399581113935, 0.0], [35.0, -0.7008558030021192]], [\"M\", \"L\", \"L\", \"L\", \"Z\"]], [[[36.84262247070551, 0.0], [37.0, 0.0], [37.84050678662992, 0.0], [37.0, -0.33002131368758575]], [\"M\", \"L\", \"L\", \"L\", \"Z\"]], [[[47.68481871481007, 0.0], [48.0, 0.0], [48.36688400765384, 0.0], [48.0, -0.5501634276934547]], [\"M\", \"L\", \"L\", \"L\", \"Z\"]], [[[50.40131869992044, 0.0], [51.0, 0.0], [52.0, 0.0], [52.00919313868412, 0.0], [52.0, -0.004567661940414224], [51.0, -1.4341652930269424]], [\"M\", \"L\", \"L\", \"L\", \"L\", \"L\", \"Z\"]], [[[53.26487064410561, 0.0], [54.0, 0.0], [55.0, 0.0], [56.0, 0.0], [56.52088538591717, 0.0], [56.0, -0.5067388648233943], [55.0, -1.2745917079390583], [54.0, -1.366309491753872]], [\"M\", \"L\", \"L\", \"L\", \"L\", \"L\", \"L\", \"L\", \"Z\"]], [[[59.58113241395817, 0.0], [60.0, 0.0], [60.64699875855159, 0.0], [60.0, -0.44091417315245496]], [\"M\", \"L\", \"L\", \"L\", \"Z\"]], [[[64.34824255443979, 0.0], [65.0, 0.0], [66.0, 0.0], [66.09186763090223, 0.0], [66.0, -0.07785577693194709], [65.0, -1.662169163568675]], [\"M\", \"L\", \"L\", \"L\", \"L\", \"L\", \"Z\"]], [[[67.3921953824814, 0.0], [68.0, 0.0], [69.0, 0.0], [70.0, 0.0], [71.0, 0.0], [71.07642903430464, 0.0], [71.0, -0.03381641510250693], [70.0, -0.9718981848841676], [69.0, -0.36815427918221527], [68.0, -1.19272137049864]], [\"M\", \"L\", \"L\", \"L\", \"L\", \"L\", \"L\", \"L\", \"L\", \"L\", \"Z\"]], [[[73.3040078879877, 0.0], [74.0, 0.0], [75.0, 0.0], [75.73346328630343, 0.0], [75.0, -0.4398488067575598], [74.0, -1.3761356808034784]], [\"M\", \"L\", \"L\", \"L\", \"L\", \"L\", \"Z\"]], [[[76.17787492388054, 0.0], [77.0, 0.0], [78.0, 0.0], [79.0, 0.0], [80.0, 0.0], [81.0, 0.0], [81.82128936146977, 0.0], [81.0, -1.5112998089649257], [80.0, -0.42656958760934904], [79.0, -0.6438130451287329], [78.0, -1.1330706222117424], [77.0, -0.738763184500508]], [\"M\", \"L\", \"L\", \"L\", \"L\", \"L\", \"L\", \"L\", \"L\", \"L\", \"L\", \"L\", \"Z\"]], [[[82.44959284761616, 0.0], [83.0, 0.0], [84.0, 0.0], [85.0, 0.0], [85.1055855803443, 0.0], [85.0, -0.00046592915779108035], [84.0, -1.335917581243257], [83.0, -0.4025960521948287]], [\"M\", \"L\", \"L\", \"L\", \"L\", \"L\", \"L\", \"L\", \"Z\"]], [[[87.72973353070648, 0.0], [88.0, 0.0], [89.0, 0.0], [90.0, 0.0], [91.0, 0.0], [91.00894321994267, 0.0], [91.0, -0.011132796044155067], [90.0, -1.9295758138698118], [89.0, -0.9999830541137179], [88.0, -0.5472215409634574]], [\"M\", \"L\", \"L\", \"L\", \"L\", \"L\", \"L\", \"L\", \"L\", \"L\", \"Z\"]], [[[93.62464491407265, 0.0], [94.0, 0.0], [95.0, 0.0], [95.19577778648016, 0.0], [95.0, -0.33534518935246915], [94.0, -0.7916509888206616]], [\"M\", \"L\", \"L\", \"L\", \"L\", \"L\", \"Z\"]], [[[97.62008977356464, 0.0], [98.0, 0.0], [98.09559160457502, 0.0], [98.0, -0.28945652592285515]], [\"M\", \"L\", \"L\", \"L\", \"Z\"]]], \"edgecolors\": [\"#0000FF\"], \"edgewidths\": [1.0], \"offsets\": \"data01\", \"yindex\": 0, \"id\": \"el12494448528080\", \"pathtransforms\": [], \"pathcoordinates\": \"data\", \"offsetcoordinates\": \"display\", \"zorder\": 1, \"xindex\": 0, \"alphas\": [null], \"facecolors\": [\"#0000FF\"]}], \"xscale\": \"linear\", \"bbox\": [0.125, 0.125, 0.77500000000000002, 0.77500000000000002]}], \"height\": 160.0, \"width\": 320.0, \"plugins\": [{\"type\": \"reset\"}, {\"enabled\": false, \"button\": true, \"type\": \"zoom\"}, {\"enabled\": false, \"button\": true, \"type\": \"boxzoom\"}], \"data\": {\"data01\": [[0.0, 0.0]]}, \"id\": \"el12494463615888\"});\n",
        "            })\n",
        "         });\n",
        "}\n",
        "</script>"
       ],
       "metadata": {},
       "output_type": "display_data",
       "png": "[encoded data removed]",
       "text": [
        "<matplotlib.figure.Figure at 0x10a0d5f90>"
       ]
      }
     ],
     "prompt_number": 20
    },
    {
     "cell_type": "code",
     "collapsed": false,
     "input": [
      "from map_notebook import * # local functions"
     ],
     "language": "python",
     "metadata": {},
     "outputs": [],
     "prompt_number": 21
    },
    {
     "cell_type": "code",
     "collapsed": false,
     "input": [
      "#map = folium.Map(location=[-13.8333, -171.7500], zoom_start=10) # can also use MapBox tiles if API key\n",
      "map = folium.Map(location=[-13.8333, -171.7500], zoom_start=10, tiles='Mapbox', API_key='nicolasf.ic0ebom5')"
     ],
     "language": "python",
     "metadata": {},
     "outputs": [],
     "prompt_number": 22
    },
    {
     "cell_type": "code",
     "collapsed": false,
     "input": [
      "map.circle_marker(location=[-13.8333, -171.7500], popup=textpop, fill_color='#FF0000', line_color=None, radius=3000)\n",
      "map.circle_marker(location=[-13.9, -171.7400], popup=textpop, fill_color='#FF0000', line_color=None, radius=2000)"
     ],
     "language": "python",
     "metadata": {},
     "outputs": [],
     "prompt_number": 23
    },
    {
     "cell_type": "code",
     "collapsed": false,
     "input": [
      "inline_map(map)"
     ],
     "language": "python",
     "metadata": {},
     "outputs": [
      {
       "html": [
        "<iframe srcdoc=\"<!DOCTYPE html>\n",
        "<head>\n",
        "   <link rel=&quot;stylesheet&quot; href=&quot;http://cdn.leafletjs.com/leaflet-0.5/leaflet.css&quot; />\n",
        "   <script src=&quot;http://cdn.leafletjs.com/leaflet-0.5/leaflet.js&quot;></script>\n",
        "   \n",
        "   \n",
        "   \n",
        "   \n",
        "\n",
        "\n",
        "<style>\n",
        "\n",
        "#map {\n",
        "  position:absolute;\n",
        "  top:0;\n",
        "  bottom:0;\n",
        "  right:0;\n",
        "  left:0;\n",
        "}\n",
        "\n",
        "</style>\n",
        "</head>\n",
        "<body>\n",
        "\n",
        "        <div id=&quot;map&quot; style=&quot;width: 960px; height: 500px&quot;></div>\n",
        "\n",
        "<script>\n",
        "\n",
        "\n",
        "\n",
        "var map = L.map('map').setView([-13.8333, -171.75], 10);\n",
        "\n",
        "L.tileLayer('http://{s}.tiles.mapbox.com/v3/nicolasf.ic0ebom5/{z}/{x}/{y}.png', {\n",
        "    maxZoom: 18,\n",
        "    attribution: 'Map tiles by <a href=&quot;http://www.mapbox.com/m&quot;>Mapbox</a> Data by <a href=&quot;http://openstreetmap.org&quot;>OpenStreetMap</a>, under <a href=&quot;http://creativecommons.org/licenses/by-sa/3.0&quot;>CC BY SA</a>.'\n",
        "}).addTo(map);\n",
        "\n",
        "\n",
        "var circle_1 = L.circle([-13.8333, -171.75], 3000, {\n",
        "                            color: 'None',\n",
        "                            fillColor: '#FF0000',\n",
        "                            fillOpacity: 0.6\n",
        "                            });\n",
        "circle_1.bindPopup(&quot;<div align='center'> <img src='./figure.png' alt='imaginary temperature anomaly' width='320' height='160'> </div>&quot;);\n",
        "map.addLayer(circle_1)\n",
        "\n",
        "var circle_2 = L.circle([-13.9, -171.74], 2000, {\n",
        "                            color: 'None',\n",
        "                            fillColor: '#FF0000',\n",
        "                            fillOpacity: 0.6\n",
        "                            });\n",
        "circle_2.bindPopup(&quot;<div align='center'> <img src='./figure.png' alt='imaginary temperature anomaly' width='320' height='160'> </div>&quot;);\n",
        "map.addLayer(circle_2)\n",
        "\n",
        "\n",
        "\n",
        "\n",
        "\n",
        "\n",
        "</script>\n",
        "\n",
        "</body>\" style=\"width: 100%; height: 510px; border: none\"></iframe>"
       ],
       "metadata": {},
       "output_type": "pyout",
       "prompt_number": 24,
       "text": [
        "<IPython.core.display.HTML at 0x1092b50d0>"
       ]
      }
     ],
     "prompt_number": 24
    },
    {
     "cell_type": "code",
     "collapsed": false,
     "input": [],
     "language": "python",
     "metadata": {},
     "outputs": [],
     "prompt_number": 24
    }
   ],
   "metadata": {}
  }
 ]
}