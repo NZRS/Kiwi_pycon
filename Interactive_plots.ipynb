{
 "metadata": {
  "name": "",
  "signature": "sha256:d4c41daf2a267f06d000bb5ce572f415b86abce9d2466f400ea4ab34840de813"
 },
 "nbformat": 3,
 "nbformat_minor": 0,
 "worksheets": [
  {
   "cells": [
    {
     "cell_type": "code",
     "collapsed": false,
     "input": [
      "%load_ext load_style\n",
      "%load_style talk.css"
     ],
     "language": "python",
     "metadata": {},
     "outputs": [
      {
       "html": [
        "<style>\n",
        "\n",
        ".rendered_html {\n",
        "    font-family: \"proxima-nova\", helvetica;\n",
        "    font-size: 130%;\n",
        "    line-height: 1.5;\n",
        "}\n",
        "\n",
        ".rendered_html h1 {\n",
        "    margin: 0.25em 0em 0.5em;\n",
        "    color: #015C9C;\n",
        "    text-align: center;\n",
        "    line-height: 1.2; \n",
        "    page-break-before: always;\n",
        "}\n",
        "\n",
        ".rendered_html h2 {\n",
        "    margin: 1.1em 0em 0.5em;\n",
        "    color: #26465D;\n",
        "    line-height: 1.2;\n",
        "}\n",
        "\n",
        ".rendered_html h3 {\n",
        "    margin: 1.1em 0em 0.5em;\n",
        "    color: #002845;\n",
        "    line-height: 1.2;\n",
        "}\n",
        "\n",
        ".rendered_html li {\n",
        "    line-height: 1.5; \n",
        "}\n",
        "\n",
        "/*.prompt {\n",
        "    font-size: 120%; \n",
        "}*/\n",
        "\n",
        ".CodeMirror-lines {\n",
        "    font-size: 110%; \n",
        "}\n",
        "\n",
        "/*.output_area {\n",
        "    font-size: 120%; \n",
        "}*/\n",
        "\n",
        "/*#notebook {\n",
        "    background-image: url('files/images/witewall_3.png');\n",
        "}*/\n",
        "\n",
        "h1.bigtitle {\n",
        "    margin: 4cm 1cm 4cm 1cm;\n",
        "    font-size: 300%;\n",
        "}\n",
        "\n",
        "h3.point {\n",
        "    font-size: 200%;\n",
        "    text-align: center;\n",
        "    margin: 2em 0em 2em 0em;\n",
        "    #26465D\n",
        "}\n",
        "\n",
        ".logo {\n",
        "    margin: 20px 0 20px 0;\n",
        "}\n",
        "\n",
        "a.anchor-link {\n",
        "    display: none;\n",
        "}\n",
        "\n",
        "h1.title { \n",
        "    font-size: 250%;\n",
        "}\n",
        "\n",
        "</style>"
       ],
       "metadata": {},
       "output_type": "display_data",
       "text": [
        "<IPython.core.display.HTML at 0x10490e510>"
       ]
      }
     ],
     "prompt_number": 2
    },
    {
     "cell_type": "heading",
     "level": 1,
     "metadata": {},
     "source": [
      "Interactive visualisations in the browser with Python"
     ]
    },
    {
     "cell_type": "markdown",
     "metadata": {},
     "source": [
      "In the past few years, the python (scientific) ecosystem has seen intense development of solutions aimed at bringing interactive data visualisation in the browser, through a set of libraries which basically interface with powerful JavaScript visualisations libraries such as `D3.js`, `rickshaw.js`, `leaflet.js` etc. \n",
      "\n",
      "In this demo we will see: \n",
      "\n",
      "+ [MPLd3](http://mpld3.github.io/)\n",
      "+ [bokeh](http://bokeh.pydata.org/)\n",
      "+ [bearcart](https://github.com/wrobstory/bearcart)\n",
      "+ [folium](https://github.com/wrobstory/folium)"
     ]
    },
    {
     "cell_type": "code",
     "collapsed": false,
     "input": [
      "import os, sys\n",
      "import pandas as pd\n",
      "import numpy as np\n",
      "from numpy import ma\n",
      "import matplotlib.pyplot as plt"
     ],
     "language": "python",
     "metadata": {},
     "outputs": [],
     "prompt_number": 3
    },
    {
     "cell_type": "code",
     "collapsed": false,
     "input": [
      "%matplotlib inline"
     ],
     "language": "python",
     "metadata": {},
     "outputs": [],
     "prompt_number": 4
    },
    {
     "cell_type": "markdown",
     "metadata": {},
     "source": [
      "<hr size=6>"
     ]
    },
    {
     "cell_type": "heading",
     "level": 2,
     "metadata": {},
     "source": [
      "MPLD3"
     ]
    },
    {
     "cell_type": "markdown",
     "metadata": {},
     "source": [
      "[MPLd3](http://mpld3.github.io/) is developed by [Jake VanderPlas](http://www.astro.washington.edu/users/vanderplas/)  \n",
      "\n",
      "MPLD3 provides a simple API for exporting [matplotlib](http://matplotlib.org) graphics to HTML code which can be used within the browser, within standard web pages, blogs, or tools such as the IPython notebook."
     ]
    },
    {
     "cell_type": "code",
     "collapsed": false,
     "input": [
      "import mpld3\n",
      "from mpld3 import plugins\n",
      "mpld3.enable_notebook()"
     ],
     "language": "python",
     "metadata": {},
     "outputs": [],
     "prompt_number": 5
    },
    {
     "cell_type": "code",
     "collapsed": false,
     "input": [
      "xdf = pd.DataFrame(np.random.normal(size=(100)), columns=['A'])"
     ],
     "language": "python",
     "metadata": {},
     "outputs": [],
     "prompt_number": 6
    },
    {
     "cell_type": "code",
     "collapsed": false,
     "input": [
      "f, ax= plt.subplots(figsize=(8,4)); \n",
      "ax.plot(xdf.index, xdf['A'], lw=2, color='b');\n",
      "ax.set_xlim(40,80)\n",
      "ax.grid(color='0.8')"
     ],
     "language": "python",
     "metadata": {},
     "outputs": [
      {
       "html": [
        "\n",
        "\n",
        "<style>\n",
        "\n",
        "</style>\n",
        "\n",
        "<div id=\"fig_el477544268839849140953673\"></div>\n",
        "<script>\n",
        "function mpld3_load_lib(url, callback){\n",
        "  var s = document.createElement('script');\n",
        "  s.src = url;\n",
        "  s.async = true;\n",
        "  s.onreadystatechange = s.onload = callback;\n",
        "  s.onerror = function(){console.warn(\"failed to load library \" + url);};\n",
        "  document.getElementsByTagName(\"head\")[0].appendChild(s);\n",
        "}\n",
        "\n",
        "if(typeof(mpld3) !== \"undefined\" && mpld3._mpld3IsLoaded){\n",
        "   // already loaded: just create the figure\n",
        "   !function(mpld3){\n",
        "       \n",
        "       mpld3.draw_figure(\"fig_el477544268839849140953673\", {\"axes\": [{\"xlim\": [40.0, 80.0], \"yscale\": \"linear\", \"axesbg\": \"#FFFFFF\", \"texts\": [], \"zoomable\": true, \"images\": [], \"xdomain\": [40.0, 80.0], \"ylim\": [-3.0, 3.0], \"paths\": [], \"sharey\": [], \"sharex\": [], \"axesbgalpha\": null, \"axes\": [{\"scale\": \"linear\", \"tickformat\": null, \"grid\": {\"color\": \"#CCCCCC\", \"alpha\": 1.0, \"dasharray\": \"2,2\", \"gridOn\": true}, \"fontsize\": 10.0, \"position\": \"bottom\", \"nticks\": 9, \"tickvalues\": null}, {\"scale\": \"linear\", \"tickformat\": null, \"grid\": {\"color\": \"#CCCCCC\", \"alpha\": 1.0, \"dasharray\": \"2,2\", \"gridOn\": true}, \"fontsize\": 10.0, \"position\": \"left\", \"nticks\": 7, \"tickvalues\": null}], \"lines\": [{\"color\": \"#0000FF\", \"yindex\": 1, \"coordinates\": \"data\", \"dasharray\": \"10,0\", \"zorder\": 2, \"alpha\": 1, \"xindex\": 0, \"linewidth\": 2, \"data\": \"data01\", \"id\": \"el47754428498256\"}], \"markers\": [], \"id\": \"el47754426885712\", \"ydomain\": [-3.0, 3.0], \"collections\": [], \"xscale\": \"linear\", \"bbox\": [0.125, 0.125, 0.77500000000000002, 0.77500000000000002]}], \"height\": 320.0, \"width\": 640.0, \"plugins\": [{\"type\": \"reset\"}, {\"enabled\": false, \"button\": true, \"type\": \"zoom\"}, {\"enabled\": false, \"button\": true, \"type\": \"boxzoom\"}], \"data\": {\"data01\": [[0.0, 0.5642072707975041], [1.0, -0.23046419149985356], [2.0, 0.5006208739173872], [3.0, 2.8598941513469214], [4.0, 1.472962472770248], [5.0, -2.1251463854136103], [6.0, 0.04505627622699516], [7.0, 1.1364598830332955], [8.0, 0.8055031963295125], [9.0, 0.6958187619435915], [10.0, 1.2818900550500563], [11.0, -1.5559627825362643], [12.0, 0.2719463634900274], [13.0, -0.25788695231467534], [14.0, -0.8578322137709148], [15.0, -0.6551062146920132], [16.0, 1.2037586606707962], [17.0, -0.6475541604677196], [18.0, -1.56500562268575], [19.0, 0.9833362233629065], [20.0, -1.0433573382722134], [21.0, -0.36547503560728345], [22.0, 0.4746166827415353], [23.0, 1.1885894737232496], [24.0, -0.8062111710284563], [25.0, 0.016059656541622218], [26.0, 2.4664925549846126], [27.0, 1.2394585504571793], [28.0, 0.4606172892979678], [29.0, -0.46954917473545704], [30.0, 1.5575860429103168], [31.0, 0.22949325358314934], [32.0, 0.24357907530320322], [33.0, -1.1534455361565308], [34.0, -1.1629542635335508], [35.0, 1.0850015407209488], [36.0, 0.10841159130596385], [37.0, -0.38908426755958514], [38.0, 1.04365990648531], [39.0, -0.3013418568633721], [40.0, -0.16324591609211947], [41.0, -0.6456365439076405], [42.0, -0.12081570079849155], [43.0, -1.0948061297119192], [44.0, 0.8250340487547674], [45.0, 0.9178549063383242], [46.0, -0.6557454325726957], [47.0, 0.8722724848437794], [48.0, 0.09906979986492567], [49.0, 0.9344502190734737], [50.0, -1.6736697696670377], [51.0, 0.3429311882464428], [52.0, -0.4953812767671372], [53.0, -0.6002075016445381], [54.0, 0.9324440349903774], [55.0, -0.06280112153108827], [56.0, -0.9028370173602782], [57.0, -0.150942861946373], [58.0, 1.4556983438984312], [59.0, -0.44102015169163067], [60.0, 1.381558659380637], [61.0, -0.3937577986983526], [62.0, 0.944573463202764], [63.0, -1.342273878628233], [64.0, 0.5389662772253558], [65.0, -0.5995930503464817], [66.0, 0.23412574653653442], [67.0, 0.21404370033795617], [68.0, 0.17962515804542406], [69.0, 0.26103749663225967], [70.0, -0.7958351098777461], [71.0, 1.1617906141681424], [72.0, 0.3112827285750141], [73.0, -0.6229685106345937], [74.0, 0.5723505558451698], [75.0, 0.21301146643535018], [76.0, 1.5526835322427384], [77.0, -0.4857048036603957], [78.0, -1.98365499500087], [79.0, -0.5212716314597754], [80.0, 0.6613065567457377], [81.0, 0.9708274018698078], [82.0, -1.7937818234848122], [83.0, 0.1961419368888258], [84.0, 1.4228673297323873], [85.0, -2.4964348460324186], [86.0, -1.2521321336457933], [87.0, -1.3237879640102823], [88.0, 0.4835996484477941], [89.0, 0.8499974398283441], [90.0, 0.4569582352220257], [91.0, 0.48751351033155005], [92.0, 1.1125823884708306], [93.0, 0.12961402987219137], [94.0, -0.952614702581992], [95.0, 0.03958105170238984], [96.0, -0.2436229590856461], [97.0, 0.9008390632350846], [98.0, 0.3472711295584981], [99.0, -0.2172444645758781]]}, \"id\": \"el47754426883984\"});\n",
        "   }(mpld3);\n",
        "}else if(typeof define === \"function\" && define.amd){\n",
        "   // require.js is available: use it to load d3/mpld3\n",
        "   require.config({paths: {d3: \"https://mpld3.github.io/js/d3.v3.min\"}});\n",
        "   require([\"d3\"], function(d3){\n",
        "      window.d3 = d3;\n",
        "      mpld3_load_lib(\"https://mpld3.github.io/js/mpld3.v0.2.js\", function(){\n",
        "         \n",
        "         mpld3.draw_figure(\"fig_el477544268839849140953673\", {\"axes\": [{\"xlim\": [40.0, 80.0], \"yscale\": \"linear\", \"axesbg\": \"#FFFFFF\", \"texts\": [], \"zoomable\": true, \"images\": [], \"xdomain\": [40.0, 80.0], \"ylim\": [-3.0, 3.0], \"paths\": [], \"sharey\": [], \"sharex\": [], \"axesbgalpha\": null, \"axes\": [{\"scale\": \"linear\", \"tickformat\": null, \"grid\": {\"color\": \"#CCCCCC\", \"alpha\": 1.0, \"dasharray\": \"2,2\", \"gridOn\": true}, \"fontsize\": 10.0, \"position\": \"bottom\", \"nticks\": 9, \"tickvalues\": null}, {\"scale\": \"linear\", \"tickformat\": null, \"grid\": {\"color\": \"#CCCCCC\", \"alpha\": 1.0, \"dasharray\": \"2,2\", \"gridOn\": true}, \"fontsize\": 10.0, \"position\": \"left\", \"nticks\": 7, \"tickvalues\": null}], \"lines\": [{\"color\": \"#0000FF\", \"yindex\": 1, \"coordinates\": \"data\", \"dasharray\": \"10,0\", \"zorder\": 2, \"alpha\": 1, \"xindex\": 0, \"linewidth\": 2, \"data\": \"data01\", \"id\": \"el47754428498256\"}], \"markers\": [], \"id\": \"el47754426885712\", \"ydomain\": [-3.0, 3.0], \"collections\": [], \"xscale\": \"linear\", \"bbox\": [0.125, 0.125, 0.77500000000000002, 0.77500000000000002]}], \"height\": 320.0, \"width\": 640.0, \"plugins\": [{\"type\": \"reset\"}, {\"enabled\": false, \"button\": true, \"type\": \"zoom\"}, {\"enabled\": false, \"button\": true, \"type\": \"boxzoom\"}], \"data\": {\"data01\": [[0.0, 0.5642072707975041], [1.0, -0.23046419149985356], [2.0, 0.5006208739173872], [3.0, 2.8598941513469214], [4.0, 1.472962472770248], [5.0, -2.1251463854136103], [6.0, 0.04505627622699516], [7.0, 1.1364598830332955], [8.0, 0.8055031963295125], [9.0, 0.6958187619435915], [10.0, 1.2818900550500563], [11.0, -1.5559627825362643], [12.0, 0.2719463634900274], [13.0, -0.25788695231467534], [14.0, -0.8578322137709148], [15.0, -0.6551062146920132], [16.0, 1.2037586606707962], [17.0, -0.6475541604677196], [18.0, -1.56500562268575], [19.0, 0.9833362233629065], [20.0, -1.0433573382722134], [21.0, -0.36547503560728345], [22.0, 0.4746166827415353], [23.0, 1.1885894737232496], [24.0, -0.8062111710284563], [25.0, 0.016059656541622218], [26.0, 2.4664925549846126], [27.0, 1.2394585504571793], [28.0, 0.4606172892979678], [29.0, -0.46954917473545704], [30.0, 1.5575860429103168], [31.0, 0.22949325358314934], [32.0, 0.24357907530320322], [33.0, -1.1534455361565308], [34.0, -1.1629542635335508], [35.0, 1.0850015407209488], [36.0, 0.10841159130596385], [37.0, -0.38908426755958514], [38.0, 1.04365990648531], [39.0, -0.3013418568633721], [40.0, -0.16324591609211947], [41.0, -0.6456365439076405], [42.0, -0.12081570079849155], [43.0, -1.0948061297119192], [44.0, 0.8250340487547674], [45.0, 0.9178549063383242], [46.0, -0.6557454325726957], [47.0, 0.8722724848437794], [48.0, 0.09906979986492567], [49.0, 0.9344502190734737], [50.0, -1.6736697696670377], [51.0, 0.3429311882464428], [52.0, -0.4953812767671372], [53.0, -0.6002075016445381], [54.0, 0.9324440349903774], [55.0, -0.06280112153108827], [56.0, -0.9028370173602782], [57.0, -0.150942861946373], [58.0, 1.4556983438984312], [59.0, -0.44102015169163067], [60.0, 1.381558659380637], [61.0, -0.3937577986983526], [62.0, 0.944573463202764], [63.0, -1.342273878628233], [64.0, 0.5389662772253558], [65.0, -0.5995930503464817], [66.0, 0.23412574653653442], [67.0, 0.21404370033795617], [68.0, 0.17962515804542406], [69.0, 0.26103749663225967], [70.0, -0.7958351098777461], [71.0, 1.1617906141681424], [72.0, 0.3112827285750141], [73.0, -0.6229685106345937], [74.0, 0.5723505558451698], [75.0, 0.21301146643535018], [76.0, 1.5526835322427384], [77.0, -0.4857048036603957], [78.0, -1.98365499500087], [79.0, -0.5212716314597754], [80.0, 0.6613065567457377], [81.0, 0.9708274018698078], [82.0, -1.7937818234848122], [83.0, 0.1961419368888258], [84.0, 1.4228673297323873], [85.0, -2.4964348460324186], [86.0, -1.2521321336457933], [87.0, -1.3237879640102823], [88.0, 0.4835996484477941], [89.0, 0.8499974398283441], [90.0, 0.4569582352220257], [91.0, 0.48751351033155005], [92.0, 1.1125823884708306], [93.0, 0.12961402987219137], [94.0, -0.952614702581992], [95.0, 0.03958105170238984], [96.0, -0.2436229590856461], [97.0, 0.9008390632350846], [98.0, 0.3472711295584981], [99.0, -0.2172444645758781]]}, \"id\": \"el47754426883984\"});\n",
        "      });\n",
        "    });\n",
        "}else{\n",
        "    // require.js not available: dynamically load d3 & mpld3\n",
        "    mpld3_load_lib(\"https://mpld3.github.io/js/d3.v3.min.js\", function(){\n",
        "         mpld3_load_lib(\"https://mpld3.github.io/js/mpld3.v0.2.js\", function(){\n",
        "                 \n",
        "                 mpld3.draw_figure(\"fig_el477544268839849140953673\", {\"axes\": [{\"xlim\": [40.0, 80.0], \"yscale\": \"linear\", \"axesbg\": \"#FFFFFF\", \"texts\": [], \"zoomable\": true, \"images\": [], \"xdomain\": [40.0, 80.0], \"ylim\": [-3.0, 3.0], \"paths\": [], \"sharey\": [], \"sharex\": [], \"axesbgalpha\": null, \"axes\": [{\"scale\": \"linear\", \"tickformat\": null, \"grid\": {\"color\": \"#CCCCCC\", \"alpha\": 1.0, \"dasharray\": \"2,2\", \"gridOn\": true}, \"fontsize\": 10.0, \"position\": \"bottom\", \"nticks\": 9, \"tickvalues\": null}, {\"scale\": \"linear\", \"tickformat\": null, \"grid\": {\"color\": \"#CCCCCC\", \"alpha\": 1.0, \"dasharray\": \"2,2\", \"gridOn\": true}, \"fontsize\": 10.0, \"position\": \"left\", \"nticks\": 7, \"tickvalues\": null}], \"lines\": [{\"color\": \"#0000FF\", \"yindex\": 1, \"coordinates\": \"data\", \"dasharray\": \"10,0\", \"zorder\": 2, \"alpha\": 1, \"xindex\": 0, \"linewidth\": 2, \"data\": \"data01\", \"id\": \"el47754428498256\"}], \"markers\": [], \"id\": \"el47754426885712\", \"ydomain\": [-3.0, 3.0], \"collections\": [], \"xscale\": \"linear\", \"bbox\": [0.125, 0.125, 0.77500000000000002, 0.77500000000000002]}], \"height\": 320.0, \"width\": 640.0, \"plugins\": [{\"type\": \"reset\"}, {\"enabled\": false, \"button\": true, \"type\": \"zoom\"}, {\"enabled\": false, \"button\": true, \"type\": \"boxzoom\"}], \"data\": {\"data01\": [[0.0, 0.5642072707975041], [1.0, -0.23046419149985356], [2.0, 0.5006208739173872], [3.0, 2.8598941513469214], [4.0, 1.472962472770248], [5.0, -2.1251463854136103], [6.0, 0.04505627622699516], [7.0, 1.1364598830332955], [8.0, 0.8055031963295125], [9.0, 0.6958187619435915], [10.0, 1.2818900550500563], [11.0, -1.5559627825362643], [12.0, 0.2719463634900274], [13.0, -0.25788695231467534], [14.0, -0.8578322137709148], [15.0, -0.6551062146920132], [16.0, 1.2037586606707962], [17.0, -0.6475541604677196], [18.0, -1.56500562268575], [19.0, 0.9833362233629065], [20.0, -1.0433573382722134], [21.0, -0.36547503560728345], [22.0, 0.4746166827415353], [23.0, 1.1885894737232496], [24.0, -0.8062111710284563], [25.0, 0.016059656541622218], [26.0, 2.4664925549846126], [27.0, 1.2394585504571793], [28.0, 0.4606172892979678], [29.0, -0.46954917473545704], [30.0, 1.5575860429103168], [31.0, 0.22949325358314934], [32.0, 0.24357907530320322], [33.0, -1.1534455361565308], [34.0, -1.1629542635335508], [35.0, 1.0850015407209488], [36.0, 0.10841159130596385], [37.0, -0.38908426755958514], [38.0, 1.04365990648531], [39.0, -0.3013418568633721], [40.0, -0.16324591609211947], [41.0, -0.6456365439076405], [42.0, -0.12081570079849155], [43.0, -1.0948061297119192], [44.0, 0.8250340487547674], [45.0, 0.9178549063383242], [46.0, -0.6557454325726957], [47.0, 0.8722724848437794], [48.0, 0.09906979986492567], [49.0, 0.9344502190734737], [50.0, -1.6736697696670377], [51.0, 0.3429311882464428], [52.0, -0.4953812767671372], [53.0, -0.6002075016445381], [54.0, 0.9324440349903774], [55.0, -0.06280112153108827], [56.0, -0.9028370173602782], [57.0, -0.150942861946373], [58.0, 1.4556983438984312], [59.0, -0.44102015169163067], [60.0, 1.381558659380637], [61.0, -0.3937577986983526], [62.0, 0.944573463202764], [63.0, -1.342273878628233], [64.0, 0.5389662772253558], [65.0, -0.5995930503464817], [66.0, 0.23412574653653442], [67.0, 0.21404370033795617], [68.0, 0.17962515804542406], [69.0, 0.26103749663225967], [70.0, -0.7958351098777461], [71.0, 1.1617906141681424], [72.0, 0.3112827285750141], [73.0, -0.6229685106345937], [74.0, 0.5723505558451698], [75.0, 0.21301146643535018], [76.0, 1.5526835322427384], [77.0, -0.4857048036603957], [78.0, -1.98365499500087], [79.0, -0.5212716314597754], [80.0, 0.6613065567457377], [81.0, 0.9708274018698078], [82.0, -1.7937818234848122], [83.0, 0.1961419368888258], [84.0, 1.4228673297323873], [85.0, -2.4964348460324186], [86.0, -1.2521321336457933], [87.0, -1.3237879640102823], [88.0, 0.4835996484477941], [89.0, 0.8499974398283441], [90.0, 0.4569582352220257], [91.0, 0.48751351033155005], [92.0, 1.1125823884708306], [93.0, 0.12961402987219137], [94.0, -0.952614702581992], [95.0, 0.03958105170238984], [96.0, -0.2436229590856461], [97.0, 0.9008390632350846], [98.0, 0.3472711295584981], [99.0, -0.2172444645758781]]}, \"id\": \"el47754426883984\"});\n",
        "            })\n",
        "         });\n",
        "}\n",
        "</script>"
       ],
       "metadata": {},
       "output_type": "display_data",
       "png": "[encoded data removed]",
       "text": [
        "<matplotlib.figure.Figure at 0x107dce390>"
       ]
      }
     ],
     "prompt_number": 7
    },
    {
     "cell_type": "markdown",
     "metadata": {},
     "source": [
      "### you can connect ```plugins``` to the figure"
     ]
    },
    {
     "cell_type": "code",
     "collapsed": false,
     "input": [
      "f, ax= plt.subplots(figsize=(8,4)); \n",
      "plt.plot(xdf.index, xdf['A'], lw=2, color='b');\n",
      "ax.set_xlim(40,80)\n",
      "ax.grid(color='0.8')\n",
      "plugins.connect(f, plugins.MousePosition(fontsize=16))"
     ],
     "language": "python",
     "metadata": {},
     "outputs": [
      {
       "html": [
        "\n",
        "\n",
        "<style>\n",
        "\n",
        "</style>\n",
        "\n",
        "<div id=\"fig_el47754426787152688436065\"></div>\n",
        "<script>\n",
        "function mpld3_load_lib(url, callback){\n",
        "  var s = document.createElement('script');\n",
        "  s.src = url;\n",
        "  s.async = true;\n",
        "  s.onreadystatechange = s.onload = callback;\n",
        "  s.onerror = function(){console.warn(\"failed to load library \" + url);};\n",
        "  document.getElementsByTagName(\"head\")[0].appendChild(s);\n",
        "}\n",
        "\n",
        "if(typeof(mpld3) !== \"undefined\" && mpld3._mpld3IsLoaded){\n",
        "   // already loaded: just create the figure\n",
        "   !function(mpld3){\n",
        "       \n",
        "       mpld3.draw_figure(\"fig_el47754426787152688436065\", {\"axes\": [{\"xlim\": [40.0, 80.0], \"yscale\": \"linear\", \"axesbg\": \"#FFFFFF\", \"texts\": [], \"zoomable\": true, \"images\": [], \"xdomain\": [40.0, 80.0], \"ylim\": [-3.0, 3.0], \"paths\": [], \"sharey\": [], \"sharex\": [], \"axesbgalpha\": null, \"axes\": [{\"scale\": \"linear\", \"tickformat\": null, \"grid\": {\"color\": \"#CCCCCC\", \"alpha\": 1.0, \"dasharray\": \"2,2\", \"gridOn\": true}, \"fontsize\": 10.0, \"position\": \"bottom\", \"nticks\": 9, \"tickvalues\": null}, {\"scale\": \"linear\", \"tickformat\": null, \"grid\": {\"color\": \"#CCCCCC\", \"alpha\": 1.0, \"dasharray\": \"2,2\", \"gridOn\": true}, \"fontsize\": 10.0, \"position\": \"left\", \"nticks\": 7, \"tickvalues\": null}], \"lines\": [{\"color\": \"#0000FF\", \"yindex\": 1, \"coordinates\": \"data\", \"dasharray\": \"10,0\", \"zorder\": 2, \"alpha\": 1, \"xindex\": 0, \"linewidth\": 2, \"data\": \"data01\", \"id\": \"el47754430086544\"}], \"markers\": [], \"id\": \"el47754426883664\", \"ydomain\": [-3.0, 3.0], \"collections\": [], \"xscale\": \"linear\", \"bbox\": [0.125, 0.125, 0.77500000000000002, 0.77500000000000002]}], \"height\": 320.0, \"width\": 640.0, \"plugins\": [{\"type\": \"reset\"}, {\"enabled\": false, \"button\": true, \"type\": \"zoom\"}, {\"enabled\": false, \"button\": true, \"type\": \"boxzoom\"}, {\"fontsize\": 16, \"fmt\": \".3g\", \"type\": \"mouseposition\"}], \"data\": {\"data01\": [[0.0, 0.5642072707975041], [1.0, -0.23046419149985356], [2.0, 0.5006208739173872], [3.0, 2.8598941513469214], [4.0, 1.472962472770248], [5.0, -2.1251463854136103], [6.0, 0.04505627622699516], [7.0, 1.1364598830332955], [8.0, 0.8055031963295125], [9.0, 0.6958187619435915], [10.0, 1.2818900550500563], [11.0, -1.5559627825362643], [12.0, 0.2719463634900274], [13.0, -0.25788695231467534], [14.0, -0.8578322137709148], [15.0, -0.6551062146920132], [16.0, 1.2037586606707962], [17.0, -0.6475541604677196], [18.0, -1.56500562268575], [19.0, 0.9833362233629065], [20.0, -1.0433573382722134], [21.0, -0.36547503560728345], [22.0, 0.4746166827415353], [23.0, 1.1885894737232496], [24.0, -0.8062111710284563], [25.0, 0.016059656541622218], [26.0, 2.4664925549846126], [27.0, 1.2394585504571793], [28.0, 0.4606172892979678], [29.0, -0.46954917473545704], [30.0, 1.5575860429103168], [31.0, 0.22949325358314934], [32.0, 0.24357907530320322], [33.0, -1.1534455361565308], [34.0, -1.1629542635335508], [35.0, 1.0850015407209488], [36.0, 0.10841159130596385], [37.0, -0.38908426755958514], [38.0, 1.04365990648531], [39.0, -0.3013418568633721], [40.0, -0.16324591609211947], [41.0, -0.6456365439076405], [42.0, -0.12081570079849155], [43.0, -1.0948061297119192], [44.0, 0.8250340487547674], [45.0, 0.9178549063383242], [46.0, -0.6557454325726957], [47.0, 0.8722724848437794], [48.0, 0.09906979986492567], [49.0, 0.9344502190734737], [50.0, -1.6736697696670377], [51.0, 0.3429311882464428], [52.0, -0.4953812767671372], [53.0, -0.6002075016445381], [54.0, 0.9324440349903774], [55.0, -0.06280112153108827], [56.0, -0.9028370173602782], [57.0, -0.150942861946373], [58.0, 1.4556983438984312], [59.0, -0.44102015169163067], [60.0, 1.381558659380637], [61.0, -0.3937577986983526], [62.0, 0.944573463202764], [63.0, -1.342273878628233], [64.0, 0.5389662772253558], [65.0, -0.5995930503464817], [66.0, 0.23412574653653442], [67.0, 0.21404370033795617], [68.0, 0.17962515804542406], [69.0, 0.26103749663225967], [70.0, -0.7958351098777461], [71.0, 1.1617906141681424], [72.0, 0.3112827285750141], [73.0, -0.6229685106345937], [74.0, 0.5723505558451698], [75.0, 0.21301146643535018], [76.0, 1.5526835322427384], [77.0, -0.4857048036603957], [78.0, -1.98365499500087], [79.0, -0.5212716314597754], [80.0, 0.6613065567457377], [81.0, 0.9708274018698078], [82.0, -1.7937818234848122], [83.0, 0.1961419368888258], [84.0, 1.4228673297323873], [85.0, -2.4964348460324186], [86.0, -1.2521321336457933], [87.0, -1.3237879640102823], [88.0, 0.4835996484477941], [89.0, 0.8499974398283441], [90.0, 0.4569582352220257], [91.0, 0.48751351033155005], [92.0, 1.1125823884708306], [93.0, 0.12961402987219137], [94.0, -0.952614702581992], [95.0, 0.03958105170238984], [96.0, -0.2436229590856461], [97.0, 0.9008390632350846], [98.0, 0.3472711295584981], [99.0, -0.2172444645758781]]}, \"id\": \"el47754426787152\"});\n",
        "   }(mpld3);\n",
        "}else if(typeof define === \"function\" && define.amd){\n",
        "   // require.js is available: use it to load d3/mpld3\n",
        "   require.config({paths: {d3: \"https://mpld3.github.io/js/d3.v3.min\"}});\n",
        "   require([\"d3\"], function(d3){\n",
        "      window.d3 = d3;\n",
        "      mpld3_load_lib(\"https://mpld3.github.io/js/mpld3.v0.2.js\", function(){\n",
        "         \n",
        "         mpld3.draw_figure(\"fig_el47754426787152688436065\", {\"axes\": [{\"xlim\": [40.0, 80.0], \"yscale\": \"linear\", \"axesbg\": \"#FFFFFF\", \"texts\": [], \"zoomable\": true, \"images\": [], \"xdomain\": [40.0, 80.0], \"ylim\": [-3.0, 3.0], \"paths\": [], \"sharey\": [], \"sharex\": [], \"axesbgalpha\": null, \"axes\": [{\"scale\": \"linear\", \"tickformat\": null, \"grid\": {\"color\": \"#CCCCCC\", \"alpha\": 1.0, \"dasharray\": \"2,2\", \"gridOn\": true}, \"fontsize\": 10.0, \"position\": \"bottom\", \"nticks\": 9, \"tickvalues\": null}, {\"scale\": \"linear\", \"tickformat\": null, \"grid\": {\"color\": \"#CCCCCC\", \"alpha\": 1.0, \"dasharray\": \"2,2\", \"gridOn\": true}, \"fontsize\": 10.0, \"position\": \"left\", \"nticks\": 7, \"tickvalues\": null}], \"lines\": [{\"color\": \"#0000FF\", \"yindex\": 1, \"coordinates\": \"data\", \"dasharray\": \"10,0\", \"zorder\": 2, \"alpha\": 1, \"xindex\": 0, \"linewidth\": 2, \"data\": \"data01\", \"id\": \"el47754430086544\"}], \"markers\": [], \"id\": \"el47754426883664\", \"ydomain\": [-3.0, 3.0], \"collections\": [], \"xscale\": \"linear\", \"bbox\": [0.125, 0.125, 0.77500000000000002, 0.77500000000000002]}], \"height\": 320.0, \"width\": 640.0, \"plugins\": [{\"type\": \"reset\"}, {\"enabled\": false, \"button\": true, \"type\": \"zoom\"}, {\"enabled\": false, \"button\": true, \"type\": \"boxzoom\"}, {\"fontsize\": 16, \"fmt\": \".3g\", \"type\": \"mouseposition\"}], \"data\": {\"data01\": [[0.0, 0.5642072707975041], [1.0, -0.23046419149985356], [2.0, 0.5006208739173872], [3.0, 2.8598941513469214], [4.0, 1.472962472770248], [5.0, -2.1251463854136103], [6.0, 0.04505627622699516], [7.0, 1.1364598830332955], [8.0, 0.8055031963295125], [9.0, 0.6958187619435915], [10.0, 1.2818900550500563], [11.0, -1.5559627825362643], [12.0, 0.2719463634900274], [13.0, -0.25788695231467534], [14.0, -0.8578322137709148], [15.0, -0.6551062146920132], [16.0, 1.2037586606707962], [17.0, -0.6475541604677196], [18.0, -1.56500562268575], [19.0, 0.9833362233629065], [20.0, -1.0433573382722134], [21.0, -0.36547503560728345], [22.0, 0.4746166827415353], [23.0, 1.1885894737232496], [24.0, -0.8062111710284563], [25.0, 0.016059656541622218], [26.0, 2.4664925549846126], [27.0, 1.2394585504571793], [28.0, 0.4606172892979678], [29.0, -0.46954917473545704], [30.0, 1.5575860429103168], [31.0, 0.22949325358314934], [32.0, 0.24357907530320322], [33.0, -1.1534455361565308], [34.0, -1.1629542635335508], [35.0, 1.0850015407209488], [36.0, 0.10841159130596385], [37.0, -0.38908426755958514], [38.0, 1.04365990648531], [39.0, -0.3013418568633721], [40.0, -0.16324591609211947], [41.0, -0.6456365439076405], [42.0, -0.12081570079849155], [43.0, -1.0948061297119192], [44.0, 0.8250340487547674], [45.0, 0.9178549063383242], [46.0, -0.6557454325726957], [47.0, 0.8722724848437794], [48.0, 0.09906979986492567], [49.0, 0.9344502190734737], [50.0, -1.6736697696670377], [51.0, 0.3429311882464428], [52.0, -0.4953812767671372], [53.0, -0.6002075016445381], [54.0, 0.9324440349903774], [55.0, -0.06280112153108827], [56.0, -0.9028370173602782], [57.0, -0.150942861946373], [58.0, 1.4556983438984312], [59.0, -0.44102015169163067], [60.0, 1.381558659380637], [61.0, -0.3937577986983526], [62.0, 0.944573463202764], [63.0, -1.342273878628233], [64.0, 0.5389662772253558], [65.0, -0.5995930503464817], [66.0, 0.23412574653653442], [67.0, 0.21404370033795617], [68.0, 0.17962515804542406], [69.0, 0.26103749663225967], [70.0, -0.7958351098777461], [71.0, 1.1617906141681424], [72.0, 0.3112827285750141], [73.0, -0.6229685106345937], [74.0, 0.5723505558451698], [75.0, 0.21301146643535018], [76.0, 1.5526835322427384], [77.0, -0.4857048036603957], [78.0, -1.98365499500087], [79.0, -0.5212716314597754], [80.0, 0.6613065567457377], [81.0, 0.9708274018698078], [82.0, -1.7937818234848122], [83.0, 0.1961419368888258], [84.0, 1.4228673297323873], [85.0, -2.4964348460324186], [86.0, -1.2521321336457933], [87.0, -1.3237879640102823], [88.0, 0.4835996484477941], [89.0, 0.8499974398283441], [90.0, 0.4569582352220257], [91.0, 0.48751351033155005], [92.0, 1.1125823884708306], [93.0, 0.12961402987219137], [94.0, -0.952614702581992], [95.0, 0.03958105170238984], [96.0, -0.2436229590856461], [97.0, 0.9008390632350846], [98.0, 0.3472711295584981], [99.0, -0.2172444645758781]]}, \"id\": \"el47754426787152\"});\n",
        "      });\n",
        "    });\n",
        "}else{\n",
        "    // require.js not available: dynamically load d3 & mpld3\n",
        "    mpld3_load_lib(\"https://mpld3.github.io/js/d3.v3.min.js\", function(){\n",
        "         mpld3_load_lib(\"https://mpld3.github.io/js/mpld3.v0.2.js\", function(){\n",
        "                 \n",
        "                 mpld3.draw_figure(\"fig_el47754426787152688436065\", {\"axes\": [{\"xlim\": [40.0, 80.0], \"yscale\": \"linear\", \"axesbg\": \"#FFFFFF\", \"texts\": [], \"zoomable\": true, \"images\": [], \"xdomain\": [40.0, 80.0], \"ylim\": [-3.0, 3.0], \"paths\": [], \"sharey\": [], \"sharex\": [], \"axesbgalpha\": null, \"axes\": [{\"scale\": \"linear\", \"tickformat\": null, \"grid\": {\"color\": \"#CCCCCC\", \"alpha\": 1.0, \"dasharray\": \"2,2\", \"gridOn\": true}, \"fontsize\": 10.0, \"position\": \"bottom\", \"nticks\": 9, \"tickvalues\": null}, {\"scale\": \"linear\", \"tickformat\": null, \"grid\": {\"color\": \"#CCCCCC\", \"alpha\": 1.0, \"dasharray\": \"2,2\", \"gridOn\": true}, \"fontsize\": 10.0, \"position\": \"left\", \"nticks\": 7, \"tickvalues\": null}], \"lines\": [{\"color\": \"#0000FF\", \"yindex\": 1, \"coordinates\": \"data\", \"dasharray\": \"10,0\", \"zorder\": 2, \"alpha\": 1, \"xindex\": 0, \"linewidth\": 2, \"data\": \"data01\", \"id\": \"el47754430086544\"}], \"markers\": [], \"id\": \"el47754426883664\", \"ydomain\": [-3.0, 3.0], \"collections\": [], \"xscale\": \"linear\", \"bbox\": [0.125, 0.125, 0.77500000000000002, 0.77500000000000002]}], \"height\": 320.0, \"width\": 640.0, \"plugins\": [{\"type\": \"reset\"}, {\"enabled\": false, \"button\": true, \"type\": \"zoom\"}, {\"enabled\": false, \"button\": true, \"type\": \"boxzoom\"}, {\"fontsize\": 16, \"fmt\": \".3g\", \"type\": \"mouseposition\"}], \"data\": {\"data01\": [[0.0, 0.5642072707975041], [1.0, -0.23046419149985356], [2.0, 0.5006208739173872], [3.0, 2.8598941513469214], [4.0, 1.472962472770248], [5.0, -2.1251463854136103], [6.0, 0.04505627622699516], [7.0, 1.1364598830332955], [8.0, 0.8055031963295125], [9.0, 0.6958187619435915], [10.0, 1.2818900550500563], [11.0, -1.5559627825362643], [12.0, 0.2719463634900274], [13.0, -0.25788695231467534], [14.0, -0.8578322137709148], [15.0, -0.6551062146920132], [16.0, 1.2037586606707962], [17.0, -0.6475541604677196], [18.0, -1.56500562268575], [19.0, 0.9833362233629065], [20.0, -1.0433573382722134], [21.0, -0.36547503560728345], [22.0, 0.4746166827415353], [23.0, 1.1885894737232496], [24.0, -0.8062111710284563], [25.0, 0.016059656541622218], [26.0, 2.4664925549846126], [27.0, 1.2394585504571793], [28.0, 0.4606172892979678], [29.0, -0.46954917473545704], [30.0, 1.5575860429103168], [31.0, 0.22949325358314934], [32.0, 0.24357907530320322], [33.0, -1.1534455361565308], [34.0, -1.1629542635335508], [35.0, 1.0850015407209488], [36.0, 0.10841159130596385], [37.0, -0.38908426755958514], [38.0, 1.04365990648531], [39.0, -0.3013418568633721], [40.0, -0.16324591609211947], [41.0, -0.6456365439076405], [42.0, -0.12081570079849155], [43.0, -1.0948061297119192], [44.0, 0.8250340487547674], [45.0, 0.9178549063383242], [46.0, -0.6557454325726957], [47.0, 0.8722724848437794], [48.0, 0.09906979986492567], [49.0, 0.9344502190734737], [50.0, -1.6736697696670377], [51.0, 0.3429311882464428], [52.0, -0.4953812767671372], [53.0, -0.6002075016445381], [54.0, 0.9324440349903774], [55.0, -0.06280112153108827], [56.0, -0.9028370173602782], [57.0, -0.150942861946373], [58.0, 1.4556983438984312], [59.0, -0.44102015169163067], [60.0, 1.381558659380637], [61.0, -0.3937577986983526], [62.0, 0.944573463202764], [63.0, -1.342273878628233], [64.0, 0.5389662772253558], [65.0, -0.5995930503464817], [66.0, 0.23412574653653442], [67.0, 0.21404370033795617], [68.0, 0.17962515804542406], [69.0, 0.26103749663225967], [70.0, -0.7958351098777461], [71.0, 1.1617906141681424], [72.0, 0.3112827285750141], [73.0, -0.6229685106345937], [74.0, 0.5723505558451698], [75.0, 0.21301146643535018], [76.0, 1.5526835322427384], [77.0, -0.4857048036603957], [78.0, -1.98365499500087], [79.0, -0.5212716314597754], [80.0, 0.6613065567457377], [81.0, 0.9708274018698078], [82.0, -1.7937818234848122], [83.0, 0.1961419368888258], [84.0, 1.4228673297323873], [85.0, -2.4964348460324186], [86.0, -1.2521321336457933], [87.0, -1.3237879640102823], [88.0, 0.4835996484477941], [89.0, 0.8499974398283441], [90.0, 0.4569582352220257], [91.0, 0.48751351033155005], [92.0, 1.1125823884708306], [93.0, 0.12961402987219137], [94.0, -0.952614702581992], [95.0, 0.03958105170238984], [96.0, -0.2436229590856461], [97.0, 0.9008390632350846], [98.0, 0.3472711295584981], [99.0, -0.2172444645758781]]}, \"id\": \"el47754426787152\"});\n",
        "            })\n",
        "         });\n",
        "}\n",
        "</script>"
       ],
       "metadata": {},
       "output_type": "display_data",
       "png": "[encoded data removed]",
       "text": [
        "<matplotlib.figure.Figure at 0x107db6950>"
       ]
      }
     ],
     "prompt_number": 8
    },
    {
     "cell_type": "code",
     "collapsed": false,
     "input": [
      "mpld3.save_html(f, './mpld3_figure.html')"
     ],
     "language": "python",
     "metadata": {},
     "outputs": [],
     "prompt_number": 9
    },
    {
     "cell_type": "markdown",
     "metadata": {},
     "source": [
      "+ [open in a new tab](./mpld3_figure.html)\n",
      "\n",
      "+ [some more examples](http://mpld3.github.io/examples/index.html) from the mpld3 gallery\n",
      "\n",
      "<hr size = 6>"
     ]
    },
    {
     "cell_type": "heading",
     "level": 2,
     "metadata": {},
     "source": [
      "BOKEH"
     ]
    },
    {
     "cell_type": "markdown",
     "metadata": {},
     "source": [
      "[bokeh](http://bokeh.pydata.org/) is a library developed by [continuum analytics](http://continuum.io)  \n",
      "\n",
      "from their website:\n",
      "\n",
      "*Bokeh is a Python interactive visualization library that targets modern web browsers for presentation. Its goal is to provide elegant, concise construction of novel graphics in the style of D3.js, but also deliver this capability with high-performance interactivity over very large or streaming datasets. Bokeh can help anyone who would like to quickly and easily create interactive plots, dashboards, and data applications.*"
     ]
    },
    {
     "cell_type": "code",
     "collapsed": false,
     "input": [
      "from bokeh import plotting as bplt"
     ],
     "language": "python",
     "metadata": {},
     "outputs": [],
     "prompt_number": 10
    },
    {
     "cell_type": "code",
     "collapsed": false,
     "input": [
      "bokehplot = './bokeh_plot.html'"
     ],
     "language": "python",
     "metadata": {},
     "outputs": [],
     "prompt_number": 11
    },
    {
     "cell_type": "code",
     "collapsed": false,
     "input": [
      "if os.path.exists(bokehplot): \n",
      "    os.remove(bokehplot)"
     ],
     "language": "python",
     "metadata": {},
     "outputs": [],
     "prompt_number": 12
    },
    {
     "cell_type": "code",
     "collapsed": false,
     "input": [
      "bplt.output_file(bokehplot, title='bokeh plot', autosave=False)"
     ],
     "language": "python",
     "metadata": {},
     "outputs": [],
     "prompt_number": 13
    },
    {
     "cell_type": "code",
     "collapsed": false,
     "input": [
      "bplt.figure()\n",
      "b = bplt.line(xdf.index, xdf['A'])\n",
      "bplt.show()"
     ],
     "language": "python",
     "metadata": {},
     "outputs": [],
     "prompt_number": 14
    },
    {
     "cell_type": "markdown",
     "metadata": {},
     "source": [
      "To know more about bokeh: \n",
      "    \n",
      "[http://bokeh.pydata.org/](http://bokeh.pydata.org/)"
     ]
    },
    {
     "cell_type": "markdown",
     "metadata": {},
     "source": [
      "if you use the [anaconda python distribution](), all the bokeh examples are saved in \n",
      "\n",
      "    ${anaconda}/Examples/bokeh "
     ]
    },
    {
     "cell_type": "markdown",
     "metadata": {},
     "source": [
      "<hr size=6> "
     ]
    },
    {
     "cell_type": "heading",
     "level": 2,
     "metadata": {},
     "source": [
      "BEARCART"
     ]
    },
    {
     "cell_type": "markdown",
     "metadata": {},
     "source": [
      "[bearcart](https://github.com/wrobstory/bearcart) has been developed by [Rob Story](http://wrobstory.github.io/) and provides an interface to the \n",
      "[rickshaw](http://code.shutterstock.com/rickshaw/) JavaScript library. It does one thing really, which is to plot **time series**, but it does it (amazingly) well !\n",
      "<br>\n",
      "<br>"
     ]
    },
    {
     "cell_type": "code",
     "collapsed": false,
     "input": [
      "import bearcart \n",
      "from datetime import datetime"
     ],
     "language": "python",
     "metadata": {},
     "outputs": [],
     "prompt_number": 15
    },
    {
     "cell_type": "code",
     "collapsed": false,
     "input": [
      "xdf = pd.DataFrame(np.cumsum(np.random.normal(size=(365,3)), axis=0), columns=['A','B','C'], \\\n",
      "                   index=pd.date_range(datetime(1998,1,1,0,0,0), periods=365))"
     ],
     "language": "python",
     "metadata": {},
     "outputs": [],
     "prompt_number": 16
    },
    {
     "cell_type": "code",
     "collapsed": false,
     "input": [
      "vis = bearcart.Chart(xdf, height=500, width=750, colors={'A':'#FF0000', 'B':'#0066FF', 'C':'#33CC33'})"
     ],
     "language": "python",
     "metadata": {},
     "outputs": [],
     "prompt_number": 17
    },
    {
     "cell_type": "code",
     "collapsed": false,
     "input": [
      "html_path = r'bearcart.html'\n",
      "data_path = r'data.json'\n",
      "js_path = r'rickshaw.min.js'\n",
      "css_path = r'rickshaw.min.css'"
     ],
     "language": "python",
     "metadata": {},
     "outputs": [],
     "prompt_number": 18
    },
    {
     "cell_type": "code",
     "collapsed": false,
     "input": [
      "vis.create_chart(html_path=html_path, data_path=data_path, js_path=js_path, css_path=css_path)"
     ],
     "language": "python",
     "metadata": {},
     "outputs": [],
     "prompt_number": 19
    },
    {
     "cell_type": "markdown",
     "metadata": {},
     "source": [
      "Open the url [here](./bearcart.html)"
     ]
    },
    {
     "cell_type": "markdown",
     "metadata": {},
     "source": [
      "<hr size = 6>"
     ]
    },
    {
     "cell_type": "heading",
     "level": 2,
     "metadata": {},
     "source": [
      "FOLIUM"
     ]
    },
    {
     "cell_type": "markdown",
     "metadata": {},
     "source": [
      "[folium](https://github.com/wrobstory/folium)  has been also been developed by [Rob Story](http://wrobstory.github.io/) to provide an interface to the [leaflet.js](http://leafletjs.com/) JavaScript mapping library"
     ]
    },
    {
     "cell_type": "code",
     "collapsed": false,
     "input": [
      "import folium"
     ],
     "language": "python",
     "metadata": {},
     "outputs": [],
     "prompt_number": 20
    },
    {
     "cell_type": "code",
     "collapsed": false,
     "input": [
      "x = np.random.randn(100)\n",
      "\n",
      "fout = './figure.png'\n",
      "res = 80\n",
      "w, h = 4, 2\n",
      "\n",
      "f, ax = plt.subplots(figsize=(w, h))\n",
      "ax.fill_between(np.arange(len(x)), 0, x, where=(x>=0), color='r', interpolate=True)\n",
      "ax.fill_between(np.arange(len(x)), 0, x, where=(x<0), color='b', interpolate=True)\n",
      "ax.grid(color='.8')\n",
      "f.savefig('./figure.png', dpi = res)\n",
      "\n",
      "textpop = \"\"\"<div align='center'> \\\n",
      "<img src='{}' alt='imaginary temperature anomaly' width='{}' height='{}'> </div>\"\"\".format(fout, w*res, h*res)"
     ],
     "language": "python",
     "metadata": {},
     "outputs": [
      {
       "html": [
        "\n",
        "\n",
        "<style>\n",
        "\n",
        "</style>\n",
        "\n",
        "<div id=\"fig_el477544455399845697153391\"></div>\n",
        "<script>\n",
        "function mpld3_load_lib(url, callback){\n",
        "  var s = document.createElement('script');\n",
        "  s.src = url;\n",
        "  s.async = true;\n",
        "  s.onreadystatechange = s.onload = callback;\n",
        "  s.onerror = function(){console.warn(\"failed to load library \" + url);};\n",
        "  document.getElementsByTagName(\"head\")[0].appendChild(s);\n",
        "}\n",
        "\n",
        "if(typeof(mpld3) !== \"undefined\" && mpld3._mpld3IsLoaded){\n",
        "   // already loaded: just create the figure\n",
        "   !function(mpld3){\n",
        "       \n",
        "       mpld3.draw_figure(\"fig_el477544455399845697153391\", {\"axes\": [{\"xlim\": [0.0, 100.0], \"yscale\": \"linear\", \"axesbg\": \"#FFFFFF\", \"texts\": [], \"zoomable\": true, \"images\": [], \"xdomain\": [0.0, 100.0], \"ylim\": [-3.0, 3.0], \"paths\": [], \"sharey\": [], \"sharex\": [], \"axesbgalpha\": null, \"axes\": [{\"scale\": \"linear\", \"tickformat\": null, \"grid\": {\"color\": \"#CCCCCC\", \"alpha\": 1.0, \"dasharray\": \"2,2\", \"gridOn\": true}, \"fontsize\": 10.0, \"position\": \"bottom\", \"nticks\": 6, \"tickvalues\": null}, {\"scale\": \"linear\", \"tickformat\": null, \"grid\": {\"color\": \"#CCCCCC\", \"alpha\": 1.0, \"dasharray\": \"2,2\", \"gridOn\": true}, \"fontsize\": 10.0, \"position\": \"left\", \"nticks\": 7, \"tickvalues\": null}], \"lines\": [], \"markers\": [], \"id\": \"el47754445152464\", \"ydomain\": [-3.0, 3.0], \"collections\": [{\"paths\": [[[[0.0, 0.0], [0.0, 0.0], [1.0, 0.0], [1.5112484947000242, 0.0], [1.0, 1.4608320964528825], [0.0, 1.1365699411314059]], [\"M\", \"L\", \"L\", \"L\", \"L\", \"L\", \"Z\"]], [[[2.9914154951096283, 0.0], [3.0, 0.0], [3.008237926402064, 0.0], [3.0, 0.012092495043652486]], [\"M\", \"L\", \"L\", \"L\", \"Z\"]], [[[5.577967436959487, 0.0], [6.0, 0.0], [6.463255320324954, 0.0], [6.0, 0.3645770596982042]], [\"M\", \"L\", \"L\", \"L\", \"Z\"]], [[[8.651634064197989, 0.0], [9.0, 0.0], [10.0, 0.0], [11.0, 0.0], [12.0, 0.0], [12.584315774004045, 0.0], [12.0, 1.534661894281405], [11.0, 0.9153346284513793], [10.0, 1.5138569426364843], [9.0, 0.5008929877307108]], [\"M\", \"L\", \"L\", \"L\", \"L\", \"L\", \"L\", \"L\", \"L\", \"L\", \"Z\"]], [[[16.728726287450954, 0.0], [17.0, 0.0], [18.0, 0.0], [19.0, 0.0], [20.0, 0.0], [21.0, 0.0], [22.0, 0.0], [22.896782213144153, 0.0], [22.0, 0.40329996963784703], [21.0, 0.9910061854438497], [20.0, 0.6967469842162186], [19.0, 0.2796264098829781], [18.0, 0.8396710663622197], [17.0, 0.3019186997772811]], [\"M\", \"L\", \"L\", \"L\", \"L\", \"L\", \"L\", \"L\", \"L\", \"L\", \"L\", \"L\", \"L\", \"L\", \"Z\"]], [[[23.06799846018861, 0.0], [24.0, 0.0], [25.0, 0.0], [25.356366016059027, 0.0], [25.0, 0.6218299752930381], [24.0, 0.6362287613881501]], [\"M\", \"L\", \"L\", \"L\", \"L\", \"L\", \"Z\"]], [[[26.605293671798265, 0.0], [27.0, 0.0], [27.556412941842368, 0.0], [27.0, 0.7323560845467788]], [\"M\", \"L\", \"L\", \"L\", \"Z\"]], [[[28.475697739908846, 0.0], [29.0, 0.0], [30.0, 0.0], [31.0, 0.0], [32.0, 0.0], [33.0, 0.0], [34.0, 0.0], [35.0, 0.0], [36.0, 0.0], [36.52592342229585, 0.0], [36.0, 0.885287083279665], [35.0, 0.10785628722450484], [34.0, 1.4089458414226805], [33.0, 0.010704437609560613], [32.0, 1.9698118718990227], [31.0, 0.8561124221632986], [30.0, 1.0977151199965192], [29.0, 0.6435089328636038]], [\"M\", \"L\", \"L\", \"L\", \"L\", \"L\", \"L\", \"L\", \"L\", \"L\", \"L\", \"L\", \"L\", \"L\", \"L\", \"L\", \"L\", \"L\", \"Z\"]], [[[38.27143712192072, 0.0], [39.0, 0.0], [39.380211198053985, 0.0], [39.0, 0.8576944875947391]], [\"M\", \"L\", \"L\", \"L\", \"Z\"]], [[[40.49191669842881, 0.0], [41.0, 0.0], [41.52440623403894, 0.0], [41.0, 1.4440917842054541]], [\"M\", \"L\", \"L\", \"L\", \"Z\"]], [[[42.56473163991985, 0.0], [43.0, 0.0], [43.39528348783926, 0.0], [43.0, 1.0094343596573225]], [\"M\", \"L\", \"L\", \"L\", \"Z\"]], [[[44.939085003490334, 0.0], [45.0, 0.0], [45.08427348865802, 0.0], [45.0, 0.10017066485988121]], [\"M\", \"L\", \"L\", \"L\", \"Z\"]], [[[48.58377936753946, 0.0], [49.0, 0.0], [50.0, 0.0], [51.0, 0.0], [52.0, 0.0], [52.271008431788616, 0.0], [52.0, 0.41890090914105493], [51.0, 0.4687007231536796], [50.0, 1.994776216402991], [49.0, 1.7868577610275285]], [\"M\", \"L\", \"L\", \"L\", \"L\", \"L\", \"L\", \"L\", \"L\", \"L\", \"Z\"]], [[[54.307968219710965, 0.0], [55.0, 0.0], [56.0, 0.0], [56.57972381079273, 0.0], [56.0, 0.7627577653695712], [55.0, 1.1781835201978885]], [\"M\", \"L\", \"L\", \"L\", \"L\", \"L\", \"Z\"]], [[[59.58153448060981, 0.0], [60.0, 0.0], [61.0, 0.0], [62.0, 0.0], [62.392101859651255, 0.0], [62.0, 0.5845759522256866], [61.0, 0.37694477504773166], [60.0, 0.4504542864759366]], [\"M\", \"L\", \"L\", \"L\", \"L\", \"L\", \"L\", \"L\", \"Z\"]], [[[70.5915423882731, 0.0], [71.0, 0.0], [71.08224558956707, 0.0], [71.0, 0.1830662736217592]], [\"M\", \"L\", \"L\", \"L\", \"Z\"]], [[[72.82988528837906, 0.0], [73.0, 0.0], [74.0, 0.0], [75.0, 0.0], [75.2592218016839, 0.0], [75.0, 0.37337440850821013], [74.0, 0.4866489828616556], [73.0, 0.41874150636660235]], [\"M\", \"L\", \"L\", \"L\", \"L\", \"L\", \"L\", \"L\", \"Z\"]], [[[76.69903079875911, 0.0], [77.0, 0.0], [77.48328887681282, 0.0], [77.0, 0.45939573601962436]], [\"M\", \"L\", \"L\", \"L\", \"Z\"]], [[[78.77178645116608, 0.0], [79.0, 0.0], [80.0, 0.0], [80.70127637638102, 0.0], [80.0, 0.995122080712929], [79.0, 0.14523531973766352]], [\"M\", \"L\", \"L\", \"L\", \"L\", \"L\", \"Z\"]], [[[82.59162601589256, 0.0], [83.0, 0.0], [83.67010644749824, 0.0], [83.0, 0.5473272669744088]], [\"M\", \"L\", \"L\", \"L\", \"Z\"]], [[[85.42644768314966, 0.0], [86.0, 0.0], [86.91081553044022, 0.0], [86.0, 1.2065603697154652]], [\"M\", \"L\", \"L\", \"L\", \"Z\"]], [[[90.61461362688905, 0.0], [91.0, 0.0], [92.0, 0.0], [93.0, 0.0], [93.83947307481294, 0.0], [93.0, 0.7943265893414964], [92.0, 1.9097875583067299], [91.0, 0.888307790609739]], [\"M\", \"L\", \"L\", \"L\", \"L\", \"L\", \"L\", \"L\", \"Z\"]], [[[95.67822913719304, 0.0], [96.0, 0.0], [96.16449900418418, 0.0], [96.0, 0.4387649018511559]], [\"M\", \"L\", \"L\", \"L\", \"Z\"]], [[[97.99816784267925, 0.0], [98.0, 0.0], [99.0, 0.0], [99.0, 0.0], [99.0, 2.0151938882725426], [98.0, 0.004090484640243336]], [\"M\", \"L\", \"L\", \"L\", \"L\", \"L\", \"Z\"]]], \"edgecolors\": [\"#FF0000\"], \"edgewidths\": [1.0], \"offsets\": \"data01\", \"yindex\": 1, \"id\": \"el47754445540048\", \"pathtransforms\": [], \"pathcoordinates\": \"data\", \"offsetcoordinates\": \"display\", \"zorder\": 1, \"xindex\": 0, \"alphas\": [null], \"facecolors\": [\"#FF0000\"]}, {\"paths\": [[[[1.5112484947000242, 0.0], [2.0, 0.0], [2.9914154951096283, 0.0], [2.0, -1.3965496104801183]], [\"M\", \"L\", \"L\", \"L\", \"Z\"]], [[[3.008237926402064, 0.0], [4.0, 0.0], [5.0, 0.0], [5.577967436959487, 0.0], [5.0, -0.4992829634991214], [4.0, -1.4558127099145115]], [\"M\", \"L\", \"L\", \"L\", \"L\", \"L\", \"Z\"]], [[[6.463255320324954, 0.0], [7.0, 0.0], [8.0, 0.0], [8.651634064197989, 0.0], [8.0, -0.936942736871781], [7.0, -0.4224124117718027]], [\"M\", \"L\", \"L\", \"L\", \"L\", \"L\", \"Z\"]], [[[12.584315774004045, 0.0], [13.0, 0.0], [14.0, 0.0], [15.0, 0.0], [16.0, 0.0], [16.728726287450954, 0.0], [16.0, -0.8110483361373916], [15.0, -0.5301080952800835], [14.0, -0.3428136784666813], [13.0, -1.0917636833905426]], [\"M\", \"L\", \"L\", \"L\", \"L\", \"L\", \"L\", \"L\", \"L\", \"L\", \"Z\"]], [[[22.896782213144153, 0.0], [23.0, 0.0], [23.06799846018861, 0.0], [23.0, -0.04641899637939958]], [\"M\", \"L\", \"L\", \"L\", \"Z\"]], [[[25.356366016059027, 0.0], [26.0, 0.0], [26.605293671798265, 0.0], [26.0, -1.1230894257478332]], [\"M\", \"L\", \"L\", \"L\", \"Z\"]], [[[27.556412941842368, 0.0], [28.0, 0.0], [28.475697739908846, 0.0], [28.0, -0.5838535674462825]], [\"M\", \"L\", \"L\", \"L\", \"Z\"]], [[[36.52592342229585, 0.0], [37.0, 0.0], [38.0, 0.0], [38.27143712192072, 0.0], [38.0, -0.3195470565474573], [37.0, -0.7980132713899574]], [\"M\", \"L\", \"L\", \"L\", \"L\", \"L\", \"Z\"]], [[[39.380211198053985, 0.0], [40.0, 0.0], [40.49191669842881, 0.0], [40.0, -1.3981425103280676]], [\"M\", \"L\", \"L\", \"L\", \"Z\"]], [[[41.52440623403894, 0.0], [42.0, 0.0], [42.56473163991985, 0.0], [42.0, -1.3096736946736756]], [\"M\", \"L\", \"L\", \"L\", \"Z\"]], [[[43.39528348783926, 0.0], [44.0, 0.0], [44.939085003490334, 0.0], [44.0, -1.5442628999352888]], [\"M\", \"L\", \"L\", \"L\", \"Z\"]], [[[45.08427348865802, 0.0], [46.0, 0.0], [47.0, 0.0], [48.0, 0.0], [48.58377936753946, 0.0], [48.0, -2.506196503159897], [47.0, -0.870949683361539], [46.0, -1.0884672621443146]], [\"M\", \"L\", \"L\", \"L\", \"L\", \"L\", \"L\", \"L\", \"Z\"]], [[[52.271008431788616, 0.0], [53.0, 0.0], [54.0, 0.0], [54.307968219710965, 0.0], [54.0, -0.5243156333898402], [53.0, -1.126810810514199]], [\"M\", \"L\", \"L\", \"L\", \"L\", \"L\", \"Z\"]], [[[56.57972381079273, 0.0], [57.0, 0.0], [58.0, 0.0], [59.0, 0.0], [59.58153448060981, 0.0], [59.0, -0.6259887311766547], [58.0, -1.0453549014455872], [57.0, -0.552968363468493]], [\"M\", \"L\", \"L\", \"L\", \"L\", \"L\", \"L\", \"L\", \"Z\"]], [[[62.392101859651255, 0.0], [63.0, 0.0], [64.0, 0.0], [65.0, 0.0], [66.0, 0.0], [67.0, 0.0], [68.0, 0.0], [69.0, 0.0], [70.0, 0.0], [70.5915423882731, 0.0], [70.0, -0.26512288570809467], [69.0, -0.7339462170463271], [68.0, -0.9911232989224084], [67.0, -0.4835004643382084], [66.0, -1.5408345361886173], [65.0, -1.1599721643949465], [64.0, -0.18430140293354363], [63.0, -0.9063018333212274]], [\"M\", \"L\", \"L\", \"L\", \"L\", \"L\", \"L\", \"L\", \"L\", \"L\", \"L\", \"L\", \"L\", \"L\", \"L\", \"L\", \"L\", \"L\", \"Z\"]], [[[71.08224558956707, 0.0], [72.0, 0.0], [72.82988528837906, 0.0], [72.0, -2.04278285197154]], [\"M\", \"L\", \"L\", \"L\", \"Z\"]], [[[75.2592218016839, 0.0], [76.0, 0.0], [76.69903079875911, 0.0], [76.0, -1.0669921273416325]], [\"M\", \"L\", \"L\", \"L\", \"Z\"]], [[[77.48328887681282, 0.0], [78.0, 0.0], [78.77178645116608, 0.0], [78.0, -0.4911656322643528]], [\"M\", \"L\", \"L\", \"L\", \"Z\"]], [[[80.70127637638102, 0.0], [81.0, 0.0], [82.0, 0.0], [82.59162601589256, 0.0], [82.0, -0.7929326131221827], [81.0, -0.4238934661222753]], [\"M\", \"L\", \"L\", \"L\", \"L\", \"L\", \"Z\"]], [[[83.67010644749824, 0.0], [84.0, 0.0], [85.0, 0.0], [85.42644768314966, 0.0], [85.0, -0.897101901829843], [84.0, -0.269449334739816]], [\"M\", \"L\", \"L\", \"L\", \"L\", \"L\", \"Z\"]], [[[86.91081553044022, 0.0], [87.0, 0.0], [88.0, 0.0], [89.0, 0.0], [90.0, 0.0], [90.61461362688905, 0.0], [90.0, -1.4166719714899587], [89.0, -0.4648730453947434], [88.0, -0.3635271245128965], [87.0, -0.11814296415535025]], [\"M\", \"L\", \"L\", \"L\", \"L\", \"L\", \"L\", \"L\", \"L\", \"L\", \"Z\"]], [[[93.83947307481294, 0.0], [94.0, 0.0], [95.0, 0.0], [95.67822913719304, 0.0], [95.0, -0.9248293590574125], [94.0, -0.15189385914458492]], [\"M\", \"L\", \"L\", \"L\", \"L\", \"L\", \"Z\"]], [[[96.16449900418418, 0.0], [97.0, 0.0], [97.99816784267925, 0.0], [97.0, -2.2285150858129943]], [\"M\", \"L\", \"L\", \"L\", \"Z\"]]], \"edgecolors\": [\"#0000FF\"], \"edgewidths\": [1.0], \"offsets\": \"data01\", \"yindex\": 0, \"id\": \"el47754465330640\", \"pathtransforms\": [], \"pathcoordinates\": \"data\", \"offsetcoordinates\": \"display\", \"zorder\": 1, \"xindex\": 0, \"alphas\": [null], \"facecolors\": [\"#0000FF\"]}], \"xscale\": \"linear\", \"bbox\": [0.125, 0.125, 0.77500000000000002, 0.77500000000000002]}], \"height\": 160.0, \"width\": 320.0, \"plugins\": [{\"type\": \"reset\"}, {\"enabled\": false, \"button\": true, \"type\": \"zoom\"}, {\"enabled\": false, \"button\": true, \"type\": \"boxzoom\"}], \"data\": {\"data01\": [[0.0, 0.0]]}, \"id\": \"el47754445539984\"});\n",
        "   }(mpld3);\n",
        "}else if(typeof define === \"function\" && define.amd){\n",
        "   // require.js is available: use it to load d3/mpld3\n",
        "   require.config({paths: {d3: \"https://mpld3.github.io/js/d3.v3.min\"}});\n",
        "   require([\"d3\"], function(d3){\n",
        "      window.d3 = d3;\n",
        "      mpld3_load_lib(\"https://mpld3.github.io/js/mpld3.v0.2.js\", function(){\n",
        "         \n",
        "         mpld3.draw_figure(\"fig_el477544455399845697153391\", {\"axes\": [{\"xlim\": [0.0, 100.0], \"yscale\": \"linear\", \"axesbg\": \"#FFFFFF\", \"texts\": [], \"zoomable\": true, \"images\": [], \"xdomain\": [0.0, 100.0], \"ylim\": [-3.0, 3.0], \"paths\": [], \"sharey\": [], \"sharex\": [], \"axesbgalpha\": null, \"axes\": [{\"scale\": \"linear\", \"tickformat\": null, \"grid\": {\"color\": \"#CCCCCC\", \"alpha\": 1.0, \"dasharray\": \"2,2\", \"gridOn\": true}, \"fontsize\": 10.0, \"position\": \"bottom\", \"nticks\": 6, \"tickvalues\": null}, {\"scale\": \"linear\", \"tickformat\": null, \"grid\": {\"color\": \"#CCCCCC\", \"alpha\": 1.0, \"dasharray\": \"2,2\", \"gridOn\": true}, \"fontsize\": 10.0, \"position\": \"left\", \"nticks\": 7, \"tickvalues\": null}], \"lines\": [], \"markers\": [], \"id\": \"el47754445152464\", \"ydomain\": [-3.0, 3.0], \"collections\": [{\"paths\": [[[[0.0, 0.0], [0.0, 0.0], [1.0, 0.0], [1.5112484947000242, 0.0], [1.0, 1.4608320964528825], [0.0, 1.1365699411314059]], [\"M\", \"L\", \"L\", \"L\", \"L\", \"L\", \"Z\"]], [[[2.9914154951096283, 0.0], [3.0, 0.0], [3.008237926402064, 0.0], [3.0, 0.012092495043652486]], [\"M\", \"L\", \"L\", \"L\", \"Z\"]], [[[5.577967436959487, 0.0], [6.0, 0.0], [6.463255320324954, 0.0], [6.0, 0.3645770596982042]], [\"M\", \"L\", \"L\", \"L\", \"Z\"]], [[[8.651634064197989, 0.0], [9.0, 0.0], [10.0, 0.0], [11.0, 0.0], [12.0, 0.0], [12.584315774004045, 0.0], [12.0, 1.534661894281405], [11.0, 0.9153346284513793], [10.0, 1.5138569426364843], [9.0, 0.5008929877307108]], [\"M\", \"L\", \"L\", \"L\", \"L\", \"L\", \"L\", \"L\", \"L\", \"L\", \"Z\"]], [[[16.728726287450954, 0.0], [17.0, 0.0], [18.0, 0.0], [19.0, 0.0], [20.0, 0.0], [21.0, 0.0], [22.0, 0.0], [22.896782213144153, 0.0], [22.0, 0.40329996963784703], [21.0, 0.9910061854438497], [20.0, 0.6967469842162186], [19.0, 0.2796264098829781], [18.0, 0.8396710663622197], [17.0, 0.3019186997772811]], [\"M\", \"L\", \"L\", \"L\", \"L\", \"L\", \"L\", \"L\", \"L\", \"L\", \"L\", \"L\", \"L\", \"L\", \"Z\"]], [[[23.06799846018861, 0.0], [24.0, 0.0], [25.0, 0.0], [25.356366016059027, 0.0], [25.0, 0.6218299752930381], [24.0, 0.6362287613881501]], [\"M\", \"L\", \"L\", \"L\", \"L\", \"L\", \"Z\"]], [[[26.605293671798265, 0.0], [27.0, 0.0], [27.556412941842368, 0.0], [27.0, 0.7323560845467788]], [\"M\", \"L\", \"L\", \"L\", \"Z\"]], [[[28.475697739908846, 0.0], [29.0, 0.0], [30.0, 0.0], [31.0, 0.0], [32.0, 0.0], [33.0, 0.0], [34.0, 0.0], [35.0, 0.0], [36.0, 0.0], [36.52592342229585, 0.0], [36.0, 0.885287083279665], [35.0, 0.10785628722450484], [34.0, 1.4089458414226805], [33.0, 0.010704437609560613], [32.0, 1.9698118718990227], [31.0, 0.8561124221632986], [30.0, 1.0977151199965192], [29.0, 0.6435089328636038]], [\"M\", \"L\", \"L\", \"L\", \"L\", \"L\", \"L\", \"L\", \"L\", \"L\", \"L\", \"L\", \"L\", \"L\", \"L\", \"L\", \"L\", \"L\", \"Z\"]], [[[38.27143712192072, 0.0], [39.0, 0.0], [39.380211198053985, 0.0], [39.0, 0.8576944875947391]], [\"M\", \"L\", \"L\", \"L\", \"Z\"]], [[[40.49191669842881, 0.0], [41.0, 0.0], [41.52440623403894, 0.0], [41.0, 1.4440917842054541]], [\"M\", \"L\", \"L\", \"L\", \"Z\"]], [[[42.56473163991985, 0.0], [43.0, 0.0], [43.39528348783926, 0.0], [43.0, 1.0094343596573225]], [\"M\", \"L\", \"L\", \"L\", \"Z\"]], [[[44.939085003490334, 0.0], [45.0, 0.0], [45.08427348865802, 0.0], [45.0, 0.10017066485988121]], [\"M\", \"L\", \"L\", \"L\", \"Z\"]], [[[48.58377936753946, 0.0], [49.0, 0.0], [50.0, 0.0], [51.0, 0.0], [52.0, 0.0], [52.271008431788616, 0.0], [52.0, 0.41890090914105493], [51.0, 0.4687007231536796], [50.0, 1.994776216402991], [49.0, 1.7868577610275285]], [\"M\", \"L\", \"L\", \"L\", \"L\", \"L\", \"L\", \"L\", \"L\", \"L\", \"Z\"]], [[[54.307968219710965, 0.0], [55.0, 0.0], [56.0, 0.0], [56.57972381079273, 0.0], [56.0, 0.7627577653695712], [55.0, 1.1781835201978885]], [\"M\", \"L\", \"L\", \"L\", \"L\", \"L\", \"Z\"]], [[[59.58153448060981, 0.0], [60.0, 0.0], [61.0, 0.0], [62.0, 0.0], [62.392101859651255, 0.0], [62.0, 0.5845759522256866], [61.0, 0.37694477504773166], [60.0, 0.4504542864759366]], [\"M\", \"L\", \"L\", \"L\", \"L\", \"L\", \"L\", \"L\", \"Z\"]], [[[70.5915423882731, 0.0], [71.0, 0.0], [71.08224558956707, 0.0], [71.0, 0.1830662736217592]], [\"M\", \"L\", \"L\", \"L\", \"Z\"]], [[[72.82988528837906, 0.0], [73.0, 0.0], [74.0, 0.0], [75.0, 0.0], [75.2592218016839, 0.0], [75.0, 0.37337440850821013], [74.0, 0.4866489828616556], [73.0, 0.41874150636660235]], [\"M\", \"L\", \"L\", \"L\", \"L\", \"L\", \"L\", \"L\", \"Z\"]], [[[76.69903079875911, 0.0], [77.0, 0.0], [77.48328887681282, 0.0], [77.0, 0.45939573601962436]], [\"M\", \"L\", \"L\", \"L\", \"Z\"]], [[[78.77178645116608, 0.0], [79.0, 0.0], [80.0, 0.0], [80.70127637638102, 0.0], [80.0, 0.995122080712929], [79.0, 0.14523531973766352]], [\"M\", \"L\", \"L\", \"L\", \"L\", \"L\", \"Z\"]], [[[82.59162601589256, 0.0], [83.0, 0.0], [83.67010644749824, 0.0], [83.0, 0.5473272669744088]], [\"M\", \"L\", \"L\", \"L\", \"Z\"]], [[[85.42644768314966, 0.0], [86.0, 0.0], [86.91081553044022, 0.0], [86.0, 1.2065603697154652]], [\"M\", \"L\", \"L\", \"L\", \"Z\"]], [[[90.61461362688905, 0.0], [91.0, 0.0], [92.0, 0.0], [93.0, 0.0], [93.83947307481294, 0.0], [93.0, 0.7943265893414964], [92.0, 1.9097875583067299], [91.0, 0.888307790609739]], [\"M\", \"L\", \"L\", \"L\", \"L\", \"L\", \"L\", \"L\", \"Z\"]], [[[95.67822913719304, 0.0], [96.0, 0.0], [96.16449900418418, 0.0], [96.0, 0.4387649018511559]], [\"M\", \"L\", \"L\", \"L\", \"Z\"]], [[[97.99816784267925, 0.0], [98.0, 0.0], [99.0, 0.0], [99.0, 0.0], [99.0, 2.0151938882725426], [98.0, 0.004090484640243336]], [\"M\", \"L\", \"L\", \"L\", \"L\", \"L\", \"Z\"]]], \"edgecolors\": [\"#FF0000\"], \"edgewidths\": [1.0], \"offsets\": \"data01\", \"yindex\": 1, \"id\": \"el47754445540048\", \"pathtransforms\": [], \"pathcoordinates\": \"data\", \"offsetcoordinates\": \"display\", \"zorder\": 1, \"xindex\": 0, \"alphas\": [null], \"facecolors\": [\"#FF0000\"]}, {\"paths\": [[[[1.5112484947000242, 0.0], [2.0, 0.0], [2.9914154951096283, 0.0], [2.0, -1.3965496104801183]], [\"M\", \"L\", \"L\", \"L\", \"Z\"]], [[[3.008237926402064, 0.0], [4.0, 0.0], [5.0, 0.0], [5.577967436959487, 0.0], [5.0, -0.4992829634991214], [4.0, -1.4558127099145115]], [\"M\", \"L\", \"L\", \"L\", \"L\", \"L\", \"Z\"]], [[[6.463255320324954, 0.0], [7.0, 0.0], [8.0, 0.0], [8.651634064197989, 0.0], [8.0, -0.936942736871781], [7.0, -0.4224124117718027]], [\"M\", \"L\", \"L\", \"L\", \"L\", \"L\", \"Z\"]], [[[12.584315774004045, 0.0], [13.0, 0.0], [14.0, 0.0], [15.0, 0.0], [16.0, 0.0], [16.728726287450954, 0.0], [16.0, -0.8110483361373916], [15.0, -0.5301080952800835], [14.0, -0.3428136784666813], [13.0, -1.0917636833905426]], [\"M\", \"L\", \"L\", \"L\", \"L\", \"L\", \"L\", \"L\", \"L\", \"L\", \"Z\"]], [[[22.896782213144153, 0.0], [23.0, 0.0], [23.06799846018861, 0.0], [23.0, -0.04641899637939958]], [\"M\", \"L\", \"L\", \"L\", \"Z\"]], [[[25.356366016059027, 0.0], [26.0, 0.0], [26.605293671798265, 0.0], [26.0, -1.1230894257478332]], [\"M\", \"L\", \"L\", \"L\", \"Z\"]], [[[27.556412941842368, 0.0], [28.0, 0.0], [28.475697739908846, 0.0], [28.0, -0.5838535674462825]], [\"M\", \"L\", \"L\", \"L\", \"Z\"]], [[[36.52592342229585, 0.0], [37.0, 0.0], [38.0, 0.0], [38.27143712192072, 0.0], [38.0, -0.3195470565474573], [37.0, -0.7980132713899574]], [\"M\", \"L\", \"L\", \"L\", \"L\", \"L\", \"Z\"]], [[[39.380211198053985, 0.0], [40.0, 0.0], [40.49191669842881, 0.0], [40.0, -1.3981425103280676]], [\"M\", \"L\", \"L\", \"L\", \"Z\"]], [[[41.52440623403894, 0.0], [42.0, 0.0], [42.56473163991985, 0.0], [42.0, -1.3096736946736756]], [\"M\", \"L\", \"L\", \"L\", \"Z\"]], [[[43.39528348783926, 0.0], [44.0, 0.0], [44.939085003490334, 0.0], [44.0, -1.5442628999352888]], [\"M\", \"L\", \"L\", \"L\", \"Z\"]], [[[45.08427348865802, 0.0], [46.0, 0.0], [47.0, 0.0], [48.0, 0.0], [48.58377936753946, 0.0], [48.0, -2.506196503159897], [47.0, -0.870949683361539], [46.0, -1.0884672621443146]], [\"M\", \"L\", \"L\", \"L\", \"L\", \"L\", \"L\", \"L\", \"Z\"]], [[[52.271008431788616, 0.0], [53.0, 0.0], [54.0, 0.0], [54.307968219710965, 0.0], [54.0, -0.5243156333898402], [53.0, -1.126810810514199]], [\"M\", \"L\", \"L\", \"L\", \"L\", \"L\", \"Z\"]], [[[56.57972381079273, 0.0], [57.0, 0.0], [58.0, 0.0], [59.0, 0.0], [59.58153448060981, 0.0], [59.0, -0.6259887311766547], [58.0, -1.0453549014455872], [57.0, -0.552968363468493]], [\"M\", \"L\", \"L\", \"L\", \"L\", \"L\", \"L\", \"L\", \"Z\"]], [[[62.392101859651255, 0.0], [63.0, 0.0], [64.0, 0.0], [65.0, 0.0], [66.0, 0.0], [67.0, 0.0], [68.0, 0.0], [69.0, 0.0], [70.0, 0.0], [70.5915423882731, 0.0], [70.0, -0.26512288570809467], [69.0, -0.7339462170463271], [68.0, -0.9911232989224084], [67.0, -0.4835004643382084], [66.0, -1.5408345361886173], [65.0, -1.1599721643949465], [64.0, -0.18430140293354363], [63.0, -0.9063018333212274]], [\"M\", \"L\", \"L\", \"L\", \"L\", \"L\", \"L\", \"L\", \"L\", \"L\", \"L\", \"L\", \"L\", \"L\", \"L\", \"L\", \"L\", \"L\", \"Z\"]], [[[71.08224558956707, 0.0], [72.0, 0.0], [72.82988528837906, 0.0], [72.0, -2.04278285197154]], [\"M\", \"L\", \"L\", \"L\", \"Z\"]], [[[75.2592218016839, 0.0], [76.0, 0.0], [76.69903079875911, 0.0], [76.0, -1.0669921273416325]], [\"M\", \"L\", \"L\", \"L\", \"Z\"]], [[[77.48328887681282, 0.0], [78.0, 0.0], [78.77178645116608, 0.0], [78.0, -0.4911656322643528]], [\"M\", \"L\", \"L\", \"L\", \"Z\"]], [[[80.70127637638102, 0.0], [81.0, 0.0], [82.0, 0.0], [82.59162601589256, 0.0], [82.0, -0.7929326131221827], [81.0, -0.4238934661222753]], [\"M\", \"L\", \"L\", \"L\", \"L\", \"L\", \"Z\"]], [[[83.67010644749824, 0.0], [84.0, 0.0], [85.0, 0.0], [85.42644768314966, 0.0], [85.0, -0.897101901829843], [84.0, -0.269449334739816]], [\"M\", \"L\", \"L\", \"L\", \"L\", \"L\", \"Z\"]], [[[86.91081553044022, 0.0], [87.0, 0.0], [88.0, 0.0], [89.0, 0.0], [90.0, 0.0], [90.61461362688905, 0.0], [90.0, -1.4166719714899587], [89.0, -0.4648730453947434], [88.0, -0.3635271245128965], [87.0, -0.11814296415535025]], [\"M\", \"L\", \"L\", \"L\", \"L\", \"L\", \"L\", \"L\", \"L\", \"L\", \"Z\"]], [[[93.83947307481294, 0.0], [94.0, 0.0], [95.0, 0.0], [95.67822913719304, 0.0], [95.0, -0.9248293590574125], [94.0, -0.15189385914458492]], [\"M\", \"L\", \"L\", \"L\", \"L\", \"L\", \"Z\"]], [[[96.16449900418418, 0.0], [97.0, 0.0], [97.99816784267925, 0.0], [97.0, -2.2285150858129943]], [\"M\", \"L\", \"L\", \"L\", \"Z\"]]], \"edgecolors\": [\"#0000FF\"], \"edgewidths\": [1.0], \"offsets\": \"data01\", \"yindex\": 0, \"id\": \"el47754465330640\", \"pathtransforms\": [], \"pathcoordinates\": \"data\", \"offsetcoordinates\": \"display\", \"zorder\": 1, \"xindex\": 0, \"alphas\": [null], \"facecolors\": [\"#0000FF\"]}], \"xscale\": \"linear\", \"bbox\": [0.125, 0.125, 0.77500000000000002, 0.77500000000000002]}], \"height\": 160.0, \"width\": 320.0, \"plugins\": [{\"type\": \"reset\"}, {\"enabled\": false, \"button\": true, \"type\": \"zoom\"}, {\"enabled\": false, \"button\": true, \"type\": \"boxzoom\"}], \"data\": {\"data01\": [[0.0, 0.0]]}, \"id\": \"el47754445539984\"});\n",
        "      });\n",
        "    });\n",
        "}else{\n",
        "    // require.js not available: dynamically load d3 & mpld3\n",
        "    mpld3_load_lib(\"https://mpld3.github.io/js/d3.v3.min.js\", function(){\n",
        "         mpld3_load_lib(\"https://mpld3.github.io/js/mpld3.v0.2.js\", function(){\n",
        "                 \n",
        "                 mpld3.draw_figure(\"fig_el477544455399845697153391\", {\"axes\": [{\"xlim\": [0.0, 100.0], \"yscale\": \"linear\", \"axesbg\": \"#FFFFFF\", \"texts\": [], \"zoomable\": true, \"images\": [], \"xdomain\": [0.0, 100.0], \"ylim\": [-3.0, 3.0], \"paths\": [], \"sharey\": [], \"sharex\": [], \"axesbgalpha\": null, \"axes\": [{\"scale\": \"linear\", \"tickformat\": null, \"grid\": {\"color\": \"#CCCCCC\", \"alpha\": 1.0, \"dasharray\": \"2,2\", \"gridOn\": true}, \"fontsize\": 10.0, \"position\": \"bottom\", \"nticks\": 6, \"tickvalues\": null}, {\"scale\": \"linear\", \"tickformat\": null, \"grid\": {\"color\": \"#CCCCCC\", \"alpha\": 1.0, \"dasharray\": \"2,2\", \"gridOn\": true}, \"fontsize\": 10.0, \"position\": \"left\", \"nticks\": 7, \"tickvalues\": null}], \"lines\": [], \"markers\": [], \"id\": \"el47754445152464\", \"ydomain\": [-3.0, 3.0], \"collections\": [{\"paths\": [[[[0.0, 0.0], [0.0, 0.0], [1.0, 0.0], [1.5112484947000242, 0.0], [1.0, 1.4608320964528825], [0.0, 1.1365699411314059]], [\"M\", \"L\", \"L\", \"L\", \"L\", \"L\", \"Z\"]], [[[2.9914154951096283, 0.0], [3.0, 0.0], [3.008237926402064, 0.0], [3.0, 0.012092495043652486]], [\"M\", \"L\", \"L\", \"L\", \"Z\"]], [[[5.577967436959487, 0.0], [6.0, 0.0], [6.463255320324954, 0.0], [6.0, 0.3645770596982042]], [\"M\", \"L\", \"L\", \"L\", \"Z\"]], [[[8.651634064197989, 0.0], [9.0, 0.0], [10.0, 0.0], [11.0, 0.0], [12.0, 0.0], [12.584315774004045, 0.0], [12.0, 1.534661894281405], [11.0, 0.9153346284513793], [10.0, 1.5138569426364843], [9.0, 0.5008929877307108]], [\"M\", \"L\", \"L\", \"L\", \"L\", \"L\", \"L\", \"L\", \"L\", \"L\", \"Z\"]], [[[16.728726287450954, 0.0], [17.0, 0.0], [18.0, 0.0], [19.0, 0.0], [20.0, 0.0], [21.0, 0.0], [22.0, 0.0], [22.896782213144153, 0.0], [22.0, 0.40329996963784703], [21.0, 0.9910061854438497], [20.0, 0.6967469842162186], [19.0, 0.2796264098829781], [18.0, 0.8396710663622197], [17.0, 0.3019186997772811]], [\"M\", \"L\", \"L\", \"L\", \"L\", \"L\", \"L\", \"L\", \"L\", \"L\", \"L\", \"L\", \"L\", \"L\", \"Z\"]], [[[23.06799846018861, 0.0], [24.0, 0.0], [25.0, 0.0], [25.356366016059027, 0.0], [25.0, 0.6218299752930381], [24.0, 0.6362287613881501]], [\"M\", \"L\", \"L\", \"L\", \"L\", \"L\", \"Z\"]], [[[26.605293671798265, 0.0], [27.0, 0.0], [27.556412941842368, 0.0], [27.0, 0.7323560845467788]], [\"M\", \"L\", \"L\", \"L\", \"Z\"]], [[[28.475697739908846, 0.0], [29.0, 0.0], [30.0, 0.0], [31.0, 0.0], [32.0, 0.0], [33.0, 0.0], [34.0, 0.0], [35.0, 0.0], [36.0, 0.0], [36.52592342229585, 0.0], [36.0, 0.885287083279665], [35.0, 0.10785628722450484], [34.0, 1.4089458414226805], [33.0, 0.010704437609560613], [32.0, 1.9698118718990227], [31.0, 0.8561124221632986], [30.0, 1.0977151199965192], [29.0, 0.6435089328636038]], [\"M\", \"L\", \"L\", \"L\", \"L\", \"L\", \"L\", \"L\", \"L\", \"L\", \"L\", \"L\", \"L\", \"L\", \"L\", \"L\", \"L\", \"L\", \"Z\"]], [[[38.27143712192072, 0.0], [39.0, 0.0], [39.380211198053985, 0.0], [39.0, 0.8576944875947391]], [\"M\", \"L\", \"L\", \"L\", \"Z\"]], [[[40.49191669842881, 0.0], [41.0, 0.0], [41.52440623403894, 0.0], [41.0, 1.4440917842054541]], [\"M\", \"L\", \"L\", \"L\", \"Z\"]], [[[42.56473163991985, 0.0], [43.0, 0.0], [43.39528348783926, 0.0], [43.0, 1.0094343596573225]], [\"M\", \"L\", \"L\", \"L\", \"Z\"]], [[[44.939085003490334, 0.0], [45.0, 0.0], [45.08427348865802, 0.0], [45.0, 0.10017066485988121]], [\"M\", \"L\", \"L\", \"L\", \"Z\"]], [[[48.58377936753946, 0.0], [49.0, 0.0], [50.0, 0.0], [51.0, 0.0], [52.0, 0.0], [52.271008431788616, 0.0], [52.0, 0.41890090914105493], [51.0, 0.4687007231536796], [50.0, 1.994776216402991], [49.0, 1.7868577610275285]], [\"M\", \"L\", \"L\", \"L\", \"L\", \"L\", \"L\", \"L\", \"L\", \"L\", \"Z\"]], [[[54.307968219710965, 0.0], [55.0, 0.0], [56.0, 0.0], [56.57972381079273, 0.0], [56.0, 0.7627577653695712], [55.0, 1.1781835201978885]], [\"M\", \"L\", \"L\", \"L\", \"L\", \"L\", \"Z\"]], [[[59.58153448060981, 0.0], [60.0, 0.0], [61.0, 0.0], [62.0, 0.0], [62.392101859651255, 0.0], [62.0, 0.5845759522256866], [61.0, 0.37694477504773166], [60.0, 0.4504542864759366]], [\"M\", \"L\", \"L\", \"L\", \"L\", \"L\", \"L\", \"L\", \"Z\"]], [[[70.5915423882731, 0.0], [71.0, 0.0], [71.08224558956707, 0.0], [71.0, 0.1830662736217592]], [\"M\", \"L\", \"L\", \"L\", \"Z\"]], [[[72.82988528837906, 0.0], [73.0, 0.0], [74.0, 0.0], [75.0, 0.0], [75.2592218016839, 0.0], [75.0, 0.37337440850821013], [74.0, 0.4866489828616556], [73.0, 0.41874150636660235]], [\"M\", \"L\", \"L\", \"L\", \"L\", \"L\", \"L\", \"L\", \"Z\"]], [[[76.69903079875911, 0.0], [77.0, 0.0], [77.48328887681282, 0.0], [77.0, 0.45939573601962436]], [\"M\", \"L\", \"L\", \"L\", \"Z\"]], [[[78.77178645116608, 0.0], [79.0, 0.0], [80.0, 0.0], [80.70127637638102, 0.0], [80.0, 0.995122080712929], [79.0, 0.14523531973766352]], [\"M\", \"L\", \"L\", \"L\", \"L\", \"L\", \"Z\"]], [[[82.59162601589256, 0.0], [83.0, 0.0], [83.67010644749824, 0.0], [83.0, 0.5473272669744088]], [\"M\", \"L\", \"L\", \"L\", \"Z\"]], [[[85.42644768314966, 0.0], [86.0, 0.0], [86.91081553044022, 0.0], [86.0, 1.2065603697154652]], [\"M\", \"L\", \"L\", \"L\", \"Z\"]], [[[90.61461362688905, 0.0], [91.0, 0.0], [92.0, 0.0], [93.0, 0.0], [93.83947307481294, 0.0], [93.0, 0.7943265893414964], [92.0, 1.9097875583067299], [91.0, 0.888307790609739]], [\"M\", \"L\", \"L\", \"L\", \"L\", \"L\", \"L\", \"L\", \"Z\"]], [[[95.67822913719304, 0.0], [96.0, 0.0], [96.16449900418418, 0.0], [96.0, 0.4387649018511559]], [\"M\", \"L\", \"L\", \"L\", \"Z\"]], [[[97.99816784267925, 0.0], [98.0, 0.0], [99.0, 0.0], [99.0, 0.0], [99.0, 2.0151938882725426], [98.0, 0.004090484640243336]], [\"M\", \"L\", \"L\", \"L\", \"L\", \"L\", \"Z\"]]], \"edgecolors\": [\"#FF0000\"], \"edgewidths\": [1.0], \"offsets\": \"data01\", \"yindex\": 1, \"id\": \"el47754445540048\", \"pathtransforms\": [], \"pathcoordinates\": \"data\", \"offsetcoordinates\": \"display\", \"zorder\": 1, \"xindex\": 0, \"alphas\": [null], \"facecolors\": [\"#FF0000\"]}, {\"paths\": [[[[1.5112484947000242, 0.0], [2.0, 0.0], [2.9914154951096283, 0.0], [2.0, -1.3965496104801183]], [\"M\", \"L\", \"L\", \"L\", \"Z\"]], [[[3.008237926402064, 0.0], [4.0, 0.0], [5.0, 0.0], [5.577967436959487, 0.0], [5.0, -0.4992829634991214], [4.0, -1.4558127099145115]], [\"M\", \"L\", \"L\", \"L\", \"L\", \"L\", \"Z\"]], [[[6.463255320324954, 0.0], [7.0, 0.0], [8.0, 0.0], [8.651634064197989, 0.0], [8.0, -0.936942736871781], [7.0, -0.4224124117718027]], [\"M\", \"L\", \"L\", \"L\", \"L\", \"L\", \"Z\"]], [[[12.584315774004045, 0.0], [13.0, 0.0], [14.0, 0.0], [15.0, 0.0], [16.0, 0.0], [16.728726287450954, 0.0], [16.0, -0.8110483361373916], [15.0, -0.5301080952800835], [14.0, -0.3428136784666813], [13.0, -1.0917636833905426]], [\"M\", \"L\", \"L\", \"L\", \"L\", \"L\", \"L\", \"L\", \"L\", \"L\", \"Z\"]], [[[22.896782213144153, 0.0], [23.0, 0.0], [23.06799846018861, 0.0], [23.0, -0.04641899637939958]], [\"M\", \"L\", \"L\", \"L\", \"Z\"]], [[[25.356366016059027, 0.0], [26.0, 0.0], [26.605293671798265, 0.0], [26.0, -1.1230894257478332]], [\"M\", \"L\", \"L\", \"L\", \"Z\"]], [[[27.556412941842368, 0.0], [28.0, 0.0], [28.475697739908846, 0.0], [28.0, -0.5838535674462825]], [\"M\", \"L\", \"L\", \"L\", \"Z\"]], [[[36.52592342229585, 0.0], [37.0, 0.0], [38.0, 0.0], [38.27143712192072, 0.0], [38.0, -0.3195470565474573], [37.0, -0.7980132713899574]], [\"M\", \"L\", \"L\", \"L\", \"L\", \"L\", \"Z\"]], [[[39.380211198053985, 0.0], [40.0, 0.0], [40.49191669842881, 0.0], [40.0, -1.3981425103280676]], [\"M\", \"L\", \"L\", \"L\", \"Z\"]], [[[41.52440623403894, 0.0], [42.0, 0.0], [42.56473163991985, 0.0], [42.0, -1.3096736946736756]], [\"M\", \"L\", \"L\", \"L\", \"Z\"]], [[[43.39528348783926, 0.0], [44.0, 0.0], [44.939085003490334, 0.0], [44.0, -1.5442628999352888]], [\"M\", \"L\", \"L\", \"L\", \"Z\"]], [[[45.08427348865802, 0.0], [46.0, 0.0], [47.0, 0.0], [48.0, 0.0], [48.58377936753946, 0.0], [48.0, -2.506196503159897], [47.0, -0.870949683361539], [46.0, -1.0884672621443146]], [\"M\", \"L\", \"L\", \"L\", \"L\", \"L\", \"L\", \"L\", \"Z\"]], [[[52.271008431788616, 0.0], [53.0, 0.0], [54.0, 0.0], [54.307968219710965, 0.0], [54.0, -0.5243156333898402], [53.0, -1.126810810514199]], [\"M\", \"L\", \"L\", \"L\", \"L\", \"L\", \"Z\"]], [[[56.57972381079273, 0.0], [57.0, 0.0], [58.0, 0.0], [59.0, 0.0], [59.58153448060981, 0.0], [59.0, -0.6259887311766547], [58.0, -1.0453549014455872], [57.0, -0.552968363468493]], [\"M\", \"L\", \"L\", \"L\", \"L\", \"L\", \"L\", \"L\", \"Z\"]], [[[62.392101859651255, 0.0], [63.0, 0.0], [64.0, 0.0], [65.0, 0.0], [66.0, 0.0], [67.0, 0.0], [68.0, 0.0], [69.0, 0.0], [70.0, 0.0], [70.5915423882731, 0.0], [70.0, -0.26512288570809467], [69.0, -0.7339462170463271], [68.0, -0.9911232989224084], [67.0, -0.4835004643382084], [66.0, -1.5408345361886173], [65.0, -1.1599721643949465], [64.0, -0.18430140293354363], [63.0, -0.9063018333212274]], [\"M\", \"L\", \"L\", \"L\", \"L\", \"L\", \"L\", \"L\", \"L\", \"L\", \"L\", \"L\", \"L\", \"L\", \"L\", \"L\", \"L\", \"L\", \"Z\"]], [[[71.08224558956707, 0.0], [72.0, 0.0], [72.82988528837906, 0.0], [72.0, -2.04278285197154]], [\"M\", \"L\", \"L\", \"L\", \"Z\"]], [[[75.2592218016839, 0.0], [76.0, 0.0], [76.69903079875911, 0.0], [76.0, -1.0669921273416325]], [\"M\", \"L\", \"L\", \"L\", \"Z\"]], [[[77.48328887681282, 0.0], [78.0, 0.0], [78.77178645116608, 0.0], [78.0, -0.4911656322643528]], [\"M\", \"L\", \"L\", \"L\", \"Z\"]], [[[80.70127637638102, 0.0], [81.0, 0.0], [82.0, 0.0], [82.59162601589256, 0.0], [82.0, -0.7929326131221827], [81.0, -0.4238934661222753]], [\"M\", \"L\", \"L\", \"L\", \"L\", \"L\", \"Z\"]], [[[83.67010644749824, 0.0], [84.0, 0.0], [85.0, 0.0], [85.42644768314966, 0.0], [85.0, -0.897101901829843], [84.0, -0.269449334739816]], [\"M\", \"L\", \"L\", \"L\", \"L\", \"L\", \"Z\"]], [[[86.91081553044022, 0.0], [87.0, 0.0], [88.0, 0.0], [89.0, 0.0], [90.0, 0.0], [90.61461362688905, 0.0], [90.0, -1.4166719714899587], [89.0, -0.4648730453947434], [88.0, -0.3635271245128965], [87.0, -0.11814296415535025]], [\"M\", \"L\", \"L\", \"L\", \"L\", \"L\", \"L\", \"L\", \"L\", \"L\", \"Z\"]], [[[93.83947307481294, 0.0], [94.0, 0.0], [95.0, 0.0], [95.67822913719304, 0.0], [95.0, -0.9248293590574125], [94.0, -0.15189385914458492]], [\"M\", \"L\", \"L\", \"L\", \"L\", \"L\", \"Z\"]], [[[96.16449900418418, 0.0], [97.0, 0.0], [97.99816784267925, 0.0], [97.0, -2.2285150858129943]], [\"M\", \"L\", \"L\", \"L\", \"Z\"]]], \"edgecolors\": [\"#0000FF\"], \"edgewidths\": [1.0], \"offsets\": \"data01\", \"yindex\": 0, \"id\": \"el47754465330640\", \"pathtransforms\": [], \"pathcoordinates\": \"data\", \"offsetcoordinates\": \"display\", \"zorder\": 1, \"xindex\": 0, \"alphas\": [null], \"facecolors\": [\"#0000FF\"]}], \"xscale\": \"linear\", \"bbox\": [0.125, 0.125, 0.77500000000000002, 0.77500000000000002]}], \"height\": 160.0, \"width\": 320.0, \"plugins\": [{\"type\": \"reset\"}, {\"enabled\": false, \"button\": true, \"type\": \"zoom\"}, {\"enabled\": false, \"button\": true, \"type\": \"boxzoom\"}], \"data\": {\"data01\": [[0.0, 0.0]]}, \"id\": \"el47754445539984\"});\n",
        "            })\n",
        "         });\n",
        "}\n",
        "</script>"
       ],
       "metadata": {},
       "output_type": "display_data",
       "png": "[encoded data removed]",
       "text": [
        "<matplotlib.figure.Figure at 0x108f98e90>"
       ]
      }
     ],
     "prompt_number": 21
    },
    {
     "cell_type": "code",
     "collapsed": false,
     "input": [
      "from map_notebook import * # local functions"
     ],
     "language": "python",
     "metadata": {},
     "outputs": [
      {
       "ename": "ImportError",
       "evalue": "No module named map_notebook",
       "output_type": "pyerr",
       "traceback": [
        "\u001b[0;31m---------------------------------------------------------------------------\u001b[0m\n\u001b[0;31mImportError\u001b[0m                               Traceback (most recent call last)",
        "\u001b[0;32m<ipython-input-22-67667b72cf03>\u001b[0m in \u001b[0;36m<module>\u001b[0;34m()\u001b[0m\n\u001b[0;32m----> 1\u001b[0;31m \u001b[0;32mfrom\u001b[0m \u001b[0mmap_notebook\u001b[0m \u001b[0;32mimport\u001b[0m \u001b[0;34m*\u001b[0m \u001b[0;31m# local functions\u001b[0m\u001b[0;34m\u001b[0m\u001b[0m\n\u001b[0m",
        "\u001b[0;31mImportError\u001b[0m: No module named map_notebook"
       ]
      }
     ],
     "prompt_number": 22
    },
    {
     "cell_type": "code",
     "collapsed": false,
     "input": [
      "map = folium.Map(location=[-13.8333, -171.7500], zoom_start=10) # can also use MapBox tiles if API key\n",
      "#map = folium.Map(location=[-13.8333, -171.7500], zoom_start=10, tiles='Mapbox', API_key='XXXX')"
     ],
     "language": "python",
     "metadata": {},
     "outputs": []
    },
    {
     "cell_type": "code",
     "collapsed": false,
     "input": [
      "map.circle_marker(location=[-13.8333, -171.7500], popup=textpop, fill_color='#FF0000', line_color=None, radius=3000)\n",
      "map.circle_marker(location=[-13.9, -171.7400], popup=textpop, fill_color='#FF0000', line_color=None, radius=2000)"
     ],
     "language": "python",
     "metadata": {},
     "outputs": []
    },
    {
     "cell_type": "code",
     "collapsed": false,
     "input": [
      "inline_map(map)"
     ],
     "language": "python",
     "metadata": {},
     "outputs": []
    },
    {
     "cell_type": "code",
     "collapsed": false,
     "input": [],
     "language": "python",
     "metadata": {},
     "outputs": []
    }
   ],
   "metadata": {}
  }
 ]
}